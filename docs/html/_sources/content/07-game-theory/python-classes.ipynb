{
 "cells": [
  {
   "cell_type": "markdown",
   "metadata": {},
   "source": [
    "# Python Classes\n",
    "\n",
    "Because Python is an [**object-oriented** programming language](https://en.wikipedia.org/wiki/Object-oriented_programming), you can create custom structures for storing data and methods called **classes**. A class represents an object and stores variables related to and functions that operate on that object. You're already familiar with Python classes, even if you don't know it: the `Table`s you work with in Data 8 are Python classes, as are NumPy arrays.\n",
    "\n",
    "We use classes because they allow us to store data in a rigorously structured way and provide standardized methods of accessing and interacting with that data. For example, let's say you want to create a program that manages a person's banking information. You need to store their name, account number, and balance. You might do something like create an array for each individual, where the first element is their name, the second is their account number, and the third is their balance:\n",
    "\n",
    "```python\n",
    "account1 = make_array(\"Jane Doe\", 123456, 100)\n",
    "account2 = make_array(\"John Doe\", 234567, 80)\n",
    "```\n",
    "\n",
    "But what happens if you need to track more data? Or suppose the structure of this data changes? Then you need to go to _every_ place where you access an element of the array and update it! It's really easy to forget things like this or to have instances fall through the cracks. Instead, we might create an `Account` class, so that whenever we need to update the structure, we need only do so once. (This is a very simplified version of a complex topic called [data abstraction](http://composingprograms.com/pages/22-data-abstraction.html) that demonstrates the need for complex, templated data structures and methods of accessing their data without violating [abstraction barriers](http://composingprograms.com/pages/22-data-abstraction.html#abstraction-barriers).)\n",
    "\n",
    "Some terminology: a **class** is the abstract definition of one such data structure, the definition from which class instances are created. When refer to an **instance**, we mean a single copy of one of these objects. It's kind-of like cookies and cookie cutters: the class is the cookie cutter, the template from which we make instances, the cookies. Think about tables: `Table` is the class from which we create table instances:\n",
    "\n",
    "```python\n",
    "Table # this is the class\n",
    "tbl = Table() # this is an instance\n",
    "```\n",
    "\n",
    "Instances are created by calling the **constructor** (more below) as if it were a function (e.g. `Table()`)."
   ]
  },
  {
   "cell_type": "markdown",
   "metadata": {},
   "source": [
    "## Creating Instances"
   ]
  },
  {
   "cell_type": "markdown",
   "metadata": {},
   "source": [
    "Classes can be created using a `class` statement. Inside the statement, you put the variables and methods that define the class. The first and most important of these methods is the `__init__` method which is called when an instance of a class is created. `__init__` is an example of Python's [dunder (double-underscore) methods](https://www.geeksforgeeks.org/dunder-magic-methods-python/), which are used to allow classes to interact with built-in functions and operators.\n",
    "\n",
    "The `__init__` method should take any arguments needed for the class and create all of the _instance variables_ that the instance tracks. Consider the `Car` class:"
   ]
  },
  {
   "cell_type": "code",
   "execution_count": 10,
   "metadata": {},
   "outputs": [],
   "source": [
    "class Car:\n",
    "    def __init__(self, make, model, year, color):\n",
    "        self.make = make\n",
    "        self.model = model\n",
    "        self.year = year\n",
    "        self.color = color"
   ]
  },
  {
   "cell_type": "markdown",
   "metadata": {},
   "source": [
    "Note that the first argument to the `__init__` method is a variable called `self`; this argument will be filled by Python with the instance of class that is being called. For example, when we call an instance's **method** (a function included in the class), we might have something like:\n",
    "\n",
    "```python\n",
    "class Foo:\n",
    "    def bar(self):\n",
    "        return None\n",
    "\n",
    "foo = Foo()\n",
    "foo.bar()\n",
    "```\n",
    "\n",
    "When we run `foo.bar()`, the function `Foo.bar` is called and the first argument (`self`) is filled with the instance `foo`. \n",
    "\n",
    "In the `__init__` method (or any method, for that matter), we create instance variables (variables tied to a single instance of a class) using `<instance>.<variable name>` syntax, e.g.\n",
    "\n",
    "```python\n",
    "self.some_variable = \"some value\"\n",
    "```\n",
    "\n",
    "If we're outside of a method, we can use the same syntax using the variable name:\n",
    "\n",
    "```python\n",
    "foo.some_variable = \"some value\"\n",
    "```\n",
    "\n",
    "When you create a `Car`, `Car.__init__` is called by Python. We can create a `Car` and access the values of its instance variables using the dot syntax."
   ]
  },
  {
   "cell_type": "code",
   "execution_count": 11,
   "metadata": {},
   "outputs": [
    {
     "data": {
      "text/plain": [
       "'Honda'"
      ]
     },
     "execution_count": 11,
     "metadata": {},
     "output_type": "execute_result"
    }
   ],
   "source": [
    "car = Car(\"Honda\", \"Civic\", 2018, \"blue\")\n",
    "car.make"
   ]
  },
  {
   "cell_type": "markdown",
   "metadata": {},
   "source": [
    "## Class Representations"
   ]
  },
  {
   "cell_type": "markdown",
   "metadata": {},
   "source": [
    "Now let's see what our `car` object (an instance of the `Car` class) looks like."
   ]
  },
  {
   "cell_type": "code",
   "execution_count": 12,
   "metadata": {},
   "outputs": [
    {
     "data": {
      "text/plain": [
       "<__main__.Car at 0x10848c358>"
      ]
     },
     "execution_count": 12,
     "metadata": {},
     "output_type": "execute_result"
    }
   ],
   "source": [
    "car"
   ]
  },
  {
   "cell_type": "markdown",
   "metadata": {},
   "source": [
    "Hmm, that representation isn't very descriptive. Another dunder method of Python is `__repr__`, which defines a string representation of an object. Let's define one for our `Car` class."
   ]
  },
  {
   "cell_type": "code",
   "execution_count": 13,
   "metadata": {},
   "outputs": [],
   "source": [
    "class Car:\n",
    "    def __init__(self, make, model, year, color):\n",
    "        self.make = make\n",
    "        self.model = model\n",
    "        self.year = year\n",
    "        self.color = color\n",
    "        \n",
    "    def __repr__(self):\n",
    "        return self.color + \" \" + str(self.year) + \" \" +self.make + \" \" + self.model"
   ]
  },
  {
   "cell_type": "markdown",
   "metadata": {},
   "source": [
    "Now that we have defined `Car.__repr__`, we can get a nicer representation of `car`."
   ]
  },
  {
   "cell_type": "code",
   "execution_count": 14,
   "metadata": {},
   "outputs": [
    {
     "data": {
      "text/plain": [
       "blue 2018 Honda Civic"
      ]
     },
     "execution_count": 14,
     "metadata": {},
     "output_type": "execute_result"
    }
   ],
   "source": [
    "car = Car(\"Honda\", \"Civic\", 2018, \"blue\")\n",
    "car"
   ]
  },
  {
   "cell_type": "markdown",
   "metadata": {},
   "source": [
    "## Operators"
   ]
  },
  {
   "cell_type": "markdown",
   "metadata": {},
   "source": [
    "Now let's create two of the same cars and compare them. They should be equal, right...?"
   ]
  },
  {
   "cell_type": "code",
   "execution_count": 15,
   "metadata": {},
   "outputs": [
    {
     "data": {
      "text/plain": [
       "False"
      ]
     },
     "execution_count": 15,
     "metadata": {},
     "output_type": "execute_result"
    }
   ],
   "source": [
    "car_1 = Car(\"Honda\", \"Civic\", 2018, \"blue\")\n",
    "car_2 = Car(\"Honda\", \"Civic\", 2018, \"blue\")\n",
    "\n",
    "car_1 == car_2"
   ]
  },
  {
   "cell_type": "markdown",
   "metadata": {},
   "source": [
    "They aren't equal! That's because, by default, the custom classes are only equal if they are the *same instance*, so `car_1 == car_1` is `True` but `car_1 == car_2` is `False`. For this reason, we need to define the `__eq__` dunder method of `Car`, which returns `True` only if the other object is a `Car` (determined using the `isinstance` function) and has the same four attributes as the current car."
   ]
  },
  {
   "cell_type": "code",
   "execution_count": 16,
   "metadata": {},
   "outputs": [],
   "source": [
    "class Car:\n",
    "    def __init__(self, make, model, year, color):\n",
    "        self.make = make\n",
    "        self.model = model\n",
    "        self.year = year\n",
    "        self.color = color\n",
    "        \n",
    "    def __repr__(self):\n",
    "        return f\"{self.color} {self.year} {self.make} {self.model}\"\n",
    "    \n",
    "    def __eq__(self, other):\n",
    "        if isinstance(other, Car):\n",
    "            return self.make == other.make and self.model == other.model and \\\n",
    "                self.year == other.year and self.color == other.color\n",
    "        return False        "
   ]
  },
  {
   "cell_type": "markdown",
   "metadata": {},
   "source": [
    "Now our call from above will work:"
   ]
  },
  {
   "cell_type": "code",
   "execution_count": 17,
   "metadata": {},
   "outputs": [
    {
     "data": {
      "text/plain": [
       "True"
      ]
     },
     "execution_count": 17,
     "metadata": {},
     "output_type": "execute_result"
    }
   ],
   "source": [
    "car_1 = Car(\"Honda\", \"Civic\", 2018, \"blue\")\n",
    "car_2 = Car(\"Honda\", \"Civic\", 2018, \"blue\")\n",
    "\n",
    "car_1 == car_2"
   ]
  },
  {
   "cell_type": "markdown",
   "metadata": {},
   "source": [
    "Other important dunder methods include\n",
    "\n",
    "| Method Name | Description |\n",
    "|-----|-----|\n",
    "| `__str__` | the string representation of an object |\n",
    "| `__len__` | length of an object (`len(obj)` |\n",
    "| `__lt__`, `__gt__`, `__lte__`, `__gte__` | less than, greater than, less than or equal to, and greater than or equal to operators, resp. |\n",
    "| `__hash__` | [hash function](https://en.wikipedia.org/wiki/Hash_function) value (`hash(obj)`) |\n",
    "| `__getitem__`, `__setitem__` | getter and setter (resp.) for indexes (`obj[idx]`) |\n",
    "| `__getattr__`, `__setattr__` | getter and setter (resp.) for dot syntax (`obj.attr`) |\n",
    "\n",
    "Note that when using comparison operators the object to the **left** of the operator has its comparison operator method called. In the below example, the first comparison calls `point_1.__lt__` and the second calls `point_2.__lt__`.\n",
    "\n",
    "```python\n",
    "point_1 = Point()\n",
    "point_2 = Point()\n",
    "\n",
    "point_1 < point_2      # calls point_1.__lt__\n",
    "point_2 < point_1      # calls point_2.__lt__\n",
    "```"
   ]
  },
  {
   "cell_type": "markdown",
   "metadata": {},
   "source": [
    "## Instance Methods"
   ]
  },
  {
   "cell_type": "markdown",
   "metadata": {},
   "source": [
    "Now let's define some methods for a `Car`. We'll add a few more instance variables:\n",
    "\n",
    "* `car.mileage` is the number of miles driven by the car\n",
    "* `car.gas` is number of gallons of gas in the tank\n",
    "* `car.mpg` is the number of miles to a gallon that the car gets.\n",
    "\n",
    "Note that `car.mileage` and `car.gas` are initialized to 0 when we create the car in `__init__`. We'll first define the `fill_tank` method, which fills the gas tank to 10 gallons."
   ]
  },
  {
   "cell_type": "code",
   "execution_count": 18,
   "metadata": {},
   "outputs": [],
   "source": [
    "class Car:\n",
    "    def __init__(self, make, model, year, color, mpg):\n",
    "        self.make = make\n",
    "        self.model = model\n",
    "        self.year = year\n",
    "        self.color = color\n",
    "        self.mpg = mpg\n",
    "        self.mileage =  0\n",
    "        self.gas = 0\n",
    "        \n",
    "    def __repr__(self):\n",
    "        return f\"{self.color} {self.year} {self.make} {self.model}\"\n",
    "    \n",
    "    def __eq__(self, other):\n",
    "        if isinstance(other, Car):\n",
    "            return self.make == other.make and self.model == other.model and \\\n",
    "                self.year == other.year and self.color == other.color\n",
    "        return False\n",
    "    \n",
    "    def fill_tank(self):\n",
    "        self.gas = 10"
   ]
  },
  {
   "cell_type": "markdown",
   "metadata": {},
   "source": [
    "We can create a car and fill its take by calling `car.fill_tank`."
   ]
  },
  {
   "cell_type": "code",
   "execution_count": 19,
   "metadata": {},
   "outputs": [
    {
     "data": {
      "text/plain": [
       "10"
      ]
     },
     "execution_count": 19,
     "metadata": {},
     "output_type": "execute_result"
    }
   ],
   "source": [
    "car = Car(\"Honda\", \"Civic\", 2018, \"blue\", 18)\n",
    "car.fill_tank()\n",
    "car.gas"
   ]
  },
  {
   "cell_type": "markdown",
   "metadata": {},
   "source": [
    "### Assertions"
   ]
  },
  {
   "cell_type": "markdown",
   "metadata": {},
   "source": [
    "Now we'll define the `car.drive` method that drives `miles` miles and ensures that we have enough gas to drive that far by throwing an `AssertionError` if we don't. \n",
    "\n",
    "We throw assertion errors using an `assert` statement which takes two arguments: a boolean expression and a string telling the user what caused the error. For example, if we want to make sure that a string has no spaces, we might write\n",
    "\n",
    "```python\n",
    "assert \" \" not in string, \"Spaces found in string\"\n",
    "```\n",
    "\n",
    "Then, if `string` has a space, the user would see:"
   ]
  },
  {
   "cell_type": "code",
   "execution_count": 20,
   "metadata": {},
   "outputs": [
    {
     "ename": "AssertionError",
     "evalue": "Spaces found in string",
     "output_type": "error",
     "traceback": [
      "\u001b[0;31m---------------------------------------------------------------------------\u001b[0m",
      "\u001b[0;31mAssertionError\u001b[0m                            Traceback (most recent call last)",
      "\u001b[0;32m<ipython-input-20-18b8ef0eb9ac>\u001b[0m in \u001b[0;36m<module>\u001b[0;34m()\u001b[0m\n\u001b[1;32m      1\u001b[0m \u001b[0mstring\u001b[0m \u001b[0;34m=\u001b[0m \u001b[0;34m\"some string\"\u001b[0m\u001b[0;34m\u001b[0m\u001b[0m\n\u001b[0;32m----> 2\u001b[0;31m \u001b[0;32massert\u001b[0m \u001b[0;34m\" \"\u001b[0m \u001b[0;32mnot\u001b[0m \u001b[0;32min\u001b[0m \u001b[0mstring\u001b[0m\u001b[0;34m,\u001b[0m \u001b[0;34m\"Spaces found in string\"\u001b[0m\u001b[0;34m\u001b[0m\u001b[0m\n\u001b[0m",
      "\u001b[0;31mAssertionError\u001b[0m: Spaces found in string"
     ]
    }
   ],
   "source": [
    "string = \"some string\"\n",
    "assert \" \" not in string, \"Spaces found in string\""
   ]
  },
  {
   "cell_type": "markdown",
   "metadata": {},
   "source": [
    "### Reassignment Operators"
   ]
  },
  {
   "cell_type": "markdown",
   "metadata": {},
   "source": [
    "Another new syntax needed for the `Car.drive` method is `+=` and `-=`. An operator followed by `=` tells Python to perform the operation combining the values on the left and right sides of the operator and then reassigns this value to the variable on the left side. This means that the expression `x += 2` is the exact same as `x = x + 2`."
   ]
  },
  {
   "cell_type": "code",
   "execution_count": 21,
   "metadata": {},
   "outputs": [
    {
     "name": "stdout",
     "output_type": "stream",
     "text": [
      "3\n",
      "-1\n",
      "-100\n",
      "1.0\n"
     ]
    }
   ],
   "source": [
    "x = 2\n",
    "\n",
    "x += 1\n",
    "print(x) # x is now 3\n",
    "\n",
    "x -= 4\n",
    "print(x) # x is now -1\n",
    "\n",
    "x *= 100\n",
    "print(x) # x is now -100\n",
    "\n",
    "x /= -100\n",
    "print(x) # x is now 1"
   ]
  },
  {
   "cell_type": "markdown",
   "metadata": {},
   "source": [
    "Now let's define `Car.drive`. "
   ]
  },
  {
   "cell_type": "code",
   "execution_count": 22,
   "metadata": {},
   "outputs": [],
   "source": [
    "class Car:\n",
    "    def __init__(self, make, model, year, color, mpg):\n",
    "        self.make = make\n",
    "        self.model = model\n",
    "        self.year = year\n",
    "        self.color = color\n",
    "        self.mpg = mpg\n",
    "        self.mileage =  0\n",
    "        self.gas = 0\n",
    "        \n",
    "    def __repr__(self):\n",
    "        return f\"{self.color} {self.year} {self.make} {self.model}\"\n",
    "    \n",
    "    def __eq__(self, other):\n",
    "        if isinstance(other, Car):\n",
    "            return self.make == other.make and self.model == other.model and \\\n",
    "                self.year == other.year and self.color == other.color\n",
    "        return False\n",
    "    \n",
    "    def fill_tank(self):\n",
    "        self.gas = 10\n",
    "        \n",
    "    def drive(self, miles):\n",
    "        assert miles <= self.gas * self.mpg, f\"not enough gas to drive {self.miles} miles\"\n",
    "        self.mileage += miles\n",
    "        self.gas -= miles / self.mpg"
   ]
  },
  {
   "cell_type": "markdown",
   "metadata": {},
   "source": [
    "Let's drive our `Car` 100 miles."
   ]
  },
  {
   "cell_type": "code",
   "execution_count": 23,
   "metadata": {},
   "outputs": [
    {
     "data": {
      "text/plain": [
       "(100, 4.444444444444445)"
      ]
     },
     "execution_count": 23,
     "metadata": {},
     "output_type": "execute_result"
    }
   ],
   "source": [
    "car = Car(\"Honda\", \"Civic\", 2018, \"blue\", 18)\n",
    "car.fill_tank()\n",
    "car.drive(100)\n",
    "car.mileage, car.gas"
   ]
  },
  {
   "cell_type": "markdown",
   "metadata": {},
   "source": [
    "Now let's see how many miles we have left to drive by defining `car.miles_to_empty`."
   ]
  },
  {
   "cell_type": "code",
   "execution_count": 24,
   "metadata": {},
   "outputs": [
    {
     "data": {
      "text/plain": [
       "80.0"
      ]
     },
     "execution_count": 24,
     "metadata": {},
     "output_type": "execute_result"
    }
   ],
   "source": [
    "class Car:\n",
    "    def __init__(self, make, model, year, color, mpg):\n",
    "        self.make = make\n",
    "        self.model = model\n",
    "        self.year = year\n",
    "        self.color = color\n",
    "        self.mpg = mpg\n",
    "        self.mileage =  0\n",
    "        self.gas = 0\n",
    "        \n",
    "    def __repr__(self):\n",
    "        return f\"{self.color} {self.year} {self.make} {self.model}\"\n",
    "    \n",
    "    def __eq__(self, other):\n",
    "        if isinstance(other, Car):\n",
    "            return self.make == other.make and self.model == other.model and \\\n",
    "                self.year == other.year and self.color == other.color\n",
    "        return False\n",
    "    \n",
    "    def fill_tank(self):\n",
    "        self.gas = 10\n",
    "        \n",
    "    def drive(self, miles):\n",
    "        assert miles <= self.gas * self.mpg, f\"not enough gas to drive {self.mileage} miles\"\n",
    "        self.mileage += miles\n",
    "        self.gas -= miles / self.mpg\n",
    "        \n",
    "    def miles_to_empty(self):\n",
    "        return self.gas * self.mpg\n",
    "    \n",
    "car = Car(\"Honda\", \"Civic\", 2018, \"blue\", 18)\n",
    "car.fill_tank()\n",
    "car.drive(100)\n",
    "car.miles_to_empty()"
   ]
  },
  {
   "cell_type": "markdown",
   "metadata": {},
   "source": [
    "We have 80 miles left before we're empty, so we see that if we try to drive 90 miles, the car will thrown an error:"
   ]
  },
  {
   "cell_type": "code",
   "execution_count": 25,
   "metadata": {
    "scrolled": true
   },
   "outputs": [
    {
     "ename": "AssertionError",
     "evalue": "not enough gas to drive 100 miles",
     "output_type": "error",
     "traceback": [
      "\u001b[0;31m---------------------------------------------------------------------------\u001b[0m",
      "\u001b[0;31mAssertionError\u001b[0m                            Traceback (most recent call last)",
      "\u001b[0;32m<ipython-input-25-8ae22d6f2de2>\u001b[0m in \u001b[0;36m<module>\u001b[0;34m()\u001b[0m\n\u001b[0;32m----> 1\u001b[0;31m \u001b[0mcar\u001b[0m\u001b[0;34m.\u001b[0m\u001b[0mdrive\u001b[0m\u001b[0;34m(\u001b[0m\u001b[0;36m90\u001b[0m\u001b[0;34m)\u001b[0m\u001b[0;34m\u001b[0m\u001b[0m\n\u001b[0m",
      "\u001b[0;32m<ipython-input-24-e4c645b85ba9>\u001b[0m in \u001b[0;36mdrive\u001b[0;34m(self, miles)\u001b[0m\n\u001b[1;32m     21\u001b[0m \u001b[0;34m\u001b[0m\u001b[0m\n\u001b[1;32m     22\u001b[0m     \u001b[0;32mdef\u001b[0m \u001b[0mdrive\u001b[0m\u001b[0;34m(\u001b[0m\u001b[0mself\u001b[0m\u001b[0;34m,\u001b[0m \u001b[0mmiles\u001b[0m\u001b[0;34m)\u001b[0m\u001b[0;34m:\u001b[0m\u001b[0;34m\u001b[0m\u001b[0m\n\u001b[0;32m---> 23\u001b[0;31m         \u001b[0;32massert\u001b[0m \u001b[0mmiles\u001b[0m \u001b[0;34m<=\u001b[0m \u001b[0mself\u001b[0m\u001b[0;34m.\u001b[0m\u001b[0mgas\u001b[0m \u001b[0;34m*\u001b[0m \u001b[0mself\u001b[0m\u001b[0;34m.\u001b[0m\u001b[0mmpg\u001b[0m\u001b[0;34m,\u001b[0m \u001b[0;34mf\"not enough gas to drive {self.mileage} miles\"\u001b[0m\u001b[0;34m\u001b[0m\u001b[0m\n\u001b[0m\u001b[1;32m     24\u001b[0m         \u001b[0mself\u001b[0m\u001b[0;34m.\u001b[0m\u001b[0mmileage\u001b[0m \u001b[0;34m+=\u001b[0m \u001b[0mmiles\u001b[0m\u001b[0;34m\u001b[0m\u001b[0m\n\u001b[1;32m     25\u001b[0m         \u001b[0mself\u001b[0m\u001b[0;34m.\u001b[0m\u001b[0mgas\u001b[0m \u001b[0;34m-=\u001b[0m \u001b[0mmiles\u001b[0m \u001b[0;34m/\u001b[0m \u001b[0mself\u001b[0m\u001b[0;34m.\u001b[0m\u001b[0mmpg\u001b[0m\u001b[0;34m\u001b[0m\u001b[0m\n",
      "\u001b[0;31mAssertionError\u001b[0m: not enough gas to drive 100 miles"
     ]
    }
   ],
   "source": [
    "car.drive(90)"
   ]
  },
  {
   "cell_type": "markdown",
   "metadata": {},
   "source": [
    "For more information on Python classes, check out [Sections 2.5-2.7 of Composing Programs](http://composingprograms.com/pages/25-object-oriented-programming.html), the CS 61A/CS 88 textbook."
   ]
  },
  {
   "cell_type": "markdown",
   "metadata": {},
   "source": [
    " "
   ]
  }
 ],
 "metadata": {
  "kernelspec": {
   "display_name": "Python 3",
   "language": "python",
   "name": "python3"
  },
  "language_info": {
   "codemirror_mode": {
    "name": "ipython",
    "version": 3
   },
   "file_extension": ".py",
   "mimetype": "text/x-python",
   "name": "python",
   "nbconvert_exporter": "python",
   "pygments_lexer": "ipython3",
   "version": "3.6.5"
  }
 },
 "nbformat": 4,
 "nbformat_minor": 4
}
