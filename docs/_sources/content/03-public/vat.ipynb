{
 "cells": [
  {
   "cell_type": "code",
   "execution_count": 1,
   "metadata": {},
   "outputs": [],
   "source": [
    "import pandas as pd\n",
    "import matplotlib.pyplot as plt\n",
    "from datascience import *\n",
    "import numpy as np\n",
    "%matplotlib inline"
   ]
  },
  {
   "cell_type": "markdown",
   "metadata": {},
   "source": [
    "## An Example: VAT taxes in French Restaurants"
   ]
  },
  {
   "cell_type": "markdown",
   "metadata": {},
   "source": [
    "The dataset in this example is taken from Benzarti and Carloni's paper *Who Benefits from VAT cuts? Evidence from Large VAT Reform in France*. \n",
    "\n",
    "\n",
    "In July 2009, the Value Added Tax (VAT) rate for meals consumed in French sit-down restaurants was reduced from 19.6% to 5.5%. Since the VAT is charged directly to consumers, we will graph the demand curve pre and post tax to see the quantitative effects of the tax.\n",
    "\n",
    "The first few parts of this example go through some data wrangling procedures that ultimately allow us to get the data in a format we want. Do not worry too much if this has not yet been fully covered in Data 8; the concepts should be taught within the next couple weeks."
   ]
  },
  {
   "cell_type": "markdown",
   "metadata": {},
   "source": [
    "### Step 1: Reading in Data"
   ]
  },
  {
   "cell_type": "markdown",
   "metadata": {},
   "source": [
    "In `prices.csv`, we will see the average price of a sit-down meal in France across months from January 2006 to December 2011."
   ]
  },
  {
   "cell_type": "code",
   "execution_count": 172,
   "metadata": {},
   "outputs": [
    {
     "data": {
      "text/html": [
       "<table border=\"1\" class=\"dataframe\">\n",
       "    <thead>\n",
       "        <tr>\n",
       "            <th>year</th> <th>month</th> <th>price</th>\n",
       "        </tr>\n",
       "    </thead>\n",
       "    <tbody>\n",
       "        <tr>\n",
       "            <td>2003</td> <td>1    </td> <td>100.52</td>\n",
       "        </tr>\n",
       "        <tr>\n",
       "            <td>2003</td> <td>2    </td> <td>100.71</td>\n",
       "        </tr>\n",
       "        <tr>\n",
       "            <td>2003</td> <td>3    </td> <td>100.95</td>\n",
       "        </tr>\n",
       "        <tr>\n",
       "            <td>2003</td> <td>4    </td> <td>101.29</td>\n",
       "        </tr>\n",
       "        <tr>\n",
       "            <td>2003</td> <td>5    </td> <td>101.38</td>\n",
       "        </tr>\n",
       "        <tr>\n",
       "            <td>2003</td> <td>6    </td> <td>101.57</td>\n",
       "        </tr>\n",
       "        <tr>\n",
       "            <td>2003</td> <td>7    </td> <td>101.91</td>\n",
       "        </tr>\n",
       "        <tr>\n",
       "            <td>2003</td> <td>8    </td> <td>102.18</td>\n",
       "        </tr>\n",
       "        <tr>\n",
       "            <td>2003</td> <td>9    </td> <td>102.25</td>\n",
       "        </tr>\n",
       "        <tr>\n",
       "            <td>2003</td> <td>10   </td> <td>102.49</td>\n",
       "        </tr>\n",
       "    </tbody>\n",
       "</table>\n",
       "<p>... (98 rows omitted)</p>"
      ],
      "text/plain": [
       "year | month | price\n",
       "2003 | 1     | 100.52\n",
       "2003 | 2     | 100.71\n",
       "2003 | 3     | 100.95\n",
       "2003 | 4     | 101.29\n",
       "2003 | 5     | 101.38\n",
       "2003 | 6     | 101.57\n",
       "2003 | 7     | 101.91\n",
       "2003 | 8     | 102.18\n",
       "2003 | 9     | 102.25\n",
       "2003 | 10    | 102.49\n",
       "... (98 rows omitted)"
      ]
     },
     "execution_count": 172,
     "metadata": {},
     "output_type": "execute_result"
    }
   ],
   "source": [
    "prices = Table.read_table(\"prices.csv\")\n",
    "prices"
   ]
  },
  {
   "cell_type": "code",
   "execution_count": 130,
   "metadata": {},
   "outputs": [],
   "source": [
    "prices = prices.where(\"year\", are.above(2005))"
   ]
  },
  {
   "cell_type": "markdown",
   "metadata": {},
   "source": [
    "In `quantities.csv`, we will see the average price of a sit-down meal in France across months from January 1995 to April 2015. Note that the quantity value across time periods is indexed relative to the year 2010, in which the average quantity consumed was 100 in 2010. "
   ]
  },
  {
   "cell_type": "code",
   "execution_count": 173,
   "metadata": {},
   "outputs": [
    {
     "data": {
      "text/html": [
       "<table border=\"1\" class=\"dataframe\">\n",
       "    <thead>\n",
       "        <tr>\n",
       "            <th>year</th> <th>month</th> <th>quantity</th>\n",
       "        </tr>\n",
       "    </thead>\n",
       "    <tbody>\n",
       "        <tr>\n",
       "            <td>2015</td> <td>4    </td> <td>88.8    </td>\n",
       "        </tr>\n",
       "        <tr>\n",
       "            <td>2015</td> <td>3    </td> <td>86.8    </td>\n",
       "        </tr>\n",
       "        <tr>\n",
       "            <td>2015</td> <td>2    </td> <td>88.6    </td>\n",
       "        </tr>\n",
       "        <tr>\n",
       "            <td>2015</td> <td>1    </td> <td>88.6    </td>\n",
       "        </tr>\n",
       "        <tr>\n",
       "            <td>2014</td> <td>12   </td> <td>88.9    </td>\n",
       "        </tr>\n",
       "        <tr>\n",
       "            <td>2014</td> <td>11   </td> <td>89.3    </td>\n",
       "        </tr>\n",
       "        <tr>\n",
       "            <td>2014</td> <td>10   </td> <td>90.3    </td>\n",
       "        </tr>\n",
       "        <tr>\n",
       "            <td>2014</td> <td>9    </td> <td>89.5    </td>\n",
       "        </tr>\n",
       "        <tr>\n",
       "            <td>2014</td> <td>8    </td> <td>90.7    </td>\n",
       "        </tr>\n",
       "        <tr>\n",
       "            <td>2014</td> <td>7    </td> <td>89.1    </td>\n",
       "        </tr>\n",
       "    </tbody>\n",
       "</table>\n",
       "<p>... (234 rows omitted)</p>"
      ],
      "text/plain": [
       "year | month | quantity\n",
       "2015 | 4     | 88.8\n",
       "2015 | 3     | 86.8\n",
       "2015 | 2     | 88.6\n",
       "2015 | 1     | 88.6\n",
       "2014 | 12    | 88.9\n",
       "2014 | 11    | 89.3\n",
       "2014 | 10    | 90.3\n",
       "2014 | 9     | 89.5\n",
       "2014 | 8     | 90.7\n",
       "2014 | 7     | 89.1\n",
       "... (234 rows omitted)"
      ]
     },
     "execution_count": 173,
     "metadata": {},
     "output_type": "execute_result"
    }
   ],
   "source": [
    "quantities = Table.read_table(\"quantities.csv\")\n",
    "quantities"
   ]
  },
  {
   "cell_type": "markdown",
   "metadata": {},
   "source": [
    "Lastly, in `cpi.csv`, we have the data for the French Consumer Price Index (CPI). The CPI is also indexed, but this time relative to the yaer 1998. Having the CPI allows us to adjust for inflation, allowing us to calculate real prices. Below, we will calculate prices across time in terms of \"2010 dollars\", i.e. the real price of a meal if measured in 2010. "
   ]
  },
  {
   "cell_type": "code",
   "execution_count": 174,
   "metadata": {},
   "outputs": [
    {
     "data": {
      "text/html": [
       "<table border=\"1\" class=\"dataframe\">\n",
       "    <thead>\n",
       "        <tr>\n",
       "            <th>year</th> <th>cpi</th>\n",
       "        </tr>\n",
       "    </thead>\n",
       "    <tbody>\n",
       "        <tr>\n",
       "            <td>1998</td> <td>100   </td>\n",
       "        </tr>\n",
       "        <tr>\n",
       "            <td>1999</td> <td>100.5 </td>\n",
       "        </tr>\n",
       "        <tr>\n",
       "            <td>2000</td> <td>102.2 </td>\n",
       "        </tr>\n",
       "        <tr>\n",
       "            <td>2001</td> <td>103.9 </td>\n",
       "        </tr>\n",
       "        <tr>\n",
       "            <td>2002</td> <td>105.9 </td>\n",
       "        </tr>\n",
       "        <tr>\n",
       "            <td>2003</td> <td>108.1 </td>\n",
       "        </tr>\n",
       "        <tr>\n",
       "            <td>2004</td> <td>110.4 </td>\n",
       "        </tr>\n",
       "        <tr>\n",
       "            <td>2005</td> <td>112.4 </td>\n",
       "        </tr>\n",
       "        <tr>\n",
       "            <td>2006</td> <td>114.23</td>\n",
       "        </tr>\n",
       "        <tr>\n",
       "            <td>2007</td> <td>115.92</td>\n",
       "        </tr>\n",
       "    </tbody>\n",
       "</table>\n",
       "<p>... (7 rows omitted)</p>"
      ],
      "text/plain": [
       "year | cpi\n",
       "1998 | 100\n",
       "1999 | 100.5\n",
       "2000 | 102.2\n",
       "2001 | 103.9\n",
       "2002 | 105.9\n",
       "2003 | 108.1\n",
       "2004 | 110.4\n",
       "2005 | 112.4\n",
       "2006 | 114.23\n",
       "2007 | 115.92\n",
       "... (7 rows omitted)"
      ]
     },
     "execution_count": 174,
     "metadata": {},
     "output_type": "execute_result"
    }
   ],
   "source": [
    "cpi = Table.read_table(\"cpi.csv\")\n",
    "cpi"
   ]
  },
  {
   "cell_type": "markdown",
   "metadata": {},
   "source": [
    "### Step 2: Joining the Data"
   ]
  },
  {
   "cell_type": "markdown",
   "metadata": {},
   "source": [
    "We would like a way to combine our data, currently spread across 3 tables, into a single table. This will allow us to more easily conduct table operations on it. Since all of our tables are based on time-series data, we can join them across shared time attributes. \n",
    "\n",
    "First, we join `price` with `quantities`. Notably, 2 columns (`year` and `month`) must match for us in both tables to join the data correctly together. In order to join on 2 columns instead of just 1, we provide a list of column labels."
   ]
  },
  {
   "cell_type": "code",
   "execution_count": 175,
   "metadata": {},
   "outputs": [
    {
     "data": {
      "text/html": [
       "<table border=\"1\" class=\"dataframe\">\n",
       "    <thead>\n",
       "        <tr>\n",
       "            <th>year</th> <th>month</th> <th>price</th> <th>quantity</th>\n",
       "        </tr>\n",
       "    </thead>\n",
       "    <tbody>\n",
       "        <tr>\n",
       "            <td>2003</td> <td>1    </td> <td>100.52</td> <td>108.7   </td>\n",
       "        </tr>\n",
       "        <tr>\n",
       "            <td>2003</td> <td>2    </td> <td>100.71</td> <td>108     </td>\n",
       "        </tr>\n",
       "        <tr>\n",
       "            <td>2003</td> <td>3    </td> <td>100.95</td> <td>109     </td>\n",
       "        </tr>\n",
       "        <tr>\n",
       "            <td>2003</td> <td>4    </td> <td>101.29</td> <td>108.4   </td>\n",
       "        </tr>\n",
       "        <tr>\n",
       "            <td>2003</td> <td>5    </td> <td>101.38</td> <td>108.7   </td>\n",
       "        </tr>\n",
       "        <tr>\n",
       "            <td>2003</td> <td>6    </td> <td>101.57</td> <td>108.6   </td>\n",
       "        </tr>\n",
       "        <tr>\n",
       "            <td>2003</td> <td>7    </td> <td>101.91</td> <td>109.4   </td>\n",
       "        </tr>\n",
       "        <tr>\n",
       "            <td>2003</td> <td>8    </td> <td>102.18</td> <td>110.5   </td>\n",
       "        </tr>\n",
       "        <tr>\n",
       "            <td>2003</td> <td>9    </td> <td>102.25</td> <td>113.8   </td>\n",
       "        </tr>\n",
       "        <tr>\n",
       "            <td>2003</td> <td>10   </td> <td>102.49</td> <td>107.8   </td>\n",
       "        </tr>\n",
       "    </tbody>\n",
       "</table>\n",
       "<p>... (98 rows omitted)</p>"
      ],
      "text/plain": [
       "year | month | price  | quantity\n",
       "2003 | 1     | 100.52 | 108.7\n",
       "2003 | 2     | 100.71 | 108\n",
       "2003 | 3     | 100.95 | 109\n",
       "2003 | 4     | 101.29 | 108.4\n",
       "2003 | 5     | 101.38 | 108.7\n",
       "2003 | 6     | 101.57 | 108.6\n",
       "2003 | 7     | 101.91 | 109.4\n",
       "2003 | 8     | 102.18 | 110.5\n",
       "2003 | 9     | 102.25 | 113.8\n",
       "2003 | 10    | 102.49 | 107.8\n",
       "... (98 rows omitted)"
      ]
     },
     "execution_count": 175,
     "metadata": {},
     "output_type": "execute_result"
    }
   ],
   "source": [
    "prices_and_quantities = prices.join([\"year\", \"month\"], quantities, [\"year\", \"month\"])\n",
    "prices_and_quantities"
   ]
  },
  {
   "cell_type": "markdown",
   "metadata": {},
   "source": [
    "Now, we join this table with CPI data to create a final table called `meals`. Here, since CPI is measured annually, we only join them on the shared `year` column."
   ]
  },
  {
   "cell_type": "code",
   "execution_count": 134,
   "metadata": {},
   "outputs": [
    {
     "data": {
      "text/html": [
       "<table border=\"1\" class=\"dataframe\">\n",
       "    <thead>\n",
       "        <tr>\n",
       "            <th>year</th> <th>month</th> <th>price</th> <th>quantity</th> <th>cpi</th>\n",
       "        </tr>\n",
       "    </thead>\n",
       "    <tbody>\n",
       "        <tr>\n",
       "            <td>2006</td> <td>1    </td> <td>108.49</td> <td>107     </td> <td>114.23</td>\n",
       "        </tr>\n",
       "        <tr>\n",
       "            <td>2006</td> <td>2    </td> <td>108.76</td> <td>105.4   </td> <td>114.23</td>\n",
       "        </tr>\n",
       "        <tr>\n",
       "            <td>2006</td> <td>3    </td> <td>109.02</td> <td>105     </td> <td>114.23</td>\n",
       "        </tr>\n",
       "        <tr>\n",
       "            <td>2006</td> <td>4    </td> <td>109.28</td> <td>105.5   </td> <td>114.23</td>\n",
       "        </tr>\n",
       "        <tr>\n",
       "            <td>2006</td> <td>5    </td> <td>109.43</td> <td>105.7   </td> <td>114.23</td>\n",
       "        </tr>\n",
       "        <tr>\n",
       "            <td>2006</td> <td>6    </td> <td>109.69</td> <td>103.4   </td> <td>114.23</td>\n",
       "        </tr>\n",
       "        <tr>\n",
       "            <td>2006</td> <td>7    </td> <td>109.82</td> <td>105.8   </td> <td>114.23</td>\n",
       "        </tr>\n",
       "        <tr>\n",
       "            <td>2006</td> <td>8    </td> <td>110.18</td> <td>105.9   </td> <td>114.23</td>\n",
       "        </tr>\n",
       "        <tr>\n",
       "            <td>2006</td> <td>9    </td> <td>110.27</td> <td>109.2   </td> <td>114.23</td>\n",
       "        </tr>\n",
       "        <tr>\n",
       "            <td>2006</td> <td>10   </td> <td>110.64</td> <td>109.3   </td> <td>114.23</td>\n",
       "        </tr>\n",
       "    </tbody>\n",
       "</table>\n",
       "<p>... (62 rows omitted)</p>"
      ],
      "text/plain": [
       "year | month | price  | quantity | cpi\n",
       "2006 | 1     | 108.49 | 107      | 114.23\n",
       "2006 | 2     | 108.76 | 105.4    | 114.23\n",
       "2006 | 3     | 109.02 | 105      | 114.23\n",
       "2006 | 4     | 109.28 | 105.5    | 114.23\n",
       "2006 | 5     | 109.43 | 105.7    | 114.23\n",
       "2006 | 6     | 109.69 | 103.4    | 114.23\n",
       "2006 | 7     | 109.82 | 105.8    | 114.23\n",
       "2006 | 8     | 110.18 | 105.9    | 114.23\n",
       "2006 | 9     | 110.27 | 109.2    | 114.23\n",
       "2006 | 10    | 110.64 | 109.3    | 114.23\n",
       "... (62 rows omitted)"
      ]
     },
     "execution_count": 134,
     "metadata": {},
     "output_type": "execute_result"
    }
   ],
   "source": [
    "meals = prices_and_quantities.join(\"year\", cpi, \"year\")\n",
    "meals"
   ]
  },
  {
   "cell_type": "markdown",
   "metadata": {},
   "source": [
    "Note that since the `prices` table is already sorted in chronological order, `meals` will also be sorted the same way."
   ]
  },
  {
   "cell_type": "markdown",
   "metadata": {},
   "source": [
    "### Step 3: Cleaning the Data"
   ]
  },
  {
   "cell_type": "markdown",
   "metadata": {},
   "source": [
    "Let's first 'normalize' the prices by controlling for inflation, using 2010 as a 'base year'. In 2010, the CPI was 121.1:"
   ]
  },
  {
   "cell_type": "code",
   "execution_count": 135,
   "metadata": {},
   "outputs": [
    {
     "data": {
      "text/html": [
       "<table border=\"1\" class=\"dataframe\">\n",
       "    <thead>\n",
       "        <tr>\n",
       "            <th>year</th> <th>cpi</th>\n",
       "        </tr>\n",
       "    </thead>\n",
       "    <tbody>\n",
       "        <tr>\n",
       "            <td>2010</td> <td>121.1</td>\n",
       "        </tr>\n",
       "    </tbody>\n",
       "</table>"
      ],
      "text/plain": [
       "year | cpi\n",
       "2010 | 121.1"
      ]
     },
     "execution_count": 135,
     "metadata": {},
     "output_type": "execute_result"
    }
   ],
   "source": [
    "cpi.where(\"year\", 2010)"
   ]
  },
  {
   "cell_type": "code",
   "execution_count": 136,
   "metadata": {},
   "outputs": [
    {
     "data": {
      "text/plain": [
       "121.1"
      ]
     },
     "execution_count": 136,
     "metadata": {},
     "output_type": "execute_result"
    }
   ],
   "source": [
    "cpi_2010 = cpi.where(\"year\", 2010).column(\"cpi\").item(0)\n",
    "cpi_2010"
   ]
  },
  {
   "cell_type": "markdown",
   "metadata": {},
   "source": [
    "That means to get a year $t$'s prices in 2010 dollars, we must normalize by dividing by that year's CPI and multiplying by the 2010 CPI. Intuitively, we do this to 'cancel' out the units measured in year $t$ dollars and convert it to 2010 dollars.\n",
    "$$\\text{Price in 2010 dollars} = \\text{Price in year $t$ dollars} \\times \\frac{\\text{CPI}_{2010}}{\\text{CPI}_t}$$\n",
    "Now, we calculate this column and add it back into the `meals` table:"
   ]
  },
  {
   "cell_type": "code",
   "execution_count": 137,
   "metadata": {},
   "outputs": [
    {
     "data": {
      "text/html": [
       "<table border=\"1\" class=\"dataframe\">\n",
       "    <thead>\n",
       "        <tr>\n",
       "            <th>year</th> <th>month</th> <th>price</th> <th>quantity</th> <th>cpi</th> <th>adj_price</th>\n",
       "        </tr>\n",
       "    </thead>\n",
       "    <tbody>\n",
       "        <tr>\n",
       "            <td>2006</td> <td>1    </td> <td>108.49</td> <td>107     </td> <td>114.23</td> <td>115.015  </td>\n",
       "        </tr>\n",
       "        <tr>\n",
       "            <td>2006</td> <td>2    </td> <td>108.76</td> <td>105.4   </td> <td>114.23</td> <td>115.301  </td>\n",
       "        </tr>\n",
       "        <tr>\n",
       "            <td>2006</td> <td>3    </td> <td>109.02</td> <td>105     </td> <td>114.23</td> <td>115.577  </td>\n",
       "        </tr>\n",
       "        <tr>\n",
       "            <td>2006</td> <td>4    </td> <td>109.28</td> <td>105.5   </td> <td>114.23</td> <td>115.852  </td>\n",
       "        </tr>\n",
       "        <tr>\n",
       "            <td>2006</td> <td>5    </td> <td>109.43</td> <td>105.7   </td> <td>114.23</td> <td>116.011  </td>\n",
       "        </tr>\n",
       "        <tr>\n",
       "            <td>2006</td> <td>6    </td> <td>109.69</td> <td>103.4   </td> <td>114.23</td> <td>116.287  </td>\n",
       "        </tr>\n",
       "        <tr>\n",
       "            <td>2006</td> <td>7    </td> <td>109.82</td> <td>105.8   </td> <td>114.23</td> <td>116.425  </td>\n",
       "        </tr>\n",
       "        <tr>\n",
       "            <td>2006</td> <td>8    </td> <td>110.18</td> <td>105.9   </td> <td>114.23</td> <td>116.806  </td>\n",
       "        </tr>\n",
       "        <tr>\n",
       "            <td>2006</td> <td>9    </td> <td>110.27</td> <td>109.2   </td> <td>114.23</td> <td>116.902  </td>\n",
       "        </tr>\n",
       "        <tr>\n",
       "            <td>2006</td> <td>10   </td> <td>110.64</td> <td>109.3   </td> <td>114.23</td> <td>117.294  </td>\n",
       "        </tr>\n",
       "    </tbody>\n",
       "</table>\n",
       "<p>... (62 rows omitted)</p>"
      ],
      "text/plain": [
       "year | month | price  | quantity | cpi    | adj_price\n",
       "2006 | 1     | 108.49 | 107      | 114.23 | 115.015\n",
       "2006 | 2     | 108.76 | 105.4    | 114.23 | 115.301\n",
       "2006 | 3     | 109.02 | 105      | 114.23 | 115.577\n",
       "2006 | 4     | 109.28 | 105.5    | 114.23 | 115.852\n",
       "2006 | 5     | 109.43 | 105.7    | 114.23 | 116.011\n",
       "2006 | 6     | 109.69 | 103.4    | 114.23 | 116.287\n",
       "2006 | 7     | 109.82 | 105.8    | 114.23 | 116.425\n",
       "2006 | 8     | 110.18 | 105.9    | 114.23 | 116.806\n",
       "2006 | 9     | 110.27 | 109.2    | 114.23 | 116.902\n",
       "2006 | 10    | 110.64 | 109.3    | 114.23 | 117.294\n",
       "... (62 rows omitted)"
      ]
     },
     "execution_count": 137,
     "metadata": {},
     "output_type": "execute_result"
    }
   ],
   "source": [
    "adjusted_price = meals.column(\"price\") * cpi_2010 / meals.column(\"cpi\")\n",
    "meals = meals.with_columns(\"adj_price\", adjusted_price)\n",
    "meals"
   ]
  },
  {
   "cell_type": "markdown",
   "metadata": {},
   "source": [
    "Next, we will break up the table into 2 tables, corresponding to before the tax and after the tax. Recall the tax was reduced beginning in July 2009. \n",
    "\n",
    "Unfortunately, there isn't a quick and clean way using `.where` to filter out our data into 2 tables. For example, using `meals.where(\"year\", are.below(2010)).where(\"month\", are.below(7))` to get all pre-tax periods will return observations where **both** the month is less than 7 and the year is less than 2010, so that a time period like November 2008 will not be included.\n",
    "\n",
    "Instead, we resort to a slightly 'hacky' way to split up our data by adding a 'time index' column, since the data is already sorted."
   ]
  },
  {
   "cell_type": "code",
   "execution_count": 138,
   "metadata": {},
   "outputs": [
    {
     "data": {
      "text/html": [
       "<table border=\"1\" class=\"dataframe\">\n",
       "    <thead>\n",
       "        <tr>\n",
       "            <th>year</th> <th>month</th> <th>price</th> <th>quantity</th> <th>cpi</th> <th>adj_price</th> <th>time index</th>\n",
       "        </tr>\n",
       "    </thead>\n",
       "    <tbody>\n",
       "        <tr>\n",
       "            <td>2006</td> <td>1    </td> <td>108.49</td> <td>107     </td> <td>114.23</td> <td>115.015  </td> <td>0         </td>\n",
       "        </tr>\n",
       "        <tr>\n",
       "            <td>2006</td> <td>2    </td> <td>108.76</td> <td>105.4   </td> <td>114.23</td> <td>115.301  </td> <td>1         </td>\n",
       "        </tr>\n",
       "        <tr>\n",
       "            <td>2006</td> <td>3    </td> <td>109.02</td> <td>105     </td> <td>114.23</td> <td>115.577  </td> <td>2         </td>\n",
       "        </tr>\n",
       "        <tr>\n",
       "            <td>2006</td> <td>4    </td> <td>109.28</td> <td>105.5   </td> <td>114.23</td> <td>115.852  </td> <td>3         </td>\n",
       "        </tr>\n",
       "        <tr>\n",
       "            <td>2006</td> <td>5    </td> <td>109.43</td> <td>105.7   </td> <td>114.23</td> <td>116.011  </td> <td>4         </td>\n",
       "        </tr>\n",
       "        <tr>\n",
       "            <td>2006</td> <td>6    </td> <td>109.69</td> <td>103.4   </td> <td>114.23</td> <td>116.287  </td> <td>5         </td>\n",
       "        </tr>\n",
       "        <tr>\n",
       "            <td>2006</td> <td>7    </td> <td>109.82</td> <td>105.8   </td> <td>114.23</td> <td>116.425  </td> <td>6         </td>\n",
       "        </tr>\n",
       "        <tr>\n",
       "            <td>2006</td> <td>8    </td> <td>110.18</td> <td>105.9   </td> <td>114.23</td> <td>116.806  </td> <td>7         </td>\n",
       "        </tr>\n",
       "        <tr>\n",
       "            <td>2006</td> <td>9    </td> <td>110.27</td> <td>109.2   </td> <td>114.23</td> <td>116.902  </td> <td>8         </td>\n",
       "        </tr>\n",
       "        <tr>\n",
       "            <td>2006</td> <td>10   </td> <td>110.64</td> <td>109.3   </td> <td>114.23</td> <td>117.294  </td> <td>9         </td>\n",
       "        </tr>\n",
       "    </tbody>\n",
       "</table>\n",
       "<p>... (62 rows omitted)</p>"
      ],
      "text/plain": [
       "year | month | price  | quantity | cpi    | adj_price | time index\n",
       "2006 | 1     | 108.49 | 107      | 114.23 | 115.015   | 0\n",
       "2006 | 2     | 108.76 | 105.4    | 114.23 | 115.301   | 1\n",
       "2006 | 3     | 109.02 | 105      | 114.23 | 115.577   | 2\n",
       "2006 | 4     | 109.28 | 105.5    | 114.23 | 115.852   | 3\n",
       "2006 | 5     | 109.43 | 105.7    | 114.23 | 116.011   | 4\n",
       "2006 | 6     | 109.69 | 103.4    | 114.23 | 116.287   | 5\n",
       "2006 | 7     | 109.82 | 105.8    | 114.23 | 116.425   | 6\n",
       "2006 | 8     | 110.18 | 105.9    | 114.23 | 116.806   | 7\n",
       "2006 | 9     | 110.27 | 109.2    | 114.23 | 116.902   | 8\n",
       "2006 | 10    | 110.64 | 109.3    | 114.23 | 117.294   | 9\n",
       "... (62 rows omitted)"
      ]
     },
     "execution_count": 138,
     "metadata": {},
     "output_type": "execute_result"
    }
   ],
   "source": [
    "meals = meals.with_column(\"time index\", np.arange(meals.num_rows))\n",
    "meals"
   ]
  },
  {
   "cell_type": "markdown",
   "metadata": {},
   "source": [
    "Now, we will look for the index of the July 2009 time period. Every time period pre-tax will have a time index smaller, and every time period post-tax will have a time index equal or larger."
   ]
  },
  {
   "cell_type": "code",
   "execution_count": 139,
   "metadata": {},
   "outputs": [
    {
     "data": {
      "text/html": [
       "<table border=\"1\" class=\"dataframe\">\n",
       "    <thead>\n",
       "        <tr>\n",
       "            <th>year</th> <th>month</th> <th>price</th> <th>quantity</th> <th>cpi</th> <th>adj_price</th> <th>time index</th>\n",
       "        </tr>\n",
       "    </thead>\n",
       "    <tbody>\n",
       "        <tr>\n",
       "            <td>2009</td> <td>7    </td> <td>116.64</td> <td>99.6    </td> <td>119.29</td> <td>118.41   </td> <td>42        </td>\n",
       "        </tr>\n",
       "    </tbody>\n",
       "</table>"
      ],
      "text/plain": [
       "year | month | price  | quantity | cpi    | adj_price | time index\n",
       "2009 | 7     | 116.64 | 99.6     | 119.29 | 118.41    | 42"
      ]
     },
     "execution_count": 139,
     "metadata": {},
     "output_type": "execute_result"
    }
   ],
   "source": [
    "meals.where(\"year\", 2009).where(\"month\", 7)"
   ]
  },
  {
   "cell_type": "code",
   "execution_count": 140,
   "metadata": {},
   "outputs": [
    {
     "data": {
      "text/plain": [
       "42"
      ]
     },
     "execution_count": 140,
     "metadata": {},
     "output_type": "execute_result"
    }
   ],
   "source": [
    "index = meals.where(\"year\", 2009).where(\"month\", 7).column(\"time index\").item(0)\n",
    "index"
   ]
  },
  {
   "cell_type": "code",
   "execution_count": 141,
   "metadata": {},
   "outputs": [],
   "source": [
    "pre = meals.where(\"time index\", are.below(index))\n",
    "post = meals.where(\"time index\", are.above_or_equal_to(index))"
   ]
  },
  {
   "cell_type": "code",
   "execution_count": 162,
   "metadata": {},
   "outputs": [
    {
     "data": {
      "text/html": [
       "<table border=\"1\" class=\"dataframe\">\n",
       "    <thead>\n",
       "        <tr>\n",
       "            <th>year</th> <th>month</th> <th>price</th> <th>quantity</th> <th>cpi</th> <th>adj_price</th> <th>time index</th>\n",
       "        </tr>\n",
       "    </thead>\n",
       "    <tbody>\n",
       "        <tr>\n",
       "            <td>2006</td> <td>1    </td> <td>108.49</td> <td>107     </td> <td>114.23</td> <td>115.015  </td> <td>0         </td>\n",
       "        </tr>\n",
       "        <tr>\n",
       "            <td>2006</td> <td>2    </td> <td>108.76</td> <td>105.4   </td> <td>114.23</td> <td>115.301  </td> <td>1         </td>\n",
       "        </tr>\n",
       "        <tr>\n",
       "            <td>2006</td> <td>3    </td> <td>109.02</td> <td>105     </td> <td>114.23</td> <td>115.577  </td> <td>2         </td>\n",
       "        </tr>\n",
       "        <tr>\n",
       "            <td>2006</td> <td>4    </td> <td>109.28</td> <td>105.5   </td> <td>114.23</td> <td>115.852  </td> <td>3         </td>\n",
       "        </tr>\n",
       "        <tr>\n",
       "            <td>2006</td> <td>5    </td> <td>109.43</td> <td>105.7   </td> <td>114.23</td> <td>116.011  </td> <td>4         </td>\n",
       "        </tr>\n",
       "        <tr>\n",
       "            <td>2006</td> <td>6    </td> <td>109.69</td> <td>103.4   </td> <td>114.23</td> <td>116.287  </td> <td>5         </td>\n",
       "        </tr>\n",
       "        <tr>\n",
       "            <td>2006</td> <td>7    </td> <td>109.82</td> <td>105.8   </td> <td>114.23</td> <td>116.425  </td> <td>6         </td>\n",
       "        </tr>\n",
       "        <tr>\n",
       "            <td>2006</td> <td>8    </td> <td>110.18</td> <td>105.9   </td> <td>114.23</td> <td>116.806  </td> <td>7         </td>\n",
       "        </tr>\n",
       "        <tr>\n",
       "            <td>2006</td> <td>9    </td> <td>110.27</td> <td>109.2   </td> <td>114.23</td> <td>116.902  </td> <td>8         </td>\n",
       "        </tr>\n",
       "        <tr>\n",
       "            <td>2006</td> <td>10   </td> <td>110.64</td> <td>109.3   </td> <td>114.23</td> <td>117.294  </td> <td>9         </td>\n",
       "        </tr>\n",
       "    </tbody>\n",
       "</table>\n",
       "<p>... (32 rows omitted)</p>"
      ],
      "text/plain": [
       "year | month | price  | quantity | cpi    | adj_price | time index\n",
       "2006 | 1     | 108.49 | 107      | 114.23 | 115.015   | 0\n",
       "2006 | 2     | 108.76 | 105.4    | 114.23 | 115.301   | 1\n",
       "2006 | 3     | 109.02 | 105      | 114.23 | 115.577   | 2\n",
       "2006 | 4     | 109.28 | 105.5    | 114.23 | 115.852   | 3\n",
       "2006 | 5     | 109.43 | 105.7    | 114.23 | 116.011   | 4\n",
       "2006 | 6     | 109.69 | 103.4    | 114.23 | 116.287   | 5\n",
       "2006 | 7     | 109.82 | 105.8    | 114.23 | 116.425   | 6\n",
       "2006 | 8     | 110.18 | 105.9    | 114.23 | 116.806   | 7\n",
       "2006 | 9     | 110.27 | 109.2    | 114.23 | 116.902   | 8\n",
       "2006 | 10    | 110.64 | 109.3    | 114.23 | 117.294   | 9\n",
       "... (32 rows omitted)"
      ]
     },
     "execution_count": 162,
     "metadata": {},
     "output_type": "execute_result"
    }
   ],
   "source": [
    "pre"
   ]
  },
  {
   "cell_type": "code",
   "execution_count": 161,
   "metadata": {},
   "outputs": [
    {
     "data": {
      "text/html": [
       "<table border=\"1\" class=\"dataframe\">\n",
       "    <thead>\n",
       "        <tr>\n",
       "            <th>year</th> <th>month</th> <th>price</th> <th>quantity</th> <th>cpi</th> <th>adj_price</th> <th>time index</th>\n",
       "        </tr>\n",
       "    </thead>\n",
       "    <tbody>\n",
       "        <tr>\n",
       "            <td>2009</td> <td>7    </td> <td>116.64</td> <td>99.6    </td> <td>119.29</td> <td>118.41   </td> <td>42        </td>\n",
       "        </tr>\n",
       "        <tr>\n",
       "            <td>2009</td> <td>8    </td> <td>116.5 </td> <td>98.7    </td> <td>119.29</td> <td>118.268  </td> <td>43        </td>\n",
       "        </tr>\n",
       "        <tr>\n",
       "            <td>2009</td> <td>9    </td> <td>116.52</td> <td>98.6    </td> <td>119.29</td> <td>118.288  </td> <td>44        </td>\n",
       "        </tr>\n",
       "        <tr>\n",
       "            <td>2009</td> <td>10   </td> <td>116.57</td> <td>99.9    </td> <td>119.29</td> <td>118.339  </td> <td>45        </td>\n",
       "        </tr>\n",
       "        <tr>\n",
       "            <td>2009</td> <td>11   </td> <td>116.64</td> <td>99.5    </td> <td>119.29</td> <td>118.41   </td> <td>46        </td>\n",
       "        </tr>\n",
       "        <tr>\n",
       "            <td>2009</td> <td>12   </td> <td>116.64</td> <td>98.9    </td> <td>119.29</td> <td>118.41   </td> <td>47        </td>\n",
       "        </tr>\n",
       "        <tr>\n",
       "            <td>2010</td> <td>1    </td> <td>116.65</td> <td>98.1    </td> <td>121.1 </td> <td>116.65   </td> <td>48        </td>\n",
       "        </tr>\n",
       "        <tr>\n",
       "            <td>2010</td> <td>2    </td> <td>116.75</td> <td>99.4    </td> <td>121.1 </td> <td>116.75   </td> <td>49        </td>\n",
       "        </tr>\n",
       "        <tr>\n",
       "            <td>2010</td> <td>3    </td> <td>116.95</td> <td>99.8    </td> <td>121.1 </td> <td>116.95   </td> <td>50        </td>\n",
       "        </tr>\n",
       "        <tr>\n",
       "            <td>2010</td> <td>4    </td> <td>117   </td> <td>101.5   </td> <td>121.1 </td> <td>117      </td> <td>51        </td>\n",
       "        </tr>\n",
       "    </tbody>\n",
       "</table>\n",
       "<p>... (20 rows omitted)</p>"
      ],
      "text/plain": [
       "year | month | price  | quantity | cpi    | adj_price | time index\n",
       "2009 | 7     | 116.64 | 99.6     | 119.29 | 118.41    | 42\n",
       "2009 | 8     | 116.5  | 98.7     | 119.29 | 118.268   | 43\n",
       "2009 | 9     | 116.52 | 98.6     | 119.29 | 118.288   | 44\n",
       "2009 | 10    | 116.57 | 99.9     | 119.29 | 118.339   | 45\n",
       "2009 | 11    | 116.64 | 99.5     | 119.29 | 118.41    | 46\n",
       "2009 | 12    | 116.64 | 98.9     | 119.29 | 118.41    | 47\n",
       "2010 | 1     | 116.65 | 98.1     | 121.1  | 116.65    | 48\n",
       "2010 | 2     | 116.75 | 99.4     | 121.1  | 116.75    | 49\n",
       "2010 | 3     | 116.95 | 99.8     | 121.1  | 116.95    | 50\n",
       "2010 | 4     | 117    | 101.5    | 121.1  | 117       | 51\n",
       "... (20 rows omitted)"
      ]
     },
     "execution_count": 161,
     "metadata": {},
     "output_type": "execute_result"
    }
   ],
   "source": [
    "post"
   ]
  },
  {
   "cell_type": "markdown",
   "metadata": {},
   "source": [
    "### Step 4: Plotting our Results"
   ]
  },
  {
   "cell_type": "markdown",
   "metadata": {},
   "source": [
    "Now let's construct a scatter plot. Do not worry if you do not understand the code below; because we would like to overlay the plots, we utilize a slightly different set of functions in the `matplotlib` library."
   ]
  },
  {
   "cell_type": "code",
   "execution_count": 144,
   "metadata": {},
   "outputs": [
    {
     "data": {
      "image/png": "[encoded data removed]",
      "text/plain": [
       "<Figure size 432x288 with 1 Axes>"
      ]
     },
     "metadata": {
      "needs_background": "light"
     },
     "output_type": "display_data"
    }
   ],
   "source": [
    "plt.scatter(pre.column(\"quantity\"), pre.column(\"adj_price\"), label = \"tax = 19.6%\")\n",
    "plt.scatter(post.column(\"quantity\"), post.column(\"adj_price\"), label = \"tax = 5.5%\")\n",
    "plt.legend();"
   ]
  },
  {
   "cell_type": "code",
   "execution_count": 165,
   "metadata": {},
   "outputs": [],
   "source": [
    "def minimize_error(slope, intercept_pre, intercept_post):\n",
    "    pre_preds = slope * pre.column(\"quantity\") + intercept_pre\n",
    "    pre_errors = pre.column(\"price\") - pre_preds\n",
    "    post_preds = slope * post.column(\"quantity\") + intercept_post\n",
    "    post_errors = post.column(\"price\") - post_preds\n",
    "    # errors = np.concatenate([pre_errors, post_errors])\n",
    "    # return np.mean(np.abs(errors))#np.sqrt(np.mean(errors ** 2))\n",
    "    return np.sqrt(np.mean(pre_errors ** 2)) + np.sqrt(np.mean(post_errors ** 2))"
   ]
  },
  {
   "cell_type": "code",
   "execution_count": 166,
   "metadata": {},
   "outputs": [
    {
     "data": {
      "text/plain": [
       "array([ -0.41022036, 156.44980217, 159.32195768])"
      ]
     },
     "execution_count": 166,
     "metadata": {},
     "output_type": "execute_result"
    }
   ],
   "source": [
    "minimize(minimize_error)"
   ]
  },
  {
   "cell_type": "code",
   "execution_count": 167,
   "metadata": {},
   "outputs": [],
   "source": [
    "res = minimize(minimize_error)"
   ]
  },
  {
   "cell_type": "code",
   "execution_count": 168,
   "metadata": {},
   "outputs": [
    {
     "data": {
      "image/png": "[encoded data removed]",
      "text/plain": [
       "<Figure size 432x288 with 1 Axes>"
      ]
     },
     "metadata": {
      "needs_background": "light"
     },
     "output_type": "display_data"
    }
   ],
   "source": [
    "plt.scatter(pre.column(\"quantity\"), pre.column(\"adj_price\"), label = \"tax = 19.6%\", c ='b')\n",
    "plt.scatter(post.column(\"quantity\"), post.column(\"adj_price\"), label = \"tax = 5.5%\", c= 'orange')\n",
    "x=np.arange(95, 112, 0.1)\n",
    "plt.plot(x, x*res[0] + res[1], c = 'b')\n",
    "plt.plot(x, x*res[0] + res[2], c = 'orange')\n",
    "plt.legend();"
   ]
  },
  {
   "cell_type": "code",
   "execution_count": null,
   "metadata": {},
   "outputs": [],
   "source": []
  },
  {
   "cell_type": "code",
   "execution_count": 191,
   "metadata": {},
   "outputs": [],
   "source": [
    "p = pd.read_stata(\"/Users/alanliang/Downloads/114723-V1/data/AEJPol-2017-0504_DATA_prices_subsector.dta\")\n",
    "q = pd.read_csv(\"/Users/alanliang/Downloads/114723-V1/data/AEJPol-2017-0504_DATA_va_volume_combined.csv\", engine = 'python')\n",
    "c = pd.read_stata(\"/Users/alanliang/Downloads/114723-V1/data/AEJPol-2017-0504_DATA_cpi.dta\")\n"
   ]
  },
  {
   "cell_type": "code",
   "execution_count": 193,
   "metadata": {},
   "outputs": [
    {
     "data": {
      "text/html": [
       "<div>\n",
       "<style scoped>\n",
       "    .dataframe tbody tr th:only-of-type {\n",
       "        vertical-align: middle;\n",
       "    }\n",
       "\n",
       "    .dataframe tbody tr th {\n",
       "        vertical-align: top;\n",
       "    }\n",
       "\n",
       "    .dataframe thead th {\n",
       "        text-align: right;\n",
       "    }\n",
       "</style>\n",
       "<table border=\"1\" class=\"dataframe\">\n",
       "  <thead>\n",
       "    <tr style=\"text-align: right;\">\n",
       "      <th></th>\n",
       "      <th>item</th>\n",
       "      <th>price</th>\n",
       "      <th>year</th>\n",
       "      <th>month</th>\n",
       "      <th>time</th>\n",
       "      <th>trad</th>\n",
       "      <th>rapide</th>\n",
       "      <th>caf�</th>\n",
       "      <th>cpi</th>\n",
       "    </tr>\n",
       "  </thead>\n",
       "  <tbody>\n",
       "    <tr>\n",
       "      <th>0</th>\n",
       "      <td>Traditional Meal</td>\n",
       "      <td>100.519997</td>\n",
       "      <td>2003.0</td>\n",
       "      <td>1.0</td>\n",
       "      <td>Jan-2003</td>\n",
       "      <td>108.7</td>\n",
       "      <td>83.0</td>\n",
       "      <td>116.3</td>\n",
       "      <td>108.099998</td>\n",
       "    </tr>\n",
       "    <tr>\n",
       "      <th>1</th>\n",
       "      <td>Traditional Meal</td>\n",
       "      <td>100.709999</td>\n",
       "      <td>2003.0</td>\n",
       "      <td>2.0</td>\n",
       "      <td>2</td>\n",
       "      <td>108.0</td>\n",
       "      <td>84.9</td>\n",
       "      <td>115.3</td>\n",
       "      <td>108.099998</td>\n",
       "    </tr>\n",
       "    <tr>\n",
       "      <th>2</th>\n",
       "      <td>Traditional Meal</td>\n",
       "      <td>100.949997</td>\n",
       "      <td>2003.0</td>\n",
       "      <td>3.0</td>\n",
       "      <td>3</td>\n",
       "      <td>109.0</td>\n",
       "      <td>85.2</td>\n",
       "      <td>115.8</td>\n",
       "      <td>108.099998</td>\n",
       "    </tr>\n",
       "    <tr>\n",
       "      <th>3</th>\n",
       "      <td>Traditional Meal</td>\n",
       "      <td>101.290001</td>\n",
       "      <td>2003.0</td>\n",
       "      <td>4.0</td>\n",
       "      <td>4</td>\n",
       "      <td>108.4</td>\n",
       "      <td>85.0</td>\n",
       "      <td>114.6</td>\n",
       "      <td>108.099998</td>\n",
       "    </tr>\n",
       "    <tr>\n",
       "      <th>4</th>\n",
       "      <td>Traditional Meal</td>\n",
       "      <td>101.379997</td>\n",
       "      <td>2003.0</td>\n",
       "      <td>5.0</td>\n",
       "      <td>5</td>\n",
       "      <td>108.7</td>\n",
       "      <td>87.0</td>\n",
       "      <td>116.9</td>\n",
       "      <td>108.099998</td>\n",
       "    </tr>\n",
       "    <tr>\n",
       "      <th>...</th>\n",
       "      <td>...</td>\n",
       "      <td>...</td>\n",
       "      <td>...</td>\n",
       "      <td>...</td>\n",
       "      <td>...</td>\n",
       "      <td>...</td>\n",
       "      <td>...</td>\n",
       "      <td>...</td>\n",
       "      <td>...</td>\n",
       "    </tr>\n",
       "    <tr>\n",
       "      <th>103</th>\n",
       "      <td>Traditional Meal</td>\n",
       "      <td>119.959999</td>\n",
       "      <td>2011.0</td>\n",
       "      <td>8.0</td>\n",
       "      <td>104</td>\n",
       "      <td>101.7</td>\n",
       "      <td>101.2</td>\n",
       "      <td>95.4</td>\n",
       "      <td>123.660004</td>\n",
       "    </tr>\n",
       "    <tr>\n",
       "      <th>104</th>\n",
       "      <td>Traditional Meal</td>\n",
       "      <td>120.059998</td>\n",
       "      <td>2011.0</td>\n",
       "      <td>9.0</td>\n",
       "      <td>105</td>\n",
       "      <td>101.1</td>\n",
       "      <td>102.2</td>\n",
       "      <td>96.9</td>\n",
       "      <td>123.660004</td>\n",
       "    </tr>\n",
       "    <tr>\n",
       "      <th>105</th>\n",
       "      <td>Traditional Meal</td>\n",
       "      <td>120.269997</td>\n",
       "      <td>2011.0</td>\n",
       "      <td>10.0</td>\n",
       "      <td>106</td>\n",
       "      <td>100.9</td>\n",
       "      <td>101.8</td>\n",
       "      <td>97.6</td>\n",
       "      <td>123.660004</td>\n",
       "    </tr>\n",
       "    <tr>\n",
       "      <th>106</th>\n",
       "      <td>Traditional Meal</td>\n",
       "      <td>120.389999</td>\n",
       "      <td>2011.0</td>\n",
       "      <td>11.0</td>\n",
       "      <td>107</td>\n",
       "      <td>99.6</td>\n",
       "      <td>100.8</td>\n",
       "      <td>95.9</td>\n",
       "      <td>123.660004</td>\n",
       "    </tr>\n",
       "    <tr>\n",
       "      <th>107</th>\n",
       "      <td>Traditional Meal</td>\n",
       "      <td>120.529999</td>\n",
       "      <td>2011.0</td>\n",
       "      <td>12.0</td>\n",
       "      <td>108</td>\n",
       "      <td>100.3</td>\n",
       "      <td>104.1</td>\n",
       "      <td>97.5</td>\n",
       "      <td>123.660004</td>\n",
       "    </tr>\n",
       "  </tbody>\n",
       "</table>\n",
       "<p>108 rows × 9 columns</p>\n",
       "</div>"
      ],
      "text/plain": [
       "                 item       price    year  month      time   trad  rapide  \\\n",
       "0    Traditional Meal  100.519997  2003.0    1.0  Jan-2003  108.7    83.0   \n",
       "1    Traditional Meal  100.709999  2003.0    2.0         2  108.0    84.9   \n",
       "2    Traditional Meal  100.949997  2003.0    3.0         3  109.0    85.2   \n",
       "3    Traditional Meal  101.290001  2003.0    4.0         4  108.4    85.0   \n",
       "4    Traditional Meal  101.379997  2003.0    5.0         5  108.7    87.0   \n",
       "..                ...         ...     ...    ...       ...    ...     ...   \n",
       "103  Traditional Meal  119.959999  2011.0    8.0       104  101.7   101.2   \n",
       "104  Traditional Meal  120.059998  2011.0    9.0       105  101.1   102.2   \n",
       "105  Traditional Meal  120.269997  2011.0   10.0       106  100.9   101.8   \n",
       "106  Traditional Meal  120.389999  2011.0   11.0       107   99.6   100.8   \n",
       "107  Traditional Meal  120.529999  2011.0   12.0       108  100.3   104.1   \n",
       "\n",
       "      caf�         cpi  \n",
       "0    116.3  108.099998  \n",
       "1    115.3  108.099998  \n",
       "2    115.8  108.099998  \n",
       "3    114.6  108.099998  \n",
       "4    116.9  108.099998  \n",
       "..     ...         ...  \n",
       "103   95.4  123.660004  \n",
       "104   96.9  123.660004  \n",
       "105   97.6  123.660004  \n",
       "106   95.9  123.660004  \n",
       "107   97.5  123.660004  \n",
       "\n",
       "[108 rows x 9 columns]"
      ]
     },
     "execution_count": 193,
     "metadata": {},
     "output_type": "execute_result"
    }
   ],
   "source": [
    "merged = p.merge(q, left_on = [\"year\", \"month\"], right_on = [\"year\", \"month\"])\n",
    "merged = merged.merge(c, on = \"year\")\n",
    "merged"
   ]
  },
  {
   "cell_type": "code",
   "execution_count": 194,
   "metadata": {},
   "outputs": [],
   "source": [
    "merged['adj'] = merged.price / merged.cpi * 121.1"
   ]
  },
  {
   "cell_type": "code",
   "execution_count": 195,
   "metadata": {},
   "outputs": [
    {
     "data": {
      "text/html": [
       "<div>\n",
       "<style scoped>\n",
       "    .dataframe tbody tr th:only-of-type {\n",
       "        vertical-align: middle;\n",
       "    }\n",
       "\n",
       "    .dataframe tbody tr th {\n",
       "        vertical-align: top;\n",
       "    }\n",
       "\n",
       "    .dataframe thead th {\n",
       "        text-align: right;\n",
       "    }\n",
       "</style>\n",
       "<table border=\"1\" class=\"dataframe\">\n",
       "  <thead>\n",
       "    <tr style=\"text-align: right;\">\n",
       "      <th></th>\n",
       "      <th>item</th>\n",
       "      <th>price</th>\n",
       "      <th>year</th>\n",
       "      <th>month</th>\n",
       "      <th>time</th>\n",
       "      <th>trad</th>\n",
       "      <th>rapide</th>\n",
       "      <th>caf�</th>\n",
       "      <th>cpi</th>\n",
       "      <th>adj</th>\n",
       "    </tr>\n",
       "  </thead>\n",
       "  <tbody>\n",
       "    <tr>\n",
       "      <th>0</th>\n",
       "      <td>Traditional Meal</td>\n",
       "      <td>100.519997</td>\n",
       "      <td>2003.0</td>\n",
       "      <td>1.0</td>\n",
       "      <td>Jan-2003</td>\n",
       "      <td>108.7</td>\n",
       "      <td>83.0</td>\n",
       "      <td>116.3</td>\n",
       "      <td>108.099998</td>\n",
       "      <td>112.608437</td>\n",
       "    </tr>\n",
       "    <tr>\n",
       "      <th>1</th>\n",
       "      <td>Traditional Meal</td>\n",
       "      <td>100.709999</td>\n",
       "      <td>2003.0</td>\n",
       "      <td>2.0</td>\n",
       "      <td>2</td>\n",
       "      <td>108.0</td>\n",
       "      <td>84.9</td>\n",
       "      <td>115.3</td>\n",
       "      <td>108.099998</td>\n",
       "      <td>112.821289</td>\n",
       "    </tr>\n",
       "    <tr>\n",
       "      <th>2</th>\n",
       "      <td>Traditional Meal</td>\n",
       "      <td>100.949997</td>\n",
       "      <td>2003.0</td>\n",
       "      <td>3.0</td>\n",
       "      <td>3</td>\n",
       "      <td>109.0</td>\n",
       "      <td>85.2</td>\n",
       "      <td>115.8</td>\n",
       "      <td>108.099998</td>\n",
       "      <td>113.090141</td>\n",
       "    </tr>\n",
       "    <tr>\n",
       "      <th>3</th>\n",
       "      <td>Traditional Meal</td>\n",
       "      <td>101.290001</td>\n",
       "      <td>2003.0</td>\n",
       "      <td>4.0</td>\n",
       "      <td>4</td>\n",
       "      <td>108.4</td>\n",
       "      <td>85.0</td>\n",
       "      <td>114.6</td>\n",
       "      <td>108.099998</td>\n",
       "      <td>113.471031</td>\n",
       "    </tr>\n",
       "    <tr>\n",
       "      <th>4</th>\n",
       "      <td>Traditional Meal</td>\n",
       "      <td>101.379997</td>\n",
       "      <td>2003.0</td>\n",
       "      <td>5.0</td>\n",
       "      <td>5</td>\n",
       "      <td>108.7</td>\n",
       "      <td>87.0</td>\n",
       "      <td>116.9</td>\n",
       "      <td>108.099998</td>\n",
       "      <td>113.571861</td>\n",
       "    </tr>\n",
       "    <tr>\n",
       "      <th>...</th>\n",
       "      <td>...</td>\n",
       "      <td>...</td>\n",
       "      <td>...</td>\n",
       "      <td>...</td>\n",
       "      <td>...</td>\n",
       "      <td>...</td>\n",
       "      <td>...</td>\n",
       "      <td>...</td>\n",
       "      <td>...</td>\n",
       "      <td>...</td>\n",
       "    </tr>\n",
       "    <tr>\n",
       "      <th>103</th>\n",
       "      <td>Traditional Meal</td>\n",
       "      <td>119.959999</td>\n",
       "      <td>2011.0</td>\n",
       "      <td>8.0</td>\n",
       "      <td>104</td>\n",
       "      <td>101.7</td>\n",
       "      <td>101.2</td>\n",
       "      <td>95.4</td>\n",
       "      <td>123.660004</td>\n",
       "      <td>117.476593</td>\n",
       "    </tr>\n",
       "    <tr>\n",
       "      <th>104</th>\n",
       "      <td>Traditional Meal</td>\n",
       "      <td>120.059998</td>\n",
       "      <td>2011.0</td>\n",
       "      <td>9.0</td>\n",
       "      <td>105</td>\n",
       "      <td>101.1</td>\n",
       "      <td>102.2</td>\n",
       "      <td>96.9</td>\n",
       "      <td>123.660004</td>\n",
       "      <td>117.574524</td>\n",
       "    </tr>\n",
       "    <tr>\n",
       "      <th>105</th>\n",
       "      <td>Traditional Meal</td>\n",
       "      <td>120.269997</td>\n",
       "      <td>2011.0</td>\n",
       "      <td>10.0</td>\n",
       "      <td>106</td>\n",
       "      <td>100.9</td>\n",
       "      <td>101.8</td>\n",
       "      <td>97.6</td>\n",
       "      <td>123.660004</td>\n",
       "      <td>117.780174</td>\n",
       "    </tr>\n",
       "    <tr>\n",
       "      <th>106</th>\n",
       "      <td>Traditional Meal</td>\n",
       "      <td>120.389999</td>\n",
       "      <td>2011.0</td>\n",
       "      <td>11.0</td>\n",
       "      <td>107</td>\n",
       "      <td>99.6</td>\n",
       "      <td>100.8</td>\n",
       "      <td>95.9</td>\n",
       "      <td>123.660004</td>\n",
       "      <td>117.897690</td>\n",
       "    </tr>\n",
       "    <tr>\n",
       "      <th>107</th>\n",
       "      <td>Traditional Meal</td>\n",
       "      <td>120.529999</td>\n",
       "      <td>2011.0</td>\n",
       "      <td>12.0</td>\n",
       "      <td>108</td>\n",
       "      <td>100.3</td>\n",
       "      <td>104.1</td>\n",
       "      <td>97.5</td>\n",
       "      <td>123.660004</td>\n",
       "      <td>118.034798</td>\n",
       "    </tr>\n",
       "  </tbody>\n",
       "</table>\n",
       "<p>108 rows × 10 columns</p>\n",
       "</div>"
      ],
      "text/plain": [
       "                 item       price    year  month      time   trad  rapide  \\\n",
       "0    Traditional Meal  100.519997  2003.0    1.0  Jan-2003  108.7    83.0   \n",
       "1    Traditional Meal  100.709999  2003.0    2.0         2  108.0    84.9   \n",
       "2    Traditional Meal  100.949997  2003.0    3.0         3  109.0    85.2   \n",
       "3    Traditional Meal  101.290001  2003.0    4.0         4  108.4    85.0   \n",
       "4    Traditional Meal  101.379997  2003.0    5.0         5  108.7    87.0   \n",
       "..                ...         ...     ...    ...       ...    ...     ...   \n",
       "103  Traditional Meal  119.959999  2011.0    8.0       104  101.7   101.2   \n",
       "104  Traditional Meal  120.059998  2011.0    9.0       105  101.1   102.2   \n",
       "105  Traditional Meal  120.269997  2011.0   10.0       106  100.9   101.8   \n",
       "106  Traditional Meal  120.389999  2011.0   11.0       107   99.6   100.8   \n",
       "107  Traditional Meal  120.529999  2011.0   12.0       108  100.3   104.1   \n",
       "\n",
       "      caf�         cpi         adj  \n",
       "0    116.3  108.099998  112.608437  \n",
       "1    115.3  108.099998  112.821289  \n",
       "2    115.8  108.099998  113.090141  \n",
       "3    114.6  108.099998  113.471031  \n",
       "4    116.9  108.099998  113.571861  \n",
       "..     ...         ...         ...  \n",
       "103   95.4  123.660004  117.476593  \n",
       "104   96.9  123.660004  117.574524  \n",
       "105   97.6  123.660004  117.780174  \n",
       "106   95.9  123.660004  117.897690  \n",
       "107   97.5  123.660004  118.034798  \n",
       "\n",
       "[108 rows x 10 columns]"
      ]
     },
     "execution_count": 195,
     "metadata": {},
     "output_type": "execute_result"
    }
   ],
   "source": [
    "merged = merged.sort_values([\"year\", \"month\"])\n",
    "merged"
   ]
  },
  {
   "cell_type": "code",
   "execution_count": 196,
   "metadata": {},
   "outputs": [
    {
     "data": {
      "text/html": [
       "<div>\n",
       "<style scoped>\n",
       "    .dataframe tbody tr th:only-of-type {\n",
       "        vertical-align: middle;\n",
       "    }\n",
       "\n",
       "    .dataframe tbody tr th {\n",
       "        vertical-align: top;\n",
       "    }\n",
       "\n",
       "    .dataframe thead th {\n",
       "        text-align: right;\n",
       "    }\n",
       "</style>\n",
       "<table border=\"1\" class=\"dataframe\">\n",
       "  <thead>\n",
       "    <tr style=\"text-align: right;\">\n",
       "      <th></th>\n",
       "      <th>item</th>\n",
       "      <th>price</th>\n",
       "      <th>year</th>\n",
       "      <th>month</th>\n",
       "      <th>time</th>\n",
       "      <th>trad</th>\n",
       "      <th>rapide</th>\n",
       "      <th>caf�</th>\n",
       "      <th>cpi</th>\n",
       "      <th>adj</th>\n",
       "    </tr>\n",
       "  </thead>\n",
       "  <tbody>\n",
       "    <tr>\n",
       "      <th>72</th>\n",
       "      <td>Traditional Meal</td>\n",
       "      <td>117.750000</td>\n",
       "      <td>2009.0</td>\n",
       "      <td>1.0</td>\n",
       "      <td>Jan-2009</td>\n",
       "      <td>98.2</td>\n",
       "      <td>97.4</td>\n",
       "      <td>106.2</td>\n",
       "      <td>119.290001</td>\n",
       "      <td>119.536636</td>\n",
       "    </tr>\n",
       "    <tr>\n",
       "      <th>73</th>\n",
       "      <td>Traditional Meal</td>\n",
       "      <td>117.839996</td>\n",
       "      <td>2009.0</td>\n",
       "      <td>2.0</td>\n",
       "      <td>74</td>\n",
       "      <td>97.9</td>\n",
       "      <td>95.3</td>\n",
       "      <td>105.8</td>\n",
       "      <td>119.290001</td>\n",
       "      <td>119.627991</td>\n",
       "    </tr>\n",
       "    <tr>\n",
       "      <th>74</th>\n",
       "      <td>Traditional Meal</td>\n",
       "      <td>118.010002</td>\n",
       "      <td>2009.0</td>\n",
       "      <td>3.0</td>\n",
       "      <td>75</td>\n",
       "      <td>98.4</td>\n",
       "      <td>96.5</td>\n",
       "      <td>99.3</td>\n",
       "      <td>119.290001</td>\n",
       "      <td>119.800575</td>\n",
       "    </tr>\n",
       "    <tr>\n",
       "      <th>75</th>\n",
       "      <td>Traditional Meal</td>\n",
       "      <td>118.099998</td>\n",
       "      <td>2009.0</td>\n",
       "      <td>4.0</td>\n",
       "      <td>76</td>\n",
       "      <td>98.0</td>\n",
       "      <td>96.9</td>\n",
       "      <td>104.9</td>\n",
       "      <td>119.290001</td>\n",
       "      <td>119.891937</td>\n",
       "    </tr>\n",
       "    <tr>\n",
       "      <th>76</th>\n",
       "      <td>Traditional Meal</td>\n",
       "      <td>118.199997</td>\n",
       "      <td>2009.0</td>\n",
       "      <td>5.0</td>\n",
       "      <td>77</td>\n",
       "      <td>98.0</td>\n",
       "      <td>96.7</td>\n",
       "      <td>100.1</td>\n",
       "      <td>119.290001</td>\n",
       "      <td>119.993454</td>\n",
       "    </tr>\n",
       "    <tr>\n",
       "      <th>77</th>\n",
       "      <td>Traditional Meal</td>\n",
       "      <td>118.260002</td>\n",
       "      <td>2009.0</td>\n",
       "      <td>6.0</td>\n",
       "      <td>78</td>\n",
       "      <td>97.2</td>\n",
       "      <td>95.4</td>\n",
       "      <td>97.3</td>\n",
       "      <td>119.290001</td>\n",
       "      <td>120.054375</td>\n",
       "    </tr>\n",
       "    <tr>\n",
       "      <th>78</th>\n",
       "      <td>Traditional Meal</td>\n",
       "      <td>116.639999</td>\n",
       "      <td>2009.0</td>\n",
       "      <td>7.0</td>\n",
       "      <td>Jul-2009</td>\n",
       "      <td>99.6</td>\n",
       "      <td>99.1</td>\n",
       "      <td>97.7</td>\n",
       "      <td>119.290001</td>\n",
       "      <td>118.409790</td>\n",
       "    </tr>\n",
       "    <tr>\n",
       "      <th>79</th>\n",
       "      <td>Traditional Meal</td>\n",
       "      <td>116.500000</td>\n",
       "      <td>2009.0</td>\n",
       "      <td>8.0</td>\n",
       "      <td>80</td>\n",
       "      <td>98.7</td>\n",
       "      <td>99.2</td>\n",
       "      <td>98.1</td>\n",
       "      <td>119.290001</td>\n",
       "      <td>118.267662</td>\n",
       "    </tr>\n",
       "    <tr>\n",
       "      <th>80</th>\n",
       "      <td>Traditional Meal</td>\n",
       "      <td>116.519997</td>\n",
       "      <td>2009.0</td>\n",
       "      <td>9.0</td>\n",
       "      <td>81</td>\n",
       "      <td>98.6</td>\n",
       "      <td>97.7</td>\n",
       "      <td>97.6</td>\n",
       "      <td>119.290001</td>\n",
       "      <td>118.287964</td>\n",
       "    </tr>\n",
       "    <tr>\n",
       "      <th>81</th>\n",
       "      <td>Traditional Meal</td>\n",
       "      <td>116.570000</td>\n",
       "      <td>2009.0</td>\n",
       "      <td>10.0</td>\n",
       "      <td>82</td>\n",
       "      <td>99.9</td>\n",
       "      <td>98.4</td>\n",
       "      <td>98.7</td>\n",
       "      <td>119.290001</td>\n",
       "      <td>118.338730</td>\n",
       "    </tr>\n",
       "    <tr>\n",
       "      <th>82</th>\n",
       "      <td>Traditional Meal</td>\n",
       "      <td>116.639999</td>\n",
       "      <td>2009.0</td>\n",
       "      <td>11.0</td>\n",
       "      <td>83</td>\n",
       "      <td>99.5</td>\n",
       "      <td>98.0</td>\n",
       "      <td>98.8</td>\n",
       "      <td>119.290001</td>\n",
       "      <td>118.409790</td>\n",
       "    </tr>\n",
       "    <tr>\n",
       "      <th>83</th>\n",
       "      <td>Traditional Meal</td>\n",
       "      <td>116.639999</td>\n",
       "      <td>2009.0</td>\n",
       "      <td>12.0</td>\n",
       "      <td>84</td>\n",
       "      <td>98.9</td>\n",
       "      <td>98.7</td>\n",
       "      <td>99.2</td>\n",
       "      <td>119.290001</td>\n",
       "      <td>118.409790</td>\n",
       "    </tr>\n",
       "  </tbody>\n",
       "</table>\n",
       "</div>"
      ],
      "text/plain": [
       "                item       price    year  month      time  trad  rapide  \\\n",
       "72  Traditional Meal  117.750000  2009.0    1.0  Jan-2009  98.2    97.4   \n",
       "73  Traditional Meal  117.839996  2009.0    2.0        74  97.9    95.3   \n",
       "74  Traditional Meal  118.010002  2009.0    3.0        75  98.4    96.5   \n",
       "75  Traditional Meal  118.099998  2009.0    4.0        76  98.0    96.9   \n",
       "76  Traditional Meal  118.199997  2009.0    5.0        77  98.0    96.7   \n",
       "77  Traditional Meal  118.260002  2009.0    6.0        78  97.2    95.4   \n",
       "78  Traditional Meal  116.639999  2009.0    7.0  Jul-2009  99.6    99.1   \n",
       "79  Traditional Meal  116.500000  2009.0    8.0        80  98.7    99.2   \n",
       "80  Traditional Meal  116.519997  2009.0    9.0        81  98.6    97.7   \n",
       "81  Traditional Meal  116.570000  2009.0   10.0        82  99.9    98.4   \n",
       "82  Traditional Meal  116.639999  2009.0   11.0        83  99.5    98.0   \n",
       "83  Traditional Meal  116.639999  2009.0   12.0        84  98.9    98.7   \n",
       "\n",
       "     caf�         cpi         adj  \n",
       "72  106.2  119.290001  119.536636  \n",
       "73  105.8  119.290001  119.627991  \n",
       "74   99.3  119.290001  119.800575  \n",
       "75  104.9  119.290001  119.891937  \n",
       "76  100.1  119.290001  119.993454  \n",
       "77   97.3  119.290001  120.054375  \n",
       "78   97.7  119.290001  118.409790  \n",
       "79   98.1  119.290001  118.267662  \n",
       "80   97.6  119.290001  118.287964  \n",
       "81   98.7  119.290001  118.338730  \n",
       "82   98.8  119.290001  118.409790  \n",
       "83   99.2  119.290001  118.409790  "
      ]
     },
     "execution_count": 196,
     "metadata": {},
     "output_type": "execute_result"
    }
   ],
   "source": [
    "merged[merged.year == 2009]"
   ]
  },
  {
   "cell_type": "code",
   "execution_count": 197,
   "metadata": {},
   "outputs": [],
   "source": [
    "pre = merged.iloc[:78,:]\n",
    "post = merged.iloc[78:,:]\n"
   ]
  },
  {
   "cell_type": "code",
   "execution_count": 202,
   "metadata": {},
   "outputs": [
    {
     "data": {
      "text/plain": [
       "<matplotlib.collections.PathCollection at 0x1326d8fa0>"
      ]
     },
     "execution_count": 202,
     "metadata": {},
     "output_type": "execute_result"
    },
    {
     "data": {
      "image/png": "[encoded data removed]",
      "text/plain": [
       "<Figure size 432x288 with 1 Axes>"
      ]
     },
     "metadata": {
      "needs_background": "light"
     },
     "output_type": "display_data"
    }
   ],
   "source": [
    "plt.scatter(pre.trad, pre.price)\n",
    "plt.scatter(post.trad, post.price)"
   ]
  },
  {
   "cell_type": "code",
   "execution_count": null,
   "metadata": {},
   "outputs": [],
   "source": []
  }
 ],
 "metadata": {
  "kernelspec": {
   "display_name": "Python 3",
   "language": "python",
   "name": "python3"
  },
  "language_info": {
   "codemirror_mode": {
    "name": "ipython",
    "version": 3
   },
   "file_extension": ".py",
   "mimetype": "text/x-python",
   "name": "python",
   "nbconvert_exporter": "python",
   "pygments_lexer": "ipython3",
   "version": "3.6.5"
  }
 },
 "nbformat": 4,
 "nbformat_minor": 4
}
