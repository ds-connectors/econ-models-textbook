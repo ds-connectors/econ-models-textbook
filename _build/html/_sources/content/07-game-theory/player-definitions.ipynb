{
 "cells": [
  {
   "cell_type": "markdown",
   "metadata": {},
   "source": [
    "# Iterated Prisoner's Dilemma Players\n",
    "\n",
    "This section provides the class definitions for the strategies used for the iterated prisoner's dilemma."
   ]
  },
  {
   "cell_type": "code",
   "execution_count": 1,
   "metadata": {
    "tags": [
     "remove_cell"
    ]
   },
   "outputs": [],
   "source": [
    "import functools\n",
    "import numpy as np\n",
    "from datascience import *\n",
    "most_common = lambda a: a[np.argmax([np.count_nonzero(np.equal(i, a)) for i in a])]"
   ]
  },
  {
   "cell_type": "markdown",
   "metadata": {},
   "source": [
    "We create these classes using the `create_player_class` function which creates the class and returns it for us using a provided player name and play method (a method which takes players and returns `True` if the player defects and `False` if they cooperate. The classes include:\n",
    "\n",
    "* an `__init__` method for creating instances and instance variables\n",
    "* a `play` method that takes an opponent and returns the player's decision at a single turn\n",
    "* a `reset_history` method that clears the player's history for use between matches\n",
    "* an `update_history` method that adds the player's last move to their history\n",
    "* a `__repr__` method that returns the player's name\n",
    "* a `__hash__` method that returns an integer [hash](https://en.wikipedia.org/wiki/Hash_function) of the player\n",
    "* an `__eq__` method that defines the comparison of a player using `==`\n",
    "* an `__lt__` method that defines the comparison of a player using `<`\n",
    "\n",
    "A couple of notes on the class:\n",
    "\n",
    "* The instance variable `last_move` is used to store the player's last move so that it can later be appended to the history using `update_history`. This helps define strategies that rely on using the histories for calculations, so we don't need to take into account whether the player is player 1 or player 2.\n",
    "* The [decorator](https://wiki.python.org/moin/PythonDecorators) `functools.total_ordering` defines all comparison dunders not defined (`__neq__`, `__gt__`, `__gtq__`, and `__lte__`) in the class for us using the two provided (`__eq__` and `__lt__`).\n",
    "* We define `__hash__` so that the players are **hashable**, allowing them to be used in dictionaries."
   ]
  },
  {
   "cell_type": "code",
   "execution_count": 2,
   "metadata": {},
   "outputs": [],
   "source": [
    "def create_player_class(player_name, play_method):\n",
    "    @functools.total_ordering\n",
    "    class Player:\n",
    "        def __init__(self, p=0.5):\n",
    "            self.history = make_array(True)[:0]\n",
    "            assert len(self.history) == 0\n",
    "            self.prob = p\n",
    "            self.name = player_name\n",
    "            self.last_move = None\n",
    "        \n",
    "        def play(self, opponent):\n",
    "            \"\"\"Returns True if player defects, False otherwise\"\"\"\n",
    "            defect = play_method(self, opponent)\n",
    "            self.last_move = defect\n",
    "            return defect\n",
    "        \n",
    "        def reset_history(self):\n",
    "            self.history = make_array()\n",
    "        \n",
    "        def update_history(self):\n",
    "            assert self.last_move is not None\n",
    "            self.history = np.append(self.history, self.last_move)\n",
    "            self.last_move = None\n",
    "        \n",
    "        def __repr__(self):\n",
    "            if player_name == \"Random\":\n",
    "                return player_name + \"({})\".format(self.prob)\n",
    "            return player_name\n",
    "        \n",
    "        def __hash__(self):\n",
    "            return hash(self.name)\n",
    "        \n",
    "        def __eq__(self, other):\n",
    "            return self.name == other.name\n",
    "        \n",
    "        def __lt__(self, other):\n",
    "            return self.name < other.name\n",
    "    \n",
    "    return Player"
   ]
  },
  {
   "cell_type": "markdown",
   "metadata": {},
   "source": [
    "## Defector"
   ]
  },
  {
   "cell_type": "code",
   "execution_count": 3,
   "metadata": {},
   "outputs": [],
   "source": [
    "def defector_play(self, opponent):\n",
    "    return True\n",
    "\n",
    "Defector = create_player_class(\"Defector\", defector_play)"
   ]
  },
  {
   "cell_type": "markdown",
   "metadata": {},
   "source": [
    "## Cooperator"
   ]
  },
  {
   "cell_type": "code",
   "execution_count": 4,
   "metadata": {},
   "outputs": [],
   "source": [
    "def cooperator_play(self, opponent):\n",
    "    return False\n",
    "\n",
    "Cooperator = create_player_class(\"Cooperator\", cooperator_play)"
   ]
  },
  {
   "cell_type": "markdown",
   "metadata": {},
   "source": [
    "## Random"
   ]
  },
  {
   "cell_type": "code",
   "execution_count": 5,
   "metadata": {},
   "outputs": [],
   "source": [
    "def random_play(self, opponent):\n",
    "    return np.random.random() < self.prob\n",
    "\n",
    "Random = create_player_class(\"Random\", random_play)"
   ]
  },
  {
   "cell_type": "markdown",
   "metadata": {},
   "source": [
    "## Alternator"
   ]
  },
  {
   "cell_type": "code",
   "execution_count": 6,
   "metadata": {},
   "outputs": [],
   "source": [
    "def alternator_play(self, opponent):\n",
    "    if len(self.history) > 0:\n",
    "        return not self.history.item(-1)\n",
    "    else:\n",
    "        return False\n",
    "\n",
    "Alternator = create_player_class(\"Alternator\", alternator_play)"
   ]
  },
  {
   "cell_type": "markdown",
   "metadata": {},
   "source": [
    "## Backstabber"
   ]
  },
  {
   "cell_type": "code",
   "execution_count": 7,
   "metadata": {},
   "outputs": [],
   "source": [
    "def backstabber_play(self, opponent):\n",
    "    return np.sum(opponent.history) > 3\n",
    "\n",
    "Backstabber = create_player_class(\"Backstabber\", backstabber_play)"
   ]
  },
  {
   "cell_type": "markdown",
   "metadata": {},
   "source": [
    "## Bully"
   ]
  },
  {
   "cell_type": "code",
   "execution_count": 8,
   "metadata": {},
   "outputs": [],
   "source": [
    "def bully_play(self, opponent):\n",
    "    if len(self.history) == 0:\n",
    "        return True\n",
    "    return not opponent.history.item(-1)\n",
    "\n",
    "Bully = create_player_class(\"Bully\", bully_play)"
   ]
  },
  {
   "cell_type": "markdown",
   "metadata": {},
   "source": [
    "## Desperate"
   ]
  },
  {
   "cell_type": "code",
   "execution_count": 9,
   "metadata": {},
   "outputs": [],
   "source": [
    "def desperate_play(self, opponent):\n",
    "    return np.sum(np.logical_and(self.history, opponent.history)) < 1\n",
    "\n",
    "Desperate = create_player_class(\"Desperate\", desperate_play)"
   ]
  },
  {
   "cell_type": "markdown",
   "metadata": {},
   "source": [
    "## Fool-Me-Once"
   ]
  },
  {
   "cell_type": "code",
   "execution_count": 10,
   "metadata": {},
   "outputs": [],
   "source": [
    "def fool_me_once_play(self, opponent):\n",
    "    return np.sum(opponent.history) > 1\n",
    "\n",
    "FoolMeOnce = create_player_class(\"FoolMeOnce\", fool_me_once_play)"
   ]
  },
  {
   "cell_type": "markdown",
   "metadata": {},
   "source": [
    "## Forgiver"
   ]
  },
  {
   "cell_type": "code",
   "execution_count": 11,
   "metadata": {},
   "outputs": [],
   "source": [
    "def forgiver_play(self, opponent):\n",
    "    if len(self.history) == 0:\n",
    "        return False\n",
    "    return np.sum(opponent.history) / len(opponent.history) > 0.1\n",
    "\n",
    "Forgiver = create_player_class(\"Forgiver\", forgiver_play)"
   ]
  },
  {
   "cell_type": "markdown",
   "metadata": {},
   "source": [
    "## Once-Bitten"
   ]
  },
  {
   "cell_type": "code",
   "execution_count": 12,
   "metadata": {},
   "outputs": [],
   "source": [
    "def once_bitten_play(self, opponent):\n",
    "    if not hasattr(self, \"defects_left\"):\n",
    "        self.defects_left = 0\n",
    "    if self.defects_left > 0:\n",
    "        self.defects_left -= 1\n",
    "        return True\n",
    "    if len(opponent.history) >= 2:\n",
    "        if opponent.history[-1] and opponent.history[-2]:\n",
    "            self.defects_left = 9\n",
    "            return True\n",
    "    return False\n",
    "\n",
    "OnceBitten = create_player_class(\"OnceBitten\", once_bitten_play)"
   ]
  },
  {
   "cell_type": "markdown",
   "metadata": {},
   "source": [
    "## Grudger"
   ]
  },
  {
   "cell_type": "code",
   "execution_count": 13,
   "metadata": {},
   "outputs": [],
   "source": [
    "def grudger_play(self, opponent):\n",
    "    return np.sum(opponent.history) > 0\n",
    "\n",
    "Grudger = create_player_class(\"Grudger\", grudger_play)"
   ]
  },
  {
   "cell_type": "markdown",
   "metadata": {},
   "source": [
    " "
   ]
  }
 ],
 "metadata": {
  "celltoolbar": "Tags",
  "kernelspec": {
   "display_name": "Python 3",
   "language": "python",
   "name": "python3"
  },
  "language_info": {
   "codemirror_mode": {
    "name": "ipython",
    "version": 3
   },
   "file_extension": ".py",
   "mimetype": "text/x-python",
   "name": "python",
   "nbconvert_exporter": "python",
   "pygments_lexer": "ipython3",
   "version": "3.6.5"
  }
 },
 "nbformat": 4,
 "nbformat_minor": 4
}
