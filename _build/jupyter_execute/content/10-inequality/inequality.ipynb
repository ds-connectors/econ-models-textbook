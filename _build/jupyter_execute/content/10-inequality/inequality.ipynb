{
 "cells": [
  {
   "cell_type": "code",
   "execution_count": 2,
   "metadata": {
    "tags": [
     "remove_cell"
    ]
   },
   "outputs": [],
   "source": [
    "import pandas as pd\n",
    "import numpy as np\n",
    "import matplotlib.pyplot as plt\n",
    "from datascience import *\n",
    "%matplotlib inline\n",
    "plt.style.use('seaborn-muted')"
   ]
  },
  {
   "cell_type": "markdown",
   "metadata": {},
   "source": [
    "# Measurements of Inequality"
   ]
  },
  {
   "cell_type": "markdown",
   "metadata": {},
   "source": [
    "## The Lorenz Curve\n",
    "The Lorenz Curve visually presents income inequality by plotting household income percentile on the $x$-axis, and the cumulative income share that the bottom $x$ percentile own on the $y$-axis. The households are sorted by income, so that the first household at the 0th percentile has the least amount of income, while the household at the 100th percentile has the greatest income.\n",
    "\n",
    "For any point $(x,y)$ on the Lorenz curve, “the bottom x percent own y% of the income”. For example, if the $x$-axis reads 0.30 and $y$-axis reads 0.10, then it means that the bottom 30% of the population received 10% of the total population's income. This yields 2 implications for the Lorenz Curve:\n",
    "- The points $(0,0)$ and $(1,1)$ are always on the curve. $(0,0)$ represents the 0% of the population owning 0% of the income and $(1,1)$ represents 100% of the population owning 100% of the income.\n",
    "- The slope is always increasing. This is because households are sorted by income as percentiles: for a slight increase in $x$, households become richer and hence provide a larger share of total income.\n"
   ]
  },
  {
   "cell_type": "markdown",
   "metadata": {},
   "source": [
    "### Line of Perfect Equality\n",
    "In a world of perfect equality, everyone would have the exact same income. In this case, the Lorenz curve would just be a 45-degree straight line that runs through $(0,0)$ and $(1,1)$, i.e. $y=x$. Mathematically, this is because the derivative is constant: for a slight increase in $x$, the total share of income increases at a constant rate. Another way to think about this is that the bottom 10% of the population will own 10% of the total income, the bottom 50% of the population will own 50% of the total income, and so on. This line is known as the *line of perfect equality*, and we typically display this line when plotting our Lorenz curves as a reference."
   ]
  },
  {
   "cell_type": "markdown",
   "metadata": {},
   "source": [
    "### A Toy Example\n",
    "Let's suppose country 1 has the following income distribution: \n",
    "- The bottom 10% owns a cumulative 2% of total income \n",
    "- The bottom 20% owns 5% of total income\n",
    "- The bottom 30% owns 9% of total income\n",
    "- The bottom 40% owns 15% of total income \n",
    "- The bottom 50% owns 23% of total income\n",
    "- The bottom 60% owns 33% of total income\n",
    "- The bottom 70% with 45% of total income\n",
    "- The bottom 80% with 59% of total income \n",
    "- The bottom 90% with 75% of total income\n",
    "- The bottom 100% with 100% of total income\n",
    "\n",
    "We will create an array of income shares and call it `Country1`. "
   ]
  },
  {
   "cell_type": "code",
   "execution_count": 3,
   "metadata": {},
   "outputs": [],
   "source": [
    "Country1 = make_array(0, 0.02, 0.05, 0.09, 0.15, 0.23, 0.33, 0.45, 0.59, 0.75, 1.0)"
   ]
  },
  {
   "cell_type": "markdown",
   "metadata": {},
   "source": [
    "To better see this information, we will create a table containing population percentage and cumulative income share. "
   ]
  },
  {
   "cell_type": "code",
   "execution_count": 5,
   "metadata": {},
   "outputs": [
    {
     "data": {
      "text/html": [
       "<table border=\"1\" class=\"dataframe\">\n",
       "    <thead>\n",
       "        <tr>\n",
       "            <th>Population Percentage (%)</th> <th>Cumulative Income Share (%)</th> <th>Perfect Equality Income Share (%)</th>\n",
       "        </tr>\n",
       "    </thead>\n",
       "    <tbody>\n",
       "        <tr>\n",
       "            <td>0                        </td> <td>0                          </td> <td>0                                </td>\n",
       "        </tr>\n",
       "        <tr>\n",
       "            <td>10                       </td> <td>2                          </td> <td>10                               </td>\n",
       "        </tr>\n",
       "        <tr>\n",
       "            <td>20                       </td> <td>5                          </td> <td>20                               </td>\n",
       "        </tr>\n",
       "        <tr>\n",
       "            <td>30                       </td> <td>9                          </td> <td>30                               </td>\n",
       "        </tr>\n",
       "        <tr>\n",
       "            <td>40                       </td> <td>15                         </td> <td>40                               </td>\n",
       "        </tr>\n",
       "        <tr>\n",
       "            <td>50                       </td> <td>23                         </td> <td>50                               </td>\n",
       "        </tr>\n",
       "        <tr>\n",
       "            <td>60                       </td> <td>33                         </td> <td>60                               </td>\n",
       "        </tr>\n",
       "        <tr>\n",
       "            <td>70                       </td> <td>45                         </td> <td>70                               </td>\n",
       "        </tr>\n",
       "        <tr>\n",
       "            <td>80                       </td> <td>59                         </td> <td>80                               </td>\n",
       "        </tr>\n",
       "        <tr>\n",
       "            <td>90                       </td> <td>75                         </td> <td>90                               </td>\n",
       "        </tr>\n",
       "    </tbody>\n",
       "</table>\n",
       "<p>... (1 rows omitted)</p>"
      ],
      "text/plain": [
       "Population Percentage (%) | Cumulative Income Share (%) | Perfect Equality Income Share (%)\n",
       "0                         | 0                           | 0\n",
       "10                        | 2                           | 10\n",
       "20                        | 5                           | 20\n",
       "30                        | 9                           | 30\n",
       "40                        | 15                          | 40\n",
       "50                        | 23                          | 50\n",
       "60                        | 33                          | 60\n",
       "70                        | 45                          | 70\n",
       "80                        | 59                          | 80\n",
       "90                        | 75                          | 90\n",
       "... (1 rows omitted)"
      ]
     },
     "execution_count": 5,
     "metadata": {},
     "output_type": "execute_result"
    }
   ],
   "source": [
    "income_distribution = Table().with_columns(\n",
    "    \"Population Percentage (%)\", np.arange(11) * 10, \n",
    "    \"Cumulative Income Share (%)\", Country1 * 100, \n",
    "    \"Perfect Equality Income Share (%)\", np.arange(11) * 10\n",
    ")\n",
    "income_distribution"
   ]
  },
  {
   "cell_type": "markdown",
   "metadata": {},
   "source": [
    "How will the Lorenz Curve for this income distribution look? "
   ]
  },
  {
   "cell_type": "code",
   "execution_count": 7,
   "metadata": {
    "tags": [
     "remove_input"
    ]
   },
   "outputs": [
    {
     "data": {
      "image/png": "[encoded data removed]",
      "text/plain": [
       "<Figure size 792x504 with 1 Axes>"
      ]
     },
     "metadata": {
      "filenames": {
       "image/png": "/Users/chrispyles/GitHub/econ-models-textbook/_build/jupyter_execute/content/10-inequality/inequality_9_0.png"
      },
      "needs_background": "light"
     },
     "output_type": "display_data"
    }
   ],
   "source": [
    "income_distribution.scatter(0, 1, width=11, height=7)\n",
    "plt.plot([0,100], [0,100], color='k');"
   ]
  },
  {
   "cell_type": "markdown",
   "metadata": {},
   "source": [
    "### Comparing Lorenz Curves\n",
    "Now let's compare 2 countries' Lorenz curves. Suppose country 2 has the following income distribution:\n",
    "- The bottom 10% owns a cumulative 3% of total income \n",
    "- The bottom 20% owns 7% of total income\n",
    "- The bottom 30% owns 13% of total income\n",
    "- The bottom 40% owns 19% of total income \n",
    "- The bottom 50% owns 27% of total income\n",
    "- The bottom 60% owns 37% of total income\n",
    "- The bottom 70% with 50% of total income\n",
    "- The bottom 80% with 65% of total income \n",
    "- The bottom 90% with 81% of total income\n",
    "- The bottom 100% with 100% of total income"
   ]
  },
  {
   "cell_type": "code",
   "execution_count": 8,
   "metadata": {},
   "outputs": [
    {
     "data": {
      "text/html": [
       "<table border=\"1\" class=\"dataframe\">\n",
       "    <thead>\n",
       "        <tr>\n",
       "            <th>Population Percentage (%)</th> <th>Cumulative Income Share (%)</th> <th>Perfect Equality Income Share (%)</th>\n",
       "        </tr>\n",
       "    </thead>\n",
       "    <tbody>\n",
       "        <tr>\n",
       "            <td>0                        </td> <td>0                          </td> <td>0                                </td>\n",
       "        </tr>\n",
       "        <tr>\n",
       "            <td>10                       </td> <td>3                          </td> <td>10                               </td>\n",
       "        </tr>\n",
       "        <tr>\n",
       "            <td>20                       </td> <td>7                          </td> <td>20                               </td>\n",
       "        </tr>\n",
       "        <tr>\n",
       "            <td>30                       </td> <td>13                         </td> <td>30                               </td>\n",
       "        </tr>\n",
       "        <tr>\n",
       "            <td>40                       </td> <td>19                         </td> <td>40                               </td>\n",
       "        </tr>\n",
       "        <tr>\n",
       "            <td>50                       </td> <td>27                         </td> <td>50                               </td>\n",
       "        </tr>\n",
       "        <tr>\n",
       "            <td>60                       </td> <td>37                         </td> <td>60                               </td>\n",
       "        </tr>\n",
       "        <tr>\n",
       "            <td>70                       </td> <td>50                         </td> <td>70                               </td>\n",
       "        </tr>\n",
       "        <tr>\n",
       "            <td>80                       </td> <td>65                         </td> <td>80                               </td>\n",
       "        </tr>\n",
       "        <tr>\n",
       "            <td>90                       </td> <td>81                         </td> <td>90                               </td>\n",
       "        </tr>\n",
       "    </tbody>\n",
       "</table>\n",
       "<p>... (1 rows omitted)</p>"
      ],
      "text/plain": [
       "Population Percentage (%) | Cumulative Income Share (%) | Perfect Equality Income Share (%)\n",
       "0                         | 0                           | 0\n",
       "10                        | 3                           | 10\n",
       "20                        | 7                           | 20\n",
       "30                        | 13                          | 30\n",
       "40                        | 19                          | 40\n",
       "50                        | 27                          | 50\n",
       "60                        | 37                          | 60\n",
       "70                        | 50                          | 70\n",
       "80                        | 65                          | 80\n",
       "90                        | 81                          | 90\n",
       "... (1 rows omitted)"
      ]
     },
     "execution_count": 8,
     "metadata": {},
     "output_type": "execute_result"
    }
   ],
   "source": [
    "Country2 = make_array(0, 0.03, 0.07, 0.13, 0.19, 0.27, 0.37, 0.5, 0.65, 0.81, 1.0)\n",
    "income_distribution2 = Table().with_columns(\n",
    "    \"Population Percentage (%)\", np.arange(11) * 10, \n",
    "    \"Cumulative Income Share (%)\", Country2 * 100, \n",
    "    \"Perfect Equality Income Share (%)\", np.arange(11) * 10\n",
    ")\n",
    "income_distribution2"
   ]
  },
  {
   "cell_type": "markdown",
   "metadata": {},
   "source": [
    "Comparing the 2 countries' income distributions side by side:"
   ]
  },
  {
   "cell_type": "code",
   "execution_count": 10,
   "metadata": {},
   "outputs": [
    {
     "data": {
      "text/html": [
       "<table border=\"1\" class=\"dataframe\">\n",
       "    <thead>\n",
       "        <tr>\n",
       "            <th>Population Percentage (%)</th> <th>Perfect Equality Income Share (%)</th> <th>Country 1 Cumulative Income Share (%)</th> <th>Country 2 Cumulative Income Share (%)</th>\n",
       "        </tr>\n",
       "    </thead>\n",
       "    <tbody>\n",
       "        <tr>\n",
       "            <td>0                        </td> <td>0                                </td> <td>0                                    </td> <td>0                                    </td>\n",
       "        </tr>\n",
       "        <tr>\n",
       "            <td>10                       </td> <td>10                               </td> <td>2                                    </td> <td>3                                    </td>\n",
       "        </tr>\n",
       "        <tr>\n",
       "            <td>20                       </td> <td>20                               </td> <td>5                                    </td> <td>7                                    </td>\n",
       "        </tr>\n",
       "        <tr>\n",
       "            <td>30                       </td> <td>30                               </td> <td>9                                    </td> <td>13                                   </td>\n",
       "        </tr>\n",
       "        <tr>\n",
       "            <td>40                       </td> <td>40                               </td> <td>15                                   </td> <td>19                                   </td>\n",
       "        </tr>\n",
       "        <tr>\n",
       "            <td>50                       </td> <td>50                               </td> <td>23                                   </td> <td>27                                   </td>\n",
       "        </tr>\n",
       "        <tr>\n",
       "            <td>60                       </td> <td>60                               </td> <td>33                                   </td> <td>37                                   </td>\n",
       "        </tr>\n",
       "        <tr>\n",
       "            <td>70                       </td> <td>70                               </td> <td>45                                   </td> <td>50                                   </td>\n",
       "        </tr>\n",
       "        <tr>\n",
       "            <td>80                       </td> <td>80                               </td> <td>59                                   </td> <td>65                                   </td>\n",
       "        </tr>\n",
       "        <tr>\n",
       "            <td>90                       </td> <td>90                               </td> <td>75                                   </td> <td>81                                   </td>\n",
       "        </tr>\n",
       "    </tbody>\n",
       "</table>\n",
       "<p>... (1 rows omitted)</p>"
      ],
      "text/plain": [
       "Population Percentage (%) | Perfect Equality Income Share (%) | Country 1 Cumulative Income Share (%) | Country 2 Cumulative Income Share (%)\n",
       "0                         | 0                                 | 0                                     | 0\n",
       "10                        | 10                                | 2                                     | 3\n",
       "20                        | 20                                | 5                                     | 7\n",
       "30                        | 30                                | 9                                     | 13\n",
       "40                        | 40                                | 15                                    | 19\n",
       "50                        | 50                                | 23                                    | 27\n",
       "60                        | 60                                | 33                                    | 37\n",
       "70                        | 70                                | 45                                    | 50\n",
       "80                        | 80                                | 59                                    | 65\n",
       "90                        | 90                                | 75                                    | 81\n",
       "... (1 rows omitted)"
      ]
     },
     "execution_count": 10,
     "metadata": {},
     "output_type": "execute_result"
    }
   ],
   "source": [
    "income_distribution.join(\n",
    "    [\"Population Percentage (%)\", \"Perfect Equality Income Share (%)\"], \n",
    "    income_distribution2, [\"Population Percentage (%)\", \"Perfect Equality Income Share (%)\"]\n",
    ").relabel(\n",
    "    \"Cumulative Income Share (%)\", \"Country 1 Cumulative Income Share (%)\"\n",
    ").relabel(\n",
    "    \"Cumulative Income Share (%)_2\", \"Country 2 Cumulative Income Share (%)\"\n",
    ")"
   ]
  },
  {
   "cell_type": "markdown",
   "metadata": {},
   "source": [
    "Plotting both countries' Lorenz curves, can you tell which country has a higher level of income inequality?"
   ]
  },
  {
   "cell_type": "code",
   "execution_count": 13,
   "metadata": {
    "tags": [
     "remove_input"
    ]
   },
   "outputs": [
    {
     "data": {
      "image/png": "[encoded data removed]",
      "text/plain": [
       "<Figure size 504x504 with 1 Axes>"
      ]
     },
     "metadata": {
      "filenames": {
       "image/png": "/Users/chrispyles/GitHub/econ-models-textbook/_build/jupyter_execute/content/10-inequality/inequality_15_0.png"
      },
      "needs_background": "light"
     },
     "output_type": "display_data"
    }
   ],
   "source": [
    "plt.figure(figsize=[7,7])\n",
    "plt.plot(income_distribution.column(0), income_distribution.column(1), \"-o\", c = 'b')\n",
    "plt.plot(income_distribution.column(0), income_distribution2.column(1), \"-o\", c = 'r')\n",
    "plt.legend([\"Country 1\", \"Country 2\"])\n",
    "plt.plot([0,100], [0,100], color='k');"
   ]
  },
  {
   "cell_type": "markdown",
   "metadata": {},
   "source": [
    "In this case, we can see that country 2's Lorenz curve is closer to the line of equality than that of country 1, which intuitively would suggest that country 2 is more equal. If we were to look at the numbers, we see that the bottom percentiles own a higher % of total national income in country 2 than in country 1, while top percentiles own less in country 2 than in country 1. This would suggest that country 2 is more equal in income than country 1, so that country 1 has a higher level of income inequality."
   ]
  },
  {
   "cell_type": "markdown",
   "metadata": {},
   "source": [
    "But now let's consider a different case; suppose country 3 has the following distribution: "
   ]
  },
  {
   "cell_type": "code",
   "execution_count": 14,
   "metadata": {},
   "outputs": [
    {
     "data": {
      "text/html": [
       "<table border=\"1\" class=\"dataframe\">\n",
       "    <thead>\n",
       "        <tr>\n",
       "            <th>Population Percentage (%)</th> <th>Perfect Equality Income Share (%)</th> <th>Country 1 Cumulative Income Share (%)</th> <th>Country 3 Cumulative Income Share (%)</th>\n",
       "        </tr>\n",
       "    </thead>\n",
       "    <tbody>\n",
       "        <tr>\n",
       "            <td>0                        </td> <td>0                                </td> <td>0                                    </td> <td>0                                    </td>\n",
       "        </tr>\n",
       "        <tr>\n",
       "            <td>10                       </td> <td>10                               </td> <td>2                                    </td> <td>3                                    </td>\n",
       "        </tr>\n",
       "        <tr>\n",
       "            <td>20                       </td> <td>20                               </td> <td>5                                    </td> <td>7                                    </td>\n",
       "        </tr>\n",
       "        <tr>\n",
       "            <td>30                       </td> <td>30                               </td> <td>9                                    </td> <td>12                                   </td>\n",
       "        </tr>\n",
       "        <tr>\n",
       "            <td>40                       </td> <td>40                               </td> <td>15                                   </td> <td>18                                   </td>\n",
       "        </tr>\n",
       "        <tr>\n",
       "            <td>50                       </td> <td>50                               </td> <td>23                                   </td> <td>25                                   </td>\n",
       "        </tr>\n",
       "        <tr>\n",
       "            <td>60                       </td> <td>60                               </td> <td>33                                   </td> <td>33                                   </td>\n",
       "        </tr>\n",
       "        <tr>\n",
       "            <td>70                       </td> <td>70                               </td> <td>45                                   </td> <td>42                                   </td>\n",
       "        </tr>\n",
       "        <tr>\n",
       "            <td>80                       </td> <td>80                               </td> <td>59                                   </td> <td>54                                   </td>\n",
       "        </tr>\n",
       "        <tr>\n",
       "            <td>90                       </td> <td>90                               </td> <td>75                                   </td> <td>73                                   </td>\n",
       "        </tr>\n",
       "    </tbody>\n",
       "</table>\n",
       "<p>... (1 rows omitted)</p>"
      ],
      "text/plain": [
       "Population Percentage (%) | Perfect Equality Income Share (%) | Country 1 Cumulative Income Share (%) | Country 3 Cumulative Income Share (%)\n",
       "0                         | 0                                 | 0                                     | 0\n",
       "10                        | 10                                | 2                                     | 3\n",
       "20                        | 20                                | 5                                     | 7\n",
       "30                        | 30                                | 9                                     | 12\n",
       "40                        | 40                                | 15                                    | 18\n",
       "50                        | 50                                | 23                                    | 25\n",
       "60                        | 60                                | 33                                    | 33\n",
       "70                        | 70                                | 45                                    | 42\n",
       "80                        | 80                                | 59                                    | 54\n",
       "90                        | 90                                | 75                                    | 73\n",
       "... (1 rows omitted)"
      ]
     },
     "execution_count": 14,
     "metadata": {},
     "output_type": "execute_result"
    }
   ],
   "source": [
    "Country3 = make_array(0, 0.03, 0.07, 0.12, 0.18, 0.25, 0.33, 0.42, 0.54, 0.73, 1.0)\n",
    "income_distribution3 = Table().with_columns(\n",
    "    \"Population Percentage (%)\", np.arange(11) * 10, \n",
    "    \"Cumulative Income Share (%)\", Country3 * 100, \n",
    "    \"Perfect Equality Income Share (%)\", np.arange(11) * 10\n",
    ")\n",
    "income_distribution.join(\n",
    "    [\"Population Percentage (%)\", \"Perfect Equality Income Share (%)\"], \n",
    "    income_distribution3, [\"Population Percentage (%)\", \"Perfect Equality Income Share (%)\"]\n",
    ").relabel(\n",
    "    \"Cumulative Income Share (%)\", \"Country 1 Cumulative Income Share (%)\"\n",
    ").relabel(\n",
    "    \"Cumulative Income Share (%)_2\", \"Country 3 Cumulative Income Share (%)\"\n",
    ")"
   ]
  },
  {
   "cell_type": "code",
   "execution_count": 15,
   "metadata": {
    "tags": [
     "remove_input"
    ]
   },
   "outputs": [
    {
     "data": {
      "image/png": "[encoded data removed]",
      "text/plain": [
       "<Figure size 504x504 with 1 Axes>"
      ]
     },
     "metadata": {
      "filenames": {
       "image/png": "/Users/chrispyles/GitHub/econ-models-textbook/_build/jupyter_execute/content/10-inequality/inequality_19_0.png"
      },
      "needs_background": "light"
     },
     "output_type": "display_data"
    }
   ],
   "source": [
    "plt.figure(figsize=[7,7])\n",
    "plt.plot(income_distribution.column(0), income_distribution.column(1), \"-o\", c = 'b')\n",
    "plt.plot(income_distribution.column(0), income_distribution3.column(1), \"-o\", c = 'r')\n",
    "plt.legend([\"Country 1\", \"Country 3\"])\n",
    "plt.plot([0,100], [0,100], color='k');"
   ]
  },
  {
   "cell_type": "markdown",
   "metadata": {},
   "source": [
    "Now, ambiguity arises; while bottom income percentiles earn a larger share of national income in country 3, top income percentiles also have a larger share. We can visualize this phenomenon by the 'crossing' of Lorenz curves on the plot. As a result, we do cannot easily tell which country has a higher level of income inequality.\n",
    "\n",
    "As you may see, the Lorenz curve is not able to produce a 'quantitative' measure of income inequality, making the scenario above hard for us to compare the 2 countries. For this, we turn to the Gini coefficient."
   ]
  },
  {
   "cell_type": "markdown",
   "metadata": {},
   "source": [
    "## The Gini Coefficient"
   ]
  },
  {
   "cell_type": "markdown",
   "metadata": {},
   "source": [
    "We can use the Gini coefficeint to quantify the level of income inequality."
   ]
  },
  {
   "cell_type": "markdown",
   "metadata": {},
   "source": [
    "```{figure} Gini.png\n",
    "---\n",
    "width: 500px\n",
    "name: gini-coefficient\n",
    "---\n",
    "The Gini coefficient\n",
    "```"
   ]
  },
  {
   "cell_type": "markdown",
   "metadata": {},
   "source": [
    "```{admonition} Definition\n",
    "\n",
    "The **Gini coefficient** is the ratio of the area between the line of equality and the Lorenz curve to the total area under the line of equality. Referring to $A$ and $B$ from {numref}`gini-coefficient`:\n",
    "\n",
    "$$\\text{Gini} = \\frac{\\text{Area between line of equality and Lorenz curve}}{\\text{Area under line of equality}} = \\frac{A}{A+B}$$\n",
    "\n",
    "If we express the Lorenz curve as $L(x)$, we can use calculus to derive an equation for the Gini coefficient:\n",
    "\n",
    "$$\\text{Gini} = \\frac{\\frac{1}{2} - \\int_0^1 L(x)\\text{d}x}{\\frac{1}{2}} = 1 - 2\\int_0^1 L(x)\\text{d}x$$\n",
    "```"
   ]
  },
  {
   "cell_type": "markdown",
   "metadata": {},
   "source": [
    "Intuitively, the closer the Lorenz curve is to the line of equality, the lower income inequality exists. Hence, the smaller the area of A, the lower the inequality. **This means that the smaller the Gini coefficient, the lower the income inequality.** Also note that the Gini coefficient will always be between 0 and 1. Mathematically, since $A$ and $B$ are both positive, $0<\\frac{A}{A+B}<1$."
   ]
  },
  {
   "cell_type": "code",
   "execution_count": 16,
   "metadata": {},
   "outputs": [],
   "source": [
    "# This function estimates the Gini coefficient. You don't have to understand how this code works below.\n",
    "def gini(distribution):\n",
    "    sorted_distribution = sorted(distribution)\n",
    "    height = 0\n",
    "    area = 0\n",
    "    for i in sorted_distribution:\n",
    "        height += i\n",
    "        area += height - i / 2\n",
    "    fair_area = height * len(distribution) / 2.\n",
    "    return (fair_area - area) / fair_area"
   ]
  },
  {
   "cell_type": "markdown",
   "metadata": {},
   "source": [
    "When we use our population as the parameter to the `gini` function, we get: "
   ]
  },
  {
   "cell_type": "code",
   "execution_count": 17,
   "metadata": {},
   "outputs": [
    {
     "data": {
      "text/plain": [
       "0.518628912071535"
      ]
     },
     "execution_count": 17,
     "metadata": {},
     "output_type": "execute_result"
    }
   ],
   "source": [
    "gini_coefficient_country1 = gini(Country1)\n",
    "gini_coefficient_country1"
   ]
  },
  {
   "cell_type": "code",
   "execution_count": 18,
   "metadata": {},
   "outputs": [
    {
     "data": {
      "text/plain": [
       "0.48756218905472637"
      ]
     },
     "execution_count": 18,
     "metadata": {},
     "output_type": "execute_result"
    }
   ],
   "source": [
    "gini_coefficient_country2 = gini(Country2)\n",
    "gini_coefficient_country2"
   ]
  },
  {
   "cell_type": "code",
   "execution_count": 19,
   "metadata": {},
   "outputs": [
    {
     "data": {
      "text/plain": [
       "0.4934357195937577"
      ]
     },
     "execution_count": 19,
     "metadata": {},
     "output_type": "execute_result"
    }
   ],
   "source": [
    "gini_coefficient_country3 = gini(Country3)\n",
    "gini_coefficient_country3"
   ]
  },
  {
   "cell_type": "markdown",
   "metadata": {},
   "source": [
    "These results confirm our intuition from the analysis we did previously via Lorenz curves. Previously, we concluded that country 1 had a higher level of income inequality than country 2, and this is supported by country 1's higher gini coefficient. On the other hand, we had trouble comparing levels of inequality between country 1 and country 3. Here, the gini coefficient would indicate that country 1 has a higher level of income inequality than country 3."
   ]
  },
  {
   "cell_type": "markdown",
   "metadata": {},
   "source": [
    "## Other Forms of Measurement"
   ]
  },
  {
   "cell_type": "markdown",
   "metadata": {},
   "source": [
    "The Gini coefficient is a fairly comprehensive and robust measure of inequality with just a single value: as we've seen above, we look at the entire population's income distribution to determine the Gini coefficient. As a result, calculating the Gini is often a challenging task. In reality, we will never observe the true population Lorenz curve without conducting a census to know how much exactly each household earns. As a result, economists will often attempt to interpolate the Lorenz curve and consequent Gini coefficient from the data they have available. The Gini coefficient is also not as easy to understand or explain; the value by itself does not have significant meaning.\n",
    "\n",
    "Instead, another common measure of income inequality is the share of income earned by the \"top $x$%\" or the \"bottom $y$%\". These measures are more often used in the media or by politicians in discussing the extent of inequality, since they are much easier to understand. Consider the chart below, which plots the share of income earned by the top 1%, bottom 90%, and the 90-99%:"
   ]
  },
  {
   "cell_type": "markdown",
   "metadata": {},
   "source": [
    "```{figure} alt_measure.png\n",
    "---\n",
    "---\n",
    "Alternative forms of measurement\n",
    "```"
   ]
  },
  {
   "cell_type": "markdown",
   "metadata": {},
   "source": [
    " "
   ]
  }
 ],
 "metadata": {
  "kernelspec": {
   "display_name": "Python 3",
   "language": "python",
   "name": "python3"
  },
  "language_info": {
   "codemirror_mode": {
    "name": "ipython",
    "version": 3
   },
   "file_extension": ".py",
   "mimetype": "text/x-python",
   "name": "python",
   "nbconvert_exporter": "python",
   "pygments_lexer": "ipython3",
   "version": "3.6.5"
  },
  "varInspector": {
   "cols": {
    "lenName": 16,
    "lenType": 16,
    "lenVar": 40
   },
   "kernels_config": {
    "python": {
     "delete_cmd_postfix": "",
     "delete_cmd_prefix": "del ",
     "library": "var_list.py",
     "varRefreshCmd": "print(var_dic_list())"
    },
    "r": {
     "delete_cmd_postfix": ") ",
     "delete_cmd_prefix": "rm(",
     "library": "var_list.r",
     "varRefreshCmd": "cat(var_dic_list()) "
    }
   },
   "types_to_exclude": [
    "module",
    "function",
    "builtin_function_or_method",
    "instance",
    "_Feature"
   ],
   "window_display": false
  }
 },
 "nbformat": 4,
 "nbformat_minor": 4
}