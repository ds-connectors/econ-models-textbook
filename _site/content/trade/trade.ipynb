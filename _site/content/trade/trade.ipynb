{
 "cells": [
  {
   "cell_type": "markdown",
   "metadata": {},
   "source": [
    "<table style=\"width: 100%;\">\n",
    "    <tr style=\"background-color: transparent;\"><td>\n",
    "        <img src=\"https://d8a-88.github.io/econ-fa19/assets/images/blue_text.png\" width=\"250px\" style=\"margin-left: 0;\" />\n",
    "    </td><td>\n",
    "        <p style=\"text-align: right; font-size: 12pt;\"><strong>Economic Models</strong>, Fall 2019<br>\n",
    "            Dr. Eric Van Dusen</p></td></tr>\n",
    "</table>"
   ]
  },
  {
   "cell_type": "markdown",
   "metadata": {},
   "source": [
    "## Lab 4 - Supply Demand Trade\n",
    "### with welfare effects and interactive sliders"
   ]
  },
  {
   "cell_type": "markdown",
   "metadata": {},
   "source": [
    "by Eric Van Dusen and Chris Pyles "
   ]
  },
  {
   "cell_type": "markdown",
   "metadata": {},
   "source": [
    "In this lab we will seek to combine many of the elements that we have learned in the first 4 labs, to add the equilibrium and welfare effects of a market in equilibrium and one out of equilibrium due to tariffs.   "
   ]
  },
  {
   "cell_type": "code",
   "execution_count": 1,
   "metadata": {},
   "outputs": [],
   "source": [
    "from utils import *\n",
    "import numpy as np\n",
    "import sympy\n",
    "import matplotlib.pyplot as plt\n",
    "solve = lambda x,y: sympy.solve(x-y)[0] if len(sympy.solve(x-y))==1 else \"Not Single Solution\"\n",
    "import matplotlib.pyplot as plt\n",
    "plt.style.use(\"seaborn-muted\")\n",
    "%matplotlib inline\n",
    "from ipywidgets import interact, interactive, fixed, interact_manual\n",
    "import ipywidgets as widgets\n",
    "from IPython.display import display\n",
    "import warnings\n",
    "warnings.filterwarnings('ignore')"
   ]
  },
  {
   "cell_type": "markdown",
   "metadata": {},
   "source": [
    "### Section 1 - A trade model\n",
    "To motivate this example we are going to follow along an example from the textbook Principles of Microeconomics by Dr. Emma Hutchinson, University of Victoria.  Specifically an example about US Lumber tariffs.  \n",
    "\n",
    "\n",
    "https://pressbooks.bccampus.ca/uvicecon103/chapter/4-7-tariffs/\n",
    "\n",
    "Specifically we will work to recreate the following graph:"
   ]
  },
  {
   "cell_type": "markdown",
   "metadata": {},
   "source": [
    "<div style=\"width:image width px; font-size:80%; text-align:center;\"><img src=\"https://pressbooks.bccampus.ca/uvicecon103/wp-content/uploads/sites/58/2016/11/Screen-Shot-2016-12-27-at-9.39.10-AM.png\" alt=\"alternate text\" width=\"500\" height=\"height\" style=\"padding-bottom:0.5em;\" /> </div>"
   ]
  },
  {
   "cell_type": "markdown",
   "metadata": {},
   "source": [
    "### 1.1 Simple Domestic Model\n",
    "\n",
    "As in previous labs we will begin in `sympy` by declaring variables and equations"
   ]
  },
  {
   "cell_type": "code",
   "execution_count": 2,
   "metadata": {},
   "outputs": [],
   "source": [
    "Q = sympy.Symbol(\"Q\")"
   ]
  },
  {
   "cell_type": "code",
   "execution_count": 3,
   "metadata": {},
   "outputs": [
    {
     "data": {
      "text/latex": [
       "$\\displaystyle 20 Q + 200$"
      ],
      "text/plain": [
       "20*Q + 200"
      ]
     },
     "execution_count": 3,
     "metadata": {},
     "output_type": "execute_result"
    }
   ],
   "source": [
    "supply = 200 + 20*Q\n",
    "supply"
   ]
  },
  {
   "cell_type": "code",
   "execution_count": 4,
   "metadata": {},
   "outputs": [
    {
     "data": {
      "text/latex": [
       "$\\displaystyle 1800 - 20 Q$"
      ],
      "text/plain": [
       "1800 - 20*Q"
      ]
     },
     "execution_count": 4,
     "metadata": {},
     "output_type": "execute_result"
    }
   ],
   "source": [
    "demand = 1800 - 20*Q\n",
    "demand"
   ]
  },
  {
   "cell_type": "markdown",
   "metadata": {},
   "source": [
    "Lets Solve for the domestic equilibrium Quantity (if the US was closed to trade \"autarky\") ( in millions of board feet) by setting $Q_d=Q_d$\n"
   ]
  },
  {
   "cell_type": "code",
   "execution_count": 5,
   "metadata": {},
   "outputs": [
    {
     "data": {
      "text/latex": [
       "$\\displaystyle 40$"
      ],
      "text/plain": [
       "40"
      ]
     },
     "execution_count": 5,
     "metadata": {},
     "output_type": "execute_result"
    }
   ],
   "source": [
    "Q_star = solve(demand, supply) # our version of solve is simplified for single solution systems\n",
    "Q_star"
   ]
  },
  {
   "cell_type": "code",
   "execution_count": 6,
   "metadata": {},
   "outputs": [
    {
     "name": "stdout",
     "output_type": "stream",
     "text": [
      "The domestic equilibrium quantity of lumber sold is 40 million board feet\n"
     ]
    }
   ],
   "source": [
    "# or alternatively\n",
    "print(\"The domestic equilibrium quantity of lumber sold is\", Q_star, \"million board feet\")"
   ]
  },
  {
   "cell_type": "markdown",
   "metadata": {},
   "source": [
    "Lets Solve for the domestic equilibrium Price  ( in Dollars per thousand board feet) by substituting  $Q^* $ into the demand equation)"
   ]
  },
  {
   "cell_type": "code",
   "execution_count": 7,
   "metadata": {},
   "outputs": [
    {
     "data": {
      "text/latex": [
       "$\\displaystyle 1000$"
      ],
      "text/plain": [
       "1000"
      ]
     },
     "execution_count": 7,
     "metadata": {},
     "output_type": "execute_result"
    }
   ],
   "source": [
    "P_star_d = demand.subs(Q, Q_star)\n",
    "P_star_d"
   ]
  },
  {
   "cell_type": "code",
   "execution_count": 8,
   "metadata": {},
   "outputs": [
    {
     "name": "stdout",
     "output_type": "stream",
     "text": [
      "The domestic equilibrium price of lumber sold is 1000 $ per bF\n"
     ]
    }
   ],
   "source": [
    "# or alternatively\n",
    "print(\"The domestic equilibrium price of lumber sold is\", P_star_d, \"$ per bF\")"
   ]
  },
  {
   "cell_type": "code",
   "execution_count": 9,
   "metadata": {},
   "outputs": [
    {
     "data": {
      "text/latex": [
       "$\\displaystyle 1000$"
      ],
      "text/plain": [
       "1000"
      ]
     },
     "execution_count": 9,
     "metadata": {},
     "output_type": "execute_result"
    }
   ],
   "source": [
    "P_star_s = demand.subs(Q, Q_star)\n",
    "P_star_s"
   ]
  },
  {
   "cell_type": "markdown",
   "metadata": {},
   "source": [
    "### 1.2 World Price\n",
    "Now let's introduce international trade and a world price for Lumber\n",
    "\n",
    "( Suppose a friendly neighboring country had lots of forests and lumber to sell)"
   ]
  },
  {
   "cell_type": "code",
   "execution_count": 10,
   "metadata": {},
   "outputs": [
    {
     "data": {
      "text/plain": [
       "400"
      ]
     },
     "execution_count": 10,
     "metadata": {},
     "output_type": "execute_result"
    }
   ],
   "source": [
    "World_Price = 400\n",
    "World_Price"
   ]
  },
  {
   "cell_type": "markdown",
   "metadata": {},
   "source": [
    "How much would the US market Demand at this lower World Price?"
   ]
  },
  {
   "cell_type": "code",
   "execution_count": 11,
   "metadata": {},
   "outputs": [
    {
     "name": "stdout",
     "output_type": "stream",
     "text": [
      "The quantity of lumber demanded at the World Price is 70 million board feet\n"
     ]
    }
   ],
   "source": [
    "QD_FreeTrade = solve(demand, World_Price)\n",
    "QD_FreeTrade\n",
    "print(\"The quantity of lumber demanded at the World Price is\", QD_FreeTrade, \"million board feet\")"
   ]
  },
  {
   "cell_type": "code",
   "execution_count": 12,
   "metadata": {},
   "outputs": [
    {
     "name": "stdout",
     "output_type": "stream",
     "text": [
      "The quantity of lumber sold by domestic producers at the World Price is 10 million board feet\n"
     ]
    }
   ],
   "source": [
    "QS_FreeTrade = solve(supply, World_Price)\n",
    "print(\"The quantity of lumber sold by domestic producers at the World Price is\", QS_FreeTrade, \"million board feet\")"
   ]
  },
  {
   "cell_type": "code",
   "execution_count": 13,
   "metadata": {},
   "outputs": [
    {
     "name": "stdout",
     "output_type": "stream",
     "text": [
      "The quantity of lumber imported at the World Price is 60 million board feet\n"
     ]
    }
   ],
   "source": [
    "Imports_FreeTrade = QD_FreeTrade - QS_FreeTrade\n",
    "print(\"The quantity of lumber imported at the World Price is\", Imports_FreeTrade, \"million board feet\")"
   ]
  },
  {
   "cell_type": "markdown",
   "metadata": {},
   "source": [
    "<div style=\"width:image width px; font-size:80%; text-align:center;\"><img src=\"https://pressbooks.bccampus.ca/uvicecon103/wp-content/uploads/sites/58/2016/11/Screen-Shot-2016-12-27-at-9.39.52-AM.png\" alt=\"alternate text\" width=\"500\" height=\"height\" style=\"padding-bottom:0.5em;\" /></div>"
   ]
  },
  {
   "cell_type": "markdown",
   "metadata": {},
   "source": [
    "### 1.2 Tariffs\n",
    "Now let's introduce a US tariff on Lumber\n",
    "\n",
    "( Suppose a president wanted to protect domestic producers of lumber and \"save logging jobs\")"
   ]
  },
  {
   "cell_type": "code",
   "execution_count": 14,
   "metadata": {},
   "outputs": [
    {
     "data": {
      "text/plain": [
       "400"
      ]
     },
     "execution_count": 14,
     "metadata": {},
     "output_type": "execute_result"
    }
   ],
   "source": [
    "Tariff = 400\n",
    "Tariff"
   ]
  },
  {
   "cell_type": "code",
   "execution_count": 15,
   "metadata": {},
   "outputs": [
    {
     "data": {
      "text/plain": [
       "800"
      ]
     },
     "execution_count": 15,
     "metadata": {},
     "output_type": "execute_result"
    }
   ],
   "source": [
    "Protected_Price = World_Price + Tariff\n",
    "Protected_Price"
   ]
  },
  {
   "cell_type": "code",
   "execution_count": 16,
   "metadata": {},
   "outputs": [
    {
     "name": "stdout",
     "output_type": "stream",
     "text": [
      "The US tariff on imported lumber is 400 $ per bF\n",
      "US Consumers will now pay 800 $ per bF\n"
     ]
    }
   ],
   "source": [
    "#alternatively\n",
    "print(\"The US tariff on imported lumber is\", Tariff, \"$ per bF\")\n",
    "print(\"US Consumers will now pay\", Protected_Price, \"$ per bF\")"
   ]
  },
  {
   "cell_type": "code",
   "execution_count": 17,
   "metadata": {},
   "outputs": [
    {
     "name": "stdout",
     "output_type": "stream",
     "text": [
      "The quantity of lumber demanded at the price with Tariffs is 50 million board feet\n"
     ]
    }
   ],
   "source": [
    "QD_Protected = solve(demand, Protected_Price)\n",
    "print(\"The quantity of lumber demanded at the price with Tariffs is\", QD_Protected, \"million board feet\")"
   ]
  },
  {
   "cell_type": "code",
   "execution_count": 18,
   "metadata": {},
   "outputs": [
    {
     "name": "stdout",
     "output_type": "stream",
     "text": [
      "The quantity of lumber sold by domestic producers at the price with Tariffs is 30 million board feet\n"
     ]
    }
   ],
   "source": [
    "QS_Protected = solve(supply, Protected_Price)\n",
    "print(\"The quantity of lumber sold by domestic producers at the price with Tariffs is\", QS_Protected, \"million board feet\")"
   ]
  },
  {
   "cell_type": "code",
   "execution_count": 19,
   "metadata": {},
   "outputs": [
    {
     "data": {
      "text/latex": [
       "$\\displaystyle 20$"
      ],
      "text/plain": [
       "20"
      ]
     },
     "execution_count": 19,
     "metadata": {},
     "output_type": "execute_result"
    }
   ],
   "source": [
    "Imports_Protected = QD_Protected - QS_Protected\n",
    "Imports_Protected"
   ]
  },
  {
   "cell_type": "code",
   "execution_count": 20,
   "metadata": {},
   "outputs": [
    {
     "data": {
      "text/latex": [
       "$\\displaystyle 40$"
      ],
      "text/plain": [
       "40"
      ]
     },
     "execution_count": 20,
     "metadata": {},
     "output_type": "execute_result"
    }
   ],
   "source": [
    "Change_in_Imports = Imports_FreeTrade - Imports_Protected\n",
    "Change_in_Imports"
   ]
  },
  {
   "cell_type": "code",
   "execution_count": 21,
   "metadata": {},
   "outputs": [
    {
     "name": "stdout",
     "output_type": "stream",
     "text": [
      "The US will now import just 20 down from 60\n",
      "This constitutes a reduction in imports of  40 million bF\n"
     ]
    }
   ],
   "source": [
    "# Alternatively\n",
    "print(\"The US will now import just\" ,Imports_Protected, \"down from\", Imports_FreeTrade)\n",
    "print(\"This constitutes a reduction in imports of \", Change_in_Imports, \"million bF\")"
   ]
  },
  {
   "cell_type": "markdown",
   "metadata": {},
   "source": [
    "### 2.1 Graphical Solutions\n",
    "Now let's work on graphing this same solution\n",
    "In the following section we will define functions to solve these equations"
   ]
  },
  {
   "cell_type": "code",
   "execution_count": 22,
   "metadata": {},
   "outputs": [],
   "source": [
    "def plot_equation(equation, price_start, price_end, label=None):\n",
    "    plot_prices = [price_start, price_end]\n",
    "    plot_quantities = [equation.subs(list(equation.free_symbols)[0], c) for c in plot_prices]\n",
    "    plt.plot(plot_prices, plot_quantities, label=label)\n",
    "    \n",
    "def plot_intercept(eq1, eq2):\n",
    "    ex = sympy.solve(eq1-eq2)[0]\n",
    "    why = eq1.subs(list(eq1.free_symbols)[0], ex)\n",
    "    plt.scatter([ex], [why])\n",
    "    return (ex, why)\n",
    "\n",
    "def plot_intercept_tradeprice (eq, price):\n",
    "    ex = solve(eq, price)\n",
    "    why = price\n",
    "    plt.scatter([ex], [why])\n",
    "    return (ex, why)\n"
   ]
  },
  {
   "cell_type": "code",
   "execution_count": 23,
   "metadata": {},
   "outputs": [
    {
     "data": {
      "text/plain": [
       "(40, 1000)"
      ]
     },
     "execution_count": 23,
     "metadata": {},
     "output_type": "execute_result"
    },
    {
     "data": {
      "image/png": "[encoded data removed]",
      "text/plain": [
       "<Figure size 432x288 with 1 Axes>"
      ]
     },
     "metadata": {
      "needs_background": "light"
     },
     "output_type": "display_data"
    }
   ],
   "source": [
    "# Simple Equilibrium Graphed\n",
    "# Here are the basic elements of the Graph\n",
    "#Demand Curve    \n",
    "plot_equation(demand, 0, 100)\n",
    "#Supply Curve\n",
    "plot_equation(supply, 0, 100)\n",
    "#Domestic Equilibrium Point\n",
    "plot_intercept(supply, demand)"
   ]
  },
  {
   "cell_type": "code",
   "execution_count": 24,
   "metadata": {},
   "outputs": [
    {
     "data": {
      "text/plain": [
       "(70, 400)"
      ]
     },
     "execution_count": 24,
     "metadata": {},
     "output_type": "execute_result"
    },
    {
     "data": {
      "image/png": "[encoded data removed]",
      "text/plain": [
       "<Figure size 432x288 with 1 Axes>"
      ]
     },
     "metadata": {
      "needs_background": "light"
     },
     "output_type": "display_data"
    }
   ],
   "source": [
    "\n",
    "# Equilibrium with World Price and Protected Price\n",
    "\n",
    "plot_equation(demand, 0, 100)\n",
    "plot_equation(supply, 0, 100)\n",
    "plt.hlines(World_Price, 0,100)\n",
    "plt.ylim(0,2000)\n",
    "plot_intercept(supply, demand)\n",
    "plot_intercept_tradeprice(supply,World_Price)\n",
    "plot_intercept_tradeprice(demand,World_Price)"
   ]
  },
  {
   "cell_type": "markdown",
   "metadata": {},
   "source": [
    "### 2.2 Labeling the Graphs\n",
    "\n",
    "These graphs in 2.1 don't quite have enough information in them, lets compare to the textbook table above and add in the information that is missing\n"
   ]
  },
  {
   "cell_type": "code",
   "execution_count": 25,
   "metadata": {},
   "outputs": [
    {
     "data": {
      "text/plain": [
       "<matplotlib.collections.LineCollection at 0x7f7714d35128>"
      ]
     },
     "execution_count": 25,
     "metadata": {},
     "output_type": "execute_result"
    },
    {
     "data": {
      "image/png": "[encoded data removed]",
      "text/plain": [
       "<Figure size 432x288 with 1 Axes>"
      ]
     },
     "metadata": {
      "needs_background": "light"
     },
     "output_type": "display_data"
    }
   ],
   "source": [
    "# In order to label the axes - lets make it a combination of plots and axes \n",
    "fig, ax = plt.subplots()\n",
    "# Setting Axes at P=0, Q=0\n",
    "ax.axhline(y=0, color='k')\n",
    "ax.axvline(x=0, color='k')\n",
    "\n",
    "#Demand Curve    \n",
    "plot_equation(demand, 0, 90)\n",
    "#Supply Curve\n",
    "plot_equation(supply, 0, 90)\n",
    "#Domestic Equilibrium Point\n",
    "plot_intercept(supply, demand)\n",
    "\n",
    "# Add a title to the Plot\n",
    "plt.title(\"The US Lumber Market\");\n",
    "# Label the axes\n",
    "plt.xlabel('Millions of Board Feet')\n",
    "plt.ylabel('Dollars per thousand board feet')\n",
    "#Legend for the Lines\n",
    "plt.legend([\"Supply\", \"Demand\"], loc=5, framealpha=1)\n",
    "#Dashed Lines at P_star, Q_star\n",
    "plt.hlines(P_star_d, 0,Q_star,linestyle=\"--\")\n",
    "plt.vlines(Q_star, 0,P_star_d,linestyle=\"--\")\n"
   ]
  },
  {
   "cell_type": "markdown",
   "metadata": {},
   "source": [
    "## Excercise 1 - Formatting \n",
    "\n",
    "Can you format up the following table with title, axes, legends?"
   ]
  },
  {
   "cell_type": "code",
   "execution_count": 26,
   "metadata": {},
   "outputs": [
    {
     "data": {
      "text/plain": [
       "(70, 400)"
      ]
     },
     "execution_count": 26,
     "metadata": {},
     "output_type": "execute_result"
    },
    {
     "data": {
      "image/png": "[encoded data removed]",
      "text/plain": [
       "<Figure size 432x288 with 1 Axes>"
      ]
     },
     "metadata": {
      "needs_background": "light"
     },
     "output_type": "display_data"
    }
   ],
   "source": [
    "# Equilibrium with World Price and Protected Price\n",
    "\n",
    "plot_equation(demand, 0, 100)\n",
    "plot_equation(supply, 0, 100)\n",
    "plt.hlines(World_Price, 0,100)\n",
    "plt.ylim(0,2000)\n",
    "plot_intercept(supply, demand)\n",
    "plot_intercept_tradeprice(supply,World_Price)\n",
    "plot_intercept_tradeprice(demand,World_Price)"
   ]
  },
  {
   "cell_type": "markdown",
   "metadata": {},
   "source": [
    "## Section 3 - adding in an adjustable Tariff\n",
    "\n"
   ]
  },
  {
   "cell_type": "code",
   "execution_count": 27,
   "metadata": {},
   "outputs": [
    {
     "data": {
      "application/vnd.jupyter.widget-view+json": {
       "model_id": "110c7ff743e843d2adb14ba78e8b4f79",
       "version_major": 2,
       "version_minor": 0
      },
      "text/plain": [
       "interactive(children=(IntSlider(value=400, description='Tariff', max=1000, step=50), Output()), _dom_classes=(…"
      ]
     },
     "metadata": {},
     "output_type": "display_data"
    }
   ],
   "source": [
    "Tariff = widgets.IntSlider(value=400, min=0, max=1000, step=50)\n",
    "plot = lambda Tariff: plot_1(20, 200, -20, 1800, 400, Tariff)\n",
    "widgets.interact(plot, Tariff=Tariff);"
   ]
  },
  {
   "cell_type": "markdown",
   "metadata": {},
   "source": [
    " "
   ]
  }
 ],
 "metadata": {
  "kernelspec": {
   "display_name": "Python 3",
   "language": "python",
   "name": "python3"
  },
  "language_info": {
   "codemirror_mode": {
    "name": "ipython",
    "version": 3
   },
   "file_extension": ".py",
   "mimetype": "text/x-python",
   "name": "python",
   "nbconvert_exporter": "python",
   "pygments_lexer": "ipython3",
   "version": "3.6.8"
  },
  "varInspector": {
   "cols": {
    "lenName": 16,
    "lenType": 16,
    "lenVar": 40
   },
   "kernels_config": {
    "python": {
     "delete_cmd_postfix": "",
     "delete_cmd_prefix": "del ",
     "library": "var_list.py",
     "varRefreshCmd": "print(var_dic_list())"
    },
    "r": {
     "delete_cmd_postfix": ") ",
     "delete_cmd_prefix": "rm(",
     "library": "var_list.r",
     "varRefreshCmd": "cat(var_dic_list()) "
    }
   },
   "types_to_exclude": [
    "module",
    "function",
    "builtin_function_or_method",
    "instance",
    "_Feature"
   ],
   "window_display": false
  }
 },
 "nbformat": 4,
 "nbformat_minor": 2
}
