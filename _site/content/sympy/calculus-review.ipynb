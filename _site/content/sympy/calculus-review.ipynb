{
 "cells": [
  {
   "cell_type": "markdown",
   "metadata": {},
   "source": [
    "# Calculus Review"
   ]
  },
  {
   "cell_type": "markdown",
   "metadata": {},
   "source": [
    "Let's review partial derivatives, which is simplying taking derivatives with respect to the variable specified in the partial derivative. All other variables are treated as constants.\n",
    "\n",
    "For example, the partial derivative, with respect to $x$, of $2xy$ is $2y$.  Here, $y$ is treated as a constant.\n",
    "\n",
    "$$\\displaystyle\\frac{\\partial}{\\partial y}(2xy) = 2x$$\n",
    "\n",
    "$$\\displaystyle\\frac{\\partial}{\\partial x}(x^{4} + xy^{2} + x) = 4x^{3} + y^{2} + 1$$"
   ]
  },
  {
   "cell_type": "markdown",
   "metadata": {},
   "source": [
    " "
   ]
  }
 ],
 "metadata": {
  "kernelspec": {
   "display_name": "Python 3",
   "language": "python",
   "name": "python3"
  },
  "language_info": {
   "codemirror_mode": {
    "name": "ipython",
    "version": 3
   },
   "file_extension": ".py",
   "mimetype": "text/x-python",
   "name": "python",
   "nbconvert_exporter": "python",
   "pygments_lexer": "ipython3",
   "version": "3.6.5"
  }
 },
 "nbformat": 4,
 "nbformat_minor": 2
}
