{
 "cells": [
  {
   "cell_type": "markdown",
   "metadata": {},
   "source": [
    "<table style=\"width: 100%;\" id=\"nb-header\">\n",
    "    <tr style=\"background-color: transparent;\"><td>\n",
    "        <img src=\"https://d8a-88.github.io/econ-fa19/assets/images/blue_text.png\" width=\"250px\" style=\"margin-left: 0;\" />\n",
    "    </td><td>\n",
    "        <p style=\"text-align: right; font-size: 12pt;\"><strong>Economic Models</strong>, Fall 2019<br>\n",
    "            Dr. Eric Van Dusen</p></td></tr>\n",
    "</table>"
   ]
  },
  {
   "cell_type": "code",
   "execution_count": null,
   "metadata": {},
   "outputs": [],
   "source": [
    "import qgrid\n",
    "import numpy as np\n",
    "import pandas as pd\n",
    "import matplotlib.pyplot as plt\n",
    "%matplotlib inline"
   ]
  },
  {
   "cell_type": "markdown",
   "metadata": {},
   "source": [
    "This Notebook will demonstrate using QGrid - a way to interact with the data in a table.  Unfortunately Qgrid works with Pandas, so this Notebook uses a pandas Dataframe as its data source. (I used the naming convention df for dataframe)\n",
    "\n",
    "1. First we will read in a dataframe with some Supply functions for 3 firms, they have 3 quantities they will supply at three possible prices\n",
    "2. In the first part Firm C is not producing anything , and production is set at zero\n",
    "3. We will create a market supply by summing the supply from Firm A and Firm B\n",
    "4. When the widget is created - you can enter and edit the values of the cells\n"
   ]
  },
  {
   "cell_type": "markdown",
   "metadata": {},
   "source": [
    "## DataFrame Widget##"
   ]
  },
  {
   "cell_type": "code",
   "execution_count": null,
   "metadata": {},
   "outputs": [],
   "source": [
    "df_Market = pd.DataFrame({\n",
    "    'Price' : [5, 10, 15],\n",
    "    'A' : [20, 30, 40],\n",
    "    'B' : [25, 35, 50], \n",
    "    'C' : [0, 0, 0],  })\n",
    "\n",
    "df_Market['Total_Supply_ABC'] = df_Market['A'] + df_Market['B']+ df_Market['C']\n",
    "\n",
    "qgrid_widget = qgrid.show_grid(df_Market, show_toolbar=True)\n",
    "qgrid_widget"
   ]
  },
  {
   "cell_type": "markdown",
   "metadata": {},
   "source": [
    "So go in and play around with different values for firm C\n",
    "\n",
    "How about [12,17,55]\n",
    "\n",
    "or how about [0,25,55}\n",
    "\n",
    "What do we have to assume about C ( it has to increase or stay the same as Price increases) "
   ]
  },
  {
   "cell_type": "markdown",
   "metadata": {},
   "source": [
    "*Note - if you manipulate the data in the Qgrid widget - you need to save the dataframe - here we rename it as updated_df*"
   ]
  },
  {
   "cell_type": "code",
   "execution_count": null,
   "metadata": {},
   "outputs": [],
   "source": [
    "updated_df=qgrid_widget.get_changed_df()\n",
    "updated_df['Total_Supply_ABC'] = updated_df['A'] + updated_df['B']+ updated_df['C']\n",
    "updated_df"
   ]
  },
  {
   "cell_type": "markdown",
   "metadata": {},
   "source": [
    "## Graphing##\n",
    "Now we are going to graph the individual supply curves of each firm, alongside the total Supply to crease a Market Supply"
   ]
  },
  {
   "cell_type": "code",
   "execution_count": null,
   "metadata": {},
   "outputs": [],
   "source": [
    "\n",
    "ax = plt.gca()\n",
    "updated_df.plot(kind='line', y='Price', x='A', ax=ax)\n",
    "updated_df.plot(kind='line', y='Price', x='B', ax=ax)\n",
    "updated_df.plot(kind='line', y='Price', x='C', ax=ax)\n",
    "updated_df.plot(kind='line', y='Price', x='Total_Supply_ABC', ax=ax)\n",
    "plt.xlabel('Quantity')\n",
    "plt.ylabel('Price')\n",
    "plt.title('Market Supply')\n",
    "plt.legend((\"Quantity supplied by A\",\"Quantity supplied by B\",\"Quantity supplied by C\", \"Market Supply A+B\"), bbox_to_anchor=(1.04,1), loc=\"center left\")\n",
    "\n",
    "plt.show()"
   ]
  },
  {
   "cell_type": "markdown",
   "metadata": {},
   "source": [
    "## Thought questions ##\n",
    "\n",
    "1.  Can the individual supply lines cross?\n",
    "\n",
    "2. Can individual supply schedules = 0, at a lower price?\n",
    "\n",
    "3. Can lines bend backwards?\n"
   ]
  },
  {
   "cell_type": "markdown",
   "metadata": {},
   "source": [
    "##  Market Analysis - Supply Demand and new market entrant##\n",
    "Let's start again and add in\n",
    "1. A demand function\n",
    "2. A comparison of the supply with just firms A and B to with a third firm C\n",
    "3. What happens to equilibrium Price and Quantity?"
   ]
  },
  {
   "cell_type": "code",
   "execution_count": null,
   "metadata": {},
   "outputs": [],
   "source": [
    "qgrid_widget = qgrid.show_grid(updated_df, show_toolbar=True)\n",
    "qgrid_widget"
   ]
  },
  {
   "cell_type": "code",
   "execution_count": null,
   "metadata": {},
   "outputs": [],
   "source": [
    "updated_df=qgrid_widget.get_changed_df()\n",
    "updated_df['Total_Supply_AB'] = updated_df['A'] + updated_df['B'] \n",
    "updated_df['Total_Supply_ABC'] = updated_df['A'] + updated_df['B'] + updated_df['C']"
   ]
  },
  {
   "cell_type": "markdown",
   "metadata": {},
   "source": [
    "Lets specify a Demand curve - prices and quantities - so we need Quantities demanded that correspond to a price of [5,10,15]"
   ]
  },
  {
   "cell_type": "code",
   "execution_count": null,
   "metadata": {},
   "outputs": [],
   "source": [
    "Demand =[100,75,50]"
   ]
  },
  {
   "cell_type": "code",
   "execution_count": null,
   "metadata": {},
   "outputs": [],
   "source": [
    "updated_df['Demand']=Demand"
   ]
  },
  {
   "cell_type": "code",
   "execution_count": null,
   "metadata": {},
   "outputs": [],
   "source": [
    "updated_df"
   ]
  },
  {
   "cell_type": "code",
   "execution_count": null,
   "metadata": {},
   "outputs": [],
   "source": [
    "ax = plt.gca()\n",
    "updated_df.plot(kind='line', y='Price', x='A', ax=ax)\n",
    "updated_df.plot(kind='line', y='Price', x='B', ax=ax)\n",
    "updated_df.plot(kind='line', y='Price', x='C', ax=ax)\n",
    "updated_df.plot(kind='line', y='Price', x='Total_Supply_AB', ax=ax)\n",
    "updated_df.plot(kind='line', y='Price', x='Total_Supply_ABC', ax=ax)\n",
    "updated_df.plot(kind='line', y='Price', x='Demand', ax=ax)\n",
    "\n",
    "plt.xlabel('Quantity')\n",
    "plt.ylabel('Price')\n",
    "plt.title('Market Supply')\n",
    "plt.legend((\"Quantity supplied by A\",\"Quantity supplied by B\",\"Quantity supplied by C\", \"Supply_AB\",\"Supply_ABC\", \"Total Demand\" ), bbox_to_anchor=(1.04,1), loc=\"center left\")\n",
    "\n",
    "plt.show()"
   ]
  },
  {
   "cell_type": "markdown",
   "metadata": {},
   "source": [
    "## Thought questions 2 ##\n",
    "1. What happens to the market price and quantity?  Can you eyeball the changes?\n",
    "\n",
    "2. What happens to each individual producer - can you tell from this graph?\n",
    "3. Should firm C enter the market?"
   ]
  },
  {
   "cell_type": "markdown",
   "metadata": {},
   "source": [
    "### Moving On\n",
    "\n",
    "Click [here](Intro_to_Production.ipynb) to open the next notebook."
   ]
  },
  {
   "cell_type": "markdown",
   "metadata": {},
   "source": [
    " "
   ]
  }
 ],
 "metadata": {
  "kernelspec": {
   "display_name": "Python 3",
   "language": "python",
   "name": "python3"
  },
  "language_info": {
   "codemirror_mode": {
    "name": "ipython",
    "version": 3
   },
   "file_extension": ".py",
   "mimetype": "text/x-python",
   "name": "python",
   "nbconvert_exporter": "python",
   "pygments_lexer": "ipython3",
   "version": "3.6.5"
  },
  "varInspector": {
   "cols": {
    "lenName": 16,
    "lenType": 16,
    "lenVar": 40
   },
   "kernels_config": {
    "python": {
     "delete_cmd_postfix": "",
     "delete_cmd_prefix": "del ",
     "library": "var_list.py",
     "varRefreshCmd": "print(var_dic_list())"
    },
    "r": {
     "delete_cmd_postfix": ") ",
     "delete_cmd_prefix": "rm(",
     "library": "var_list.r",
     "varRefreshCmd": "cat(var_dic_list()) "
    }
   },
   "types_to_exclude": [
    "module",
    "function",
    "builtin_function_or_method",
    "instance",
    "_Feature"
   ],
   "window_display": false
  }
 },
 "nbformat": 4,
 "nbformat_minor": 2
}
