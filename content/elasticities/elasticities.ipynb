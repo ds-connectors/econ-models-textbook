{
 "cells": [
  {
   "cell_type": "markdown",
   "metadata": {},
   "source": [
    "<table style=\"width: 100%;\">\n",
    "    <tr style=\"background-color: transparent;\"><td>\n",
    "        <img src=\"https://d8a-88.github.io/econ-fa19/assets/images/blue_text.png\" width=\"250px\" style=\"margin-left: 0;\" />\n",
    "    </td><td>\n",
    "        <p style=\"text-align: right; font-size: 12pt;\"><strong>Economic Models</strong>, Fall 2019<br>\n",
    "            Dr. Eric Van Dusen</p></td></tr>\n",
    "</table>"
   ]
  },
  {
   "cell_type": "markdown",
   "metadata": {},
   "source": [
    "# Lab 5: Welfare and Elasticities"
   ]
  },
  {
   "cell_type": "code",
   "execution_count": null,
   "metadata": {
    "scrolled": false
   },
   "outputs": [],
   "source": [
    "import matplotlib.pyplot as plt\n",
    "import matplotlib.patches as patches\n",
    "import sympy\n",
    "from ipywidgets import interact, interactive, fixed, interact_manual\n",
    "import ipywidgets as widgets\n",
    "from IPython.display import display\n",
    "import numpy as np\n",
    "import warnings\n",
    "warnings.filterwarnings('ignore')\n",
    "plt.style.use(\"seaborn-muted\")"
   ]
  },
  {
   "cell_type": "markdown",
   "metadata": {},
   "source": [
    "## Consumer Surplus"
   ]
  },
  {
   "cell_type": "markdown",
   "metadata": {},
   "source": [
    "A competitive market is comprised of producers who make goods and services and the consumers who purchase and use them. Through market forces, these consumers and producers agree on a common price for the good or service in question. We will assume that there is no price discrimination and all consumers face the same price. This is typical but not always the case in the real world. Although all consumers face the same market price, consumers are different in how much they individually value a good. We say that consumers have a maximum price that they are willing to pay for a good, and any price marginally higher than this price will dissuade the consumer from participating in the market. This max WTP (willingness to pay) price varies among entities based on their desire for the good, which in turn can be based on how much of the good they already have.\n",
    "\n",
    "Consider the market for electricity. Among consumers we have entities such as households, commercial buildings, factories, and so on. A factory would likely have a very high WTP for electricity because the opportunity costs for factories to not operate are very high. Capital is expensive, employees still have to be paid, and it is inconvenient to have to stop and start up machinery frequently. Thus, for a factory it is preferable to always have a reliable supply of electricity to continue operations and this need is reflected in the WTP. Contrast this with households, who certainly value having electricity, but should electricity become prohibitively expensive, probably would decide to cut back on usage as the drawbacks of not having electricity aren't as severe compared to the factory above."
   ]
  },
  {
   "cell_type": "markdown",
   "metadata": {},
   "source": [
    "## Producer Surplus"
   ]
  },
  {
   "cell_type": "markdown",
   "metadata": {},
   "source": [
    "Producers experience a similar characteristic. A producer has a minimum price at which it is willing to produce a good based on its costs. Any market price less than this price would dissuade a producer from supplying its good. Again, in the electricity example, we have several power plants that produce electricity, but each inherently does so at different costs. Imagine and contrast the operating costs of a solar farm with a coal plant, or a newer, more efficient natural gas plant versus an older one.\n",
    "\n",
    "Putting all of these concepts together we arrive at the idea of economic welfare. Suppose electricity costs 10 cents per kWh. On the demand side, imagine a factory who's WTP is 30 cents/kWh. This factory enjoys a consumer surplus of 20 cents/kWh, in other words, it's paying 20 cents less per kWh than what it would be willing to pay. A household might have a WTP of 15 cents/kWh. Here the household's surplus is only 5 cents/kWh. We can also imagine a consumer whose WTP is less than the market price and thus doesn't participate in the market. Imagine for some reason that cryptocurrency prices have dropped to the point that they aren't worth the electricity it takes to mine them. In this case, we might have an idle or non-existent crypto-farm (a place with a lot of computing power) due to electricity being too expensive. On the producer side, maybe we have a solar plant which is operating at the market price, but a natural gas plant that is idling because the price of supplying electricity isn't sufficient to make up for operating costs."
   ]
  },
  {
   "cell_type": "markdown",
   "metadata": {},
   "source": [
    "Combining the surpluses of all individual consumers and producers yields the market consumer surplus and producer surplus. As the market price fluctuates, certain comsumers and producers enter and exit the market, and the total surplus varies. Note from the above examples that a consumer is not always an individual, it can be a firm buying from another firm. We now explore further."
   ]
  },
  {
   "cell_type": "markdown",
   "metadata": {},
   "source": [
    "## Example"
   ]
  },
  {
   "cell_type": "markdown",
   "metadata": {},
   "source": [
    "We create a consumer class with a WTP characteristic, and a list of consumers with WTP from 10 to 1. The binary function `demand` indicates whether the consumer participates in the market at a given price or not."
   ]
  },
  {
   "cell_type": "code",
   "execution_count": null,
   "metadata": {
    "scrolled": false,
    "tags": [
     "q_1_1",
     "auto"
    ]
   },
   "outputs": [],
   "source": [
    "class Consumer:\n",
    "    def __init__(self, WTP):\n",
    "        self.WTP = WTP\n",
    "    def demand(self, price):\n",
    "        if price <= self.WTP:\n",
    "            return 1\n",
    "        else:\n",
    "            return 0\n",
    "    def surplus(self, price):\n",
    "        if price <= self.WTP:\n",
    "            return self.WTP - price\n",
    "        else:\n",
    "            return 0\n",
    "        \n",
    "consumers = [Consumer(x) for x in range(10,0,-1)]\n",
    "\n",
    "print([x.demand(6) for x in consumers])"
   ]
  },
  {
   "cell_type": "markdown",
   "metadata": {},
   "source": [
    "For a market price of 6, we have 5 consumers who participate and 5 who don't. Now let's make a matrix of the lists of participants for each market price between 1 and 10."
   ]
  },
  {
   "cell_type": "code",
   "execution_count": null,
   "metadata": {
    "scrolled": false
   },
   "outputs": [],
   "source": [
    "for price in range(10,0,-1):\n",
    "    print([x.demand(price) for x in consumers])"
   ]
  },
  {
   "cell_type": "markdown",
   "metadata": {},
   "source": [
    "Notice the vague resemblance to a downward-sloping demand curve. The left-most consumer, with a WTP of 10, always participates for these prices. The right-most consumer only participates at a market price of 1. Now lets try and find participation for each price point, starting at 10."
   ]
  },
  {
   "cell_type": "code",
   "execution_count": null,
   "metadata": {
    "scrolled": false
   },
   "outputs": [],
   "source": [
    "print(\"Market Price:\", \"Market Participants\")\n",
    "print(\"\")\n",
    "for price in range(10,0,-1):\n",
    "    if price == 10:\n",
    "        print(str(price) + \":\", sum([x.demand(price) for x in consumers]))\n",
    "    else:\n",
    "        print(str(price) + \": \", sum([x.demand(price) for x in consumers]))"
   ]
  },
  {
   "cell_type": "markdown",
   "metadata": {},
   "source": [
    "Here, each number represents the total number of market participants as the market price *decreases* starting from 10. Notice as the price decreases, participation increases in this demand case. Now lets find actual surplus."
   ]
  },
  {
   "cell_type": "code",
   "execution_count": null,
   "metadata": {
    "scrolled": false
   },
   "outputs": [],
   "source": [
    "for price in range(10,0,-1):\n",
    "    print([x.surplus(price) for x in consumers])"
   ]
  },
  {
   "cell_type": "markdown",
   "metadata": {},
   "source": [
    "Instead of printing a binary 1 or 0 indicating market participation, we've displayed each participant's actual surplus value. Similarly, let's find total surplus per price point."
   ]
  },
  {
   "cell_type": "code",
   "execution_count": null,
   "metadata": {
    "scrolled": false
   },
   "outputs": [],
   "source": [
    "print(\"Market Price:\", \"Consumer Surplus\")\n",
    "print(\"\")\n",
    "for price in range(10,0,-1):\n",
    "    if price == 10:\n",
    "        print(str(price) + \":\", sum([x.surplus(price) for x in consumers]))\n",
    "    else:\n",
    "        print(str(price) + \": \", sum([x.surplus(price) for x in consumers]))"
   ]
  },
  {
   "cell_type": "markdown",
   "metadata": {},
   "source": [
    "Clearly there must be an opposite \"force\" at play here, otherwise all prices would converge to 0 as consumers maximize their surplus (more on maximization later). Naturally, we must also consider the producers who sell their product to the consumers. We essentially repeat the exercise above, but now instead of a consumer class with individual willingness to pay, we have a producer class with some minimal market price at which production can occur."
   ]
  },
  {
   "cell_type": "code",
   "execution_count": null,
   "metadata": {
    "scrolled": false
   },
   "outputs": [],
   "source": [
    "class Producer:\n",
    "    def __init__(self, WTA):\n",
    "        self.WTA = WTA\n",
    "    def supply(self, price):\n",
    "        if price >= self.WTA:\n",
    "            return 1\n",
    "        else:\n",
    "            return 0\n",
    "    def surplus(self, price):\n",
    "        if price >= self.WTA:\n",
    "            return price - self.WTA\n",
    "        else:\n",
    "            return 0\n",
    "        \n",
    "producers = [Producer(x) for x in range(1,11)]\n",
    "\n",
    "for price in range(10,0,-1):\n",
    "    print([x.surplus(price) for x in producers])"
   ]
  },
  {
   "cell_type": "markdown",
   "metadata": {},
   "source": [
    "Looks familiar, but with an opposite slope! Here we've captured the idea of producer surplus. At a market price of 10, the leftmost producer is very happy with a surplus of 9, as in this case that producer is actually able to produce and sell at a price of 1 but is able to operate at a price of 10."
   ]
  },
  {
   "cell_type": "markdown",
   "metadata": {},
   "source": [
    "## Some Thoughts"
   ]
  },
  {
   "cell_type": "markdown",
   "metadata": {},
   "source": [
    "Before we continue, let's take a moment to think about the meaning and significance of our findings. Firms that can produce at lower market prices than their peers seem to be better off in the sense that they enjoy higher surplus. This minimum production price is based on the costs of operation the firm experiences, so naturally it seems that firms that can operate at lower costs do better. Certainly, if market prices decrease, more inefficent firms would be the first to shut down while these low operating cost firms continue to do business. This idea is very important in economics: Firms that can reduce their costs are rewarded with higher surplus. This is pretty much how society advances, at least in an economics context. Production methods continually to improve, and less efficient firms must either follow suit or shut down as prices decrease, to the benefit of consumers.\n",
    "\n",
    "However, what would the equivalent be for the consumer side of things? We've discussed the idea of willingness to pay, and initially it might seem that in our perfectly-competitive market environment, only the consumers who most need a good or service will be the first to get it, as their WTP is the highest. We might think that resources are efficiently allocated in this way. Most of the time this is likely the case, but we've made an assumption while reaching this conclusion; an assumption that doesn't necessarily hold. We have assumed that a person with high willingness to pay also has at least an equally high *ability* to pay. In reality, this might not be the case. A hungry person might have high WTP for a serving of food, but if this person lacks the means to pay for this food, his willingness to pay won't do him much good. In this scenario, our earlier exercise reflects willingness to pay with a simultaneous ability to pay as well. While this week isn't about the ethics of certain types of markets and whether they achieve their goals, it's important to keep in mind that in these ideal exercises, an efficient economy with rational pricing should reflect consumers' willingness to pay, whereas in reality this might not actually be the case."
   ]
  },
  {
   "cell_type": "markdown",
   "metadata": {},
   "source": [
    "## Note on the Demand and Supply Curves"
   ]
  },
  {
   "cell_type": "markdown",
   "metadata": {},
   "source": [
    "As pointed out above, the matrix we saw with rows of surpluses and columns of prices resembles the demand curve in the sense that we can see a diagonal line separating participants from non-participants. This is no coincidence. This idea is essentially what the demand and supply curves depict, except that due to there usually being many participants in a market, we simplify the concept to a continuous curve as opposed to a set of discrete values. This is helpful not only for visualization, but as we will soon see we can use these curves to find rates of change, which will prove to be useful as well."
   ]
  },
  {
   "cell_type": "markdown",
   "metadata": {},
   "source": [
    "Earlier we had a matrix of each individual's surplus at each price point, and the overall surplus at each price point. Notice how as the price decreased, surplus increased. Let's see this exact same concept illustrated on a familiar demand curve. Take a few moments to adjust the slider controlling the market price to see how consumer surplus behaves."
   ]
  },
  {
   "cell_type": "code",
   "execution_count": null,
   "metadata": {
    "scrolled": false
   },
   "outputs": [],
   "source": [
    "def demand(price):\n",
    "    p = sympy.Symbol(\"p\")\n",
    "    consumers = [Consumer(x) for x in range(0,11)]\n",
    "    demand_equation = 10 - p\n",
    "    prices = [x for x in range(0,11)]\n",
    "    demand_Q = [demand_equation.subs(p,x) for x in prices]\n",
    "    \n",
    "    plt.figure(figsize = [9,6])\n",
    "    plt.plot(prices, demand_Q)\n",
    "    plt.plot(demand_equation.subs(p,price), price, 'ro')\n",
    "    \n",
    "    triangle1 = patches.Polygon([[demand_equation.subs(p,price),price], [0,price], [0,10]], True, color='g')\n",
    "    current_axis = plt.gca()\n",
    "    current_axis.add_patch(triangle1)\n",
    "    \n",
    "    plt.xlabel(\"Demand Quantity\")\n",
    "    plt.ylabel(\"Price\")\n",
    "    plt.title(\"Demand Curve with Consumer Surplus Shaded\")\n",
    "    plt.show()\n",
    "    print(\"Consumer surplus is equal to: \"+str(sum([person.surplus(price) for person in consumers])))\n",
    "\n",
    "slider1 = widgets.IntSlider(min=1, max=10, step=1, value=5)\n",
    "display(widgets.interactive(demand, price=slider1))"
   ]
  },
  {
   "cell_type": "markdown",
   "metadata": {},
   "source": [
    "Producer surplus with the supply curve works exactly the same way but mirrored to reflect the fact that producers gain surplus from higher prices instead of lower."
   ]
  },
  {
   "cell_type": "code",
   "execution_count": null,
   "metadata": {
    "scrolled": false
   },
   "outputs": [],
   "source": [
    "def supply(price):\n",
    "    p = sympy.Symbol(\"p\")\n",
    "    producers = [Producer(x) for x in range(1,11)]\n",
    "    supply_equation = p\n",
    "    prices = [x for x in range(0,11)]\n",
    "    supply_Q = [supply_equation.subs(p,x) for x in prices]\n",
    "    \n",
    "    plt.figure(figsize = [9,6])\n",
    "    plt.plot(prices, supply_Q, 'r')\n",
    "    plt.plot(supply_equation.subs(p,price), price, 'ro')\n",
    "    \n",
    "    triangle1 = patches.Polygon([[supply_equation.subs(p,price),price], [0,price], [0,0]], True, color='g')\n",
    "    current_axis = plt.gca()\n",
    "    current_axis.add_patch(triangle1)\n",
    "    \n",
    "    plt.xlabel(\"Supply Quantity\")\n",
    "    plt.ylabel(\"Price\")\n",
    "    plt.title(\"Supply Curve with Producer Surplus Shaded\")\n",
    "    plt.show()\n",
    "    print(\"Producer surplus is equal to: \"+str(sum([person.surplus(price) for person in producers])))\n",
    "\n",
    "slider1 = widgets.IntSlider(min=1, max=10, step=1, value=5)\n",
    "display(widgets.interactive(supply, price=slider1))"
   ]
  },
  {
   "cell_type": "markdown",
   "metadata": {},
   "source": [
    "Here we used a demand curve of $10-P$ and a supply curve of $P$. Now explore how the surplus changes with shifts in the curves below. `demandParam` adjusts the intercept of the demand curve, `supplyParam` adjusts the slope of the supply curve."
   ]
  },
  {
   "cell_type": "code",
   "execution_count": null,
   "metadata": {
    "scrolled": false
   },
   "outputs": [],
   "source": [
    "def equilibrium(demandParam, supplyParam):\n",
    "    p = sympy.Symbol(\"p\")\n",
    "    demand_equation = demandParam - p\n",
    "    supply_equation = p * (supplyParam / 10)\n",
    "    price_end = sympy.solve(demand_equation)[0]\n",
    "    prices = []\n",
    "    demand_Q = []\n",
    "    supply_Q = []\n",
    "    for price in range(0, price_end + 1):\n",
    "        prices += [price]\n",
    "        demand_Q += [demand_equation.subs(p,price)]\n",
    "        supply_Q += [supply_equation.subs(p,price)]\n",
    "    \n",
    "    equilibrium_P = sympy.solve(demand_equation-supply_equation)[0]\n",
    "    equilibrium_Q = demand_equation.subs(p,equilibrium_P)\n",
    "    \n",
    "    plt.figure(figsize = [9,6])\n",
    "    plt.plot(demand_Q,prices, label=\"Demand\")\n",
    "    plt.plot(supply_Q,prices, 'r', label=\"Supply\")\n",
    "    plt.legend()\n",
    "    plt.plot(equilibrium_Q,equilibrium_P, 'ro')\n",
    "    \n",
    "    triangle1 = patches.Polygon([[equilibrium_Q,equilibrium_P], [0,equilibrium_P], [0,price_end]], True, color=\"green\")\n",
    "    triangle2 = patches.Polygon([[equilibrium_Q,equilibrium_P], [0,equilibrium_P], [0,0]], True, color=\"lightgreen\")\n",
    "    current_axis = plt.gca()\n",
    "    current_axis.add_patch(triangle1)\n",
    "    current_axis.add_patch(triangle2)\n",
    "    \n",
    "    plt.xlabel(\"Supply and Demand Quantity\")\n",
    "    plt.ylabel(\"Price\")\n",
    "    plt.title(\"Supply and Demand Curves with Surplus Shaded\")\n",
    "    plt.ylim(0, 15)\n",
    "    plt.xlim(0, 10)\n",
    "    plt.show()\n",
    "    print(\"The equilibrium price is \"+str(round(equilibrium_P,2))+\" and equilibrium quantity is \"+str(round(equilibrium_Q,2))+\".\")\n",
    "    print(\"The consumer surplus at this equilibrium \"+str((price_end-equilibrium_P)*(equilibrium_Q)*.5))\n",
    "    print(\"The producer surplus at this equilibrium \"+str((equilibrium_P)*(equilibrium_Q)*.5))\n",
    "\n",
    "slider1 = widgets.IntSlider(min=5, max=15,step=1,value=10)\n",
    "slider2 = widgets.IntSlider(min=5, max=15,step=1,value=10)\n",
    "display(widgets.interactive(equilibrium, demandParam=slider1, supplyParam=slider2))"
   ]
  },
  {
   "cell_type": "markdown",
   "metadata": {},
   "source": [
    "## Elasticity"
   ]
  },
  {
   "cell_type": "markdown",
   "metadata": {},
   "source": [
    "Suppose you own a business but you find yourself struggling to make a profit lately. How would you resolve this? You might consider raising your prices. But surely if you were to raise your prices too much you might lose some of your customers. To relate to our discussions above regarding surplus, maybe some of your customers are already at their highest willingness to pay, and raising prices would push them away from your business. Depending on the situation, you might lose so many customers that the increased revenue from raising your prices are completely offset by a decline in customers. This is a problem. To answer the question of how much to raise prices without losing too many customers and therefore losing revenue, we would like a way to measure this concept of customers' responsiveness to prices. We call this concept *elasticity*."
   ]
  },
  {
   "cell_type": "markdown",
   "metadata": {},
   "source": [
    "How would we measure elasticity? In the above context, we want to see how much quantity demanded of your business's goods or services changes in response to a change in price. It seems like a good place to start would be to define elasticity as the percent change in quantity over percent change in price. Let's use the demand curve depicted below as an example."
   ]
  },
  {
   "cell_type": "code",
   "execution_count": null,
   "metadata": {
    "scrolled": false
   },
   "outputs": [],
   "source": [
    "def plot_demand1():\n",
    "    p = sympy.Symbol(\"p\")\n",
    "    demand_equation = 10 - p\n",
    "    prices = [x for x in range(0,11)]\n",
    "    demand_Q = [demand_equation.subs(p,x) for x in prices]\n",
    "    plt.figure(figsize = [9,6])\n",
    "    plt.plot(prices,demand_Q)\n",
    "    plt.xlabel(\"Demand Quantity\")\n",
    "    plt.ylabel(\"Price\")\n",
    "    plt.title(\"Demand Curve\")\n",
    "\n",
    "plot_demand1()\n",
    "plt.show()"
   ]
  },
  {
   "cell_type": "markdown",
   "metadata": {},
   "source": [
    "Now let's say our current price is 5, and we would like to increase the price to 6. We can see from the curve that this causes demand to drop from 5 to 4."
   ]
  },
  {
   "cell_type": "code",
   "execution_count": null,
   "metadata": {
    "scrolled": false
   },
   "outputs": [],
   "source": [
    "plot_demand1()\n",
    "plt.plot(np.full(6,5), np.arange(0,6,1), 'r--')\n",
    "plt.plot(np.full(7,4), np.arange(0,7,1), 'r--')\n",
    "plt.plot(np.arange(0,6,1), np.full(6,5), 'r--')\n",
    "plt.plot(np.arange(0,5,1), np.full(5,6), 'r--')\n",
    "plt.plot(5,5,'ro')\n",
    "plt.text(5.1,5.1,\"(5,5)\")\n",
    "plt.plot(4,6,'ro')\n",
    "plt.text(4.1,6.1,\"(4,6)\")\n",
    "plt.arrow(4.9,5.1,-0.01,0.01,head_width=0.2)\n",
    "plt.arrow(4.6,5.4,-0.01,0.01,head_width=0.2)\n",
    "plt.arrow(4.3,5.7,-0.01,0.01,head_width=0.2)\n",
    "plt.show()"
   ]
  },
  {
   "cell_type": "markdown",
   "metadata": {},
   "source": [
    "Using our definition from above, we can calculate the elasticity.\n",
    "\n",
    "$$\n",
    "\\begin{align}\n",
    "\\frac{\\%\\Delta Q}{\\%\\Delta P} &= \\frac{\\frac{4-5}{5}\\times100\\%}{\\frac{6-5}{5}\\times100\\%} \\\\\n",
    "&= \\frac{-20\\%}{20\\%} \\\\\n",
    "&= 1\n",
    "\\end{align}\n",
    "$$\n",
    "\n",
    "*Note that we take the absolute value for elasticity.*\n",
    "\n",
    "This tells us that in this specific example, the percent change in price is met with an equal percent change in quantity. But what happens if we start at a price of 6 and go down to a price of 5? This movement is just the opposite of what we did above, so is the elasticity also 1? Let's see."
   ]
  },
  {
   "cell_type": "code",
   "execution_count": null,
   "metadata": {
    "scrolled": false
   },
   "outputs": [],
   "source": [
    "plot_demand1()\n",
    "plt.plot(np.full(6,5), np.arange(0,6,1), 'r--')\n",
    "plt.plot(np.full(7,4), np.arange(0,7,1), 'r--')\n",
    "plt.plot(np.arange(0,6,1), np.full(6,5), 'r--')\n",
    "plt.plot(np.arange(0,5,1), np.full(5,6), 'r--')\n",
    "plt.plot(5,5,'ro')\n",
    "plt.text(5.1,5.1,\"(5,5)\")\n",
    "plt.plot(4,6,'ro')\n",
    "plt.text(4.1,6.1,\"(4,6)\")\n",
    "plt.arrow(4.7,5.3,0.01,-0.01,head_width=0.2)\n",
    "plt.arrow(4.4,5.6,0.01,-0.01,head_width=0.2)\n",
    "plt.arrow(4.1,5.9,0.01,-0.01,head_width=0.2)\n",
    "plt.show()"
   ]
  },
  {
   "cell_type": "markdown",
   "metadata": {},
   "source": [
    "$$\n",
    "\\begin{align}\n",
    "\\frac{\\%\\Delta Q}{\\%\\Delta P} &= \\frac{\\frac{5-4}{4}\\times100\\%}{\\frac{5-6}{6}\\times100\\%} \\\\\n",
    "&= \\frac{25\\%}{-16.67\\%} \\\\\n",
    "&\\approx 1.5\n",
    "\\end{align}\n",
    "$$\n",
    "\n",
    "We get a different number! This is of course a property of percentages. In both scenarios we moved price by 1, but we started at different prices, and increasing price by 1 starting from 5 is different percentage-wise from starting at 6 and decreasing by 1."
   ]
  },
  {
   "cell_type": "markdown",
   "metadata": {},
   "source": [
    "If we want to find a unique value for elasticity between the price points of 5 and 6, independent of price movement, we can use something called the **mid-point method**. It looks like this:\n",
    "\n",
    "$$\\frac{\\frac{Q_2 - Q_1}{(Q_2 + Q_1)\\times0.5}\\times100\\%}{\\frac{P_2 - P_1}{(P_2 + P_1)\\times0.5}\\times100\\%}$$\n",
    "\n",
    "What this does is it essentially finds the elasticity of the point between the two given points."
   ]
  },
  {
   "cell_type": "markdown",
   "metadata": {},
   "source": [
    "It is also useful, however, to think of elasticity as a property of a single point. For example, we might want the price point of 5 in the example above to have an elasticity of 1 irrespective of what other point we are going to or coming from. For this, we can use the **point-slope formula**.\n",
    "\n",
    "$$\\frac{\\Delta Q}{\\Delta P}\\frac{P}{Q}$$\n",
    "\n",
    "or\n",
    "\n",
    "$$\\frac{dQ}{dP}\\Bigr|_{P,Q}\\times\\frac{P}{Q}$$\n",
    "\n",
    "where the left fraction is the inverse slope at that particular point.\n",
    "\n",
    "It turns out that in our example above, we can think of the very first formula for elasticity (percent change in quantity over percent change in price) as the point-slope elasticity of the starting point. To verify this, find the elasticity from a price of 5 to 6, from a price of 5 to 4, and at the price of 5 using the point-slope formula. You should get the same answer all three times. This does not hold in general for all curves, but using the base formula that was first introduced should be fine for our examples and other situations."
   ]
  },
  {
   "cell_type": "markdown",
   "metadata": {},
   "source": [
    "## Other Elasticities"
   ]
  },
  {
   "cell_type": "markdown",
   "metadata": {},
   "source": [
    "We can measure elasticity in different contexts as well. Naturally, if we have an elasticity of demand, it follows that we should have an elasticity of supply. Just like consumers make adjustments to their quantity demanded based on changes in the market price, producers respond to market prices as well. Elasticity of supply can be calculated similarly to elasticity of demand.\n",
    "\n",
    "Imagine that there are two fast food locations next to each other on campus competing for students' business. Let's call them Railway and Bear Express. Initially, their food is priced such that they get equal amounts of business from the students, and students on average don't prefer one over the other; they just want a good and affordable place to eat. Now, imagine that Bear Express raises the prices of their food, while Railway holds their prices steady. In this scenario, one can imagine that students would begin eating more frequently at Railway as opposed to Bear Express due to it being relatively cheaper out of the two options. Now, if Railway in turn increases their prices, the flow of students would shift back to Bear Express by a certain amount. These two restaurants are said to offer goods that are *substitutes* to each other. That is, a consumer will want one or the other, but usually not both. Furthermore, it would seem that just like the price of a good affects its quantity demanded, for substitutes the price of one good can affect the quantity demanded of the other. This is called *cross-price elasticity of demand* (as opposed to *own-price elasticity* that we just learned earlier). It can be defined as follows:\n",
    "\n",
    "$$\\frac{\\%\\Delta Q_{Good A}}{\\%\\Delta P_{Good B}}$$\n",
    "\n",
    "Notice that here there is a notion of positive and negative elasticity. Substitutes will have positive cross-price elasticity, because we expect that an increase in the price of one good will lead to an increase in the quantity demanded of its substitute. But what about when cross-price elasticity is negative? In other words, are there goods where an increase in the price of one leads to a decrease in the quantity demanded of the other? Of course; these are called *complements*. Examples of complementary goods could be cars and gasoline, hot dogs and hot dog buns, or peanut butter and jelly.\n",
    "\n",
    "There is one more type of elasticity that we will briefly discuss, and that is *income elasticity of demand*. For most goods, the more disposable income consumers have the more they will demand these goods. Almost all goods follow this pattern, and thus there are countless examples. These goods are called *normal goods*. More interestingly, there are some goods, called *inferior goods*, for which we see quantity demanded decrease as income increases. An example of this might be frozen, microwaveable food. As consumers grow wealthier and their palates grow more discerning, their consumption of frozen food might decrease in place of more cooked meals. To calculate this elasticity we would use the following:\n",
    "\n",
    "$$\\frac{\\%\\Delta Q}{\\%\\Delta Income}$$"
   ]
  },
  {
   "cell_type": "markdown",
   "metadata": {},
   "source": [
    "## Elasticity and Revenue"
   ]
  },
  {
   "cell_type": "markdown",
   "metadata": {},
   "source": [
    "Let's take a closer look at own-price elasticity of demand. Below we've defined a function using our first definition. Let's see what happens as we increase price."
   ]
  },
  {
   "cell_type": "code",
   "execution_count": null,
   "metadata": {
    "scrolled": false
   },
   "outputs": [],
   "source": [
    "def elasticity(P1,P2,Q1,Q2):\n",
    "    return ((Q2-Q1)/Q1)/((P2-P1)/P1)\n",
    "\n",
    "p = sympy.Symbol(\"p\")\n",
    "demand_equation = 10-p\n",
    "prices = [i for i in range(1,10)]\n",
    "\n",
    "print(\"Price: Elasticity\")\n",
    "print()\n",
    "\n",
    "for x in prices:\n",
    "    print(str(x)+\":\", abs(elasticity(x,x+1,demand_equation.subs(p,x),demand_equation.subs(p,x+1))))"
   ]
  },
  {
   "cell_type": "markdown",
   "metadata": {},
   "source": [
    "Notice the way elasticity increases with an increase in price, on this particular demand curve. When elasticity is less than 1, we call it *inelastic*. In other words, a change in price doesn't change the quantity demanded as drastically. If elasticity is greater than 1, we say it is *elastic*. A change in price causes a great change in quantity demanded of a good. An elasticity of 1 is called *unitary elastic*, or *unit elastic*. Returning to our original question of how elasticity relates to decisions a firm might have to make regarding prices, let's look at how changing elasticty affects revenue for a firm increasing its prices."
   ]
  },
  {
   "cell_type": "code",
   "execution_count": null,
   "metadata": {
    "scrolled": false
   },
   "outputs": [],
   "source": [
    "def elasticity_revenue(price):\n",
    "    p = sympy.Symbol(\"p\")\n",
    "    demand_Q = [demand_equation.subs(p,x) for x in range(1,10)]\n",
    "    prices = [x for x in range(1,10)]\n",
    "\n",
    "    def draw_revenue(P,Q):\n",
    "        rect = patches.Rectangle((0,0),Q,P,linewidth=1,facecolor=\"green\")\n",
    "        currentAxis = plt.gca()\n",
    "        currentAxis.add_patch(rect)\n",
    "        print(\"The revenue of the graph below is \"+str(P*Q))\n",
    "\n",
    "    quantity = demand_equation.subs(p,price)\n",
    "    elast = abs(elasticity(price,price+1,demand_equation.subs(p,price),demand_equation.subs(p,price+1)))\n",
    "    plt.figure(figsize = [9,6])\n",
    "    plt.plot(demand_Q,prices)\n",
    "    plt.xlabel(\"Demand Quantity\")\n",
    "    plt.ylabel(\"Price\")\n",
    "    plt.title(\"Demand Curve with Revenues Shaded\")\n",
    "    draw_revenue(price,quantity)\n",
    "    print(\"The elasticity at this point is \"+str(elast))\n",
    "    plt.show()\n",
    "slider1 = widgets.IntSlider(min=1, max=9,step=1,value=5)\n",
    "display(widgets.interactive(elasticity_revenue, price=slider1))"
   ]
  },
  {
   "cell_type": "markdown",
   "metadata": {},
   "source": [
    "Notice how a price increase will increases revenue until a certain point, at which point revenue decreases again. Intuitively this makes sense. A firm can only increase its prices so much until it starts losing too many of its customers for the increase to be worthwhile. Let's try and find when this happens in general. First let's plot revenue as a function of price."
   ]
  },
  {
   "cell_type": "code",
   "execution_count": null,
   "metadata": {
    "scrolled": false
   },
   "outputs": [],
   "source": [
    "elast = [abs(elasticity(x,x+1,demand_equation.subs(p,x),demand_equation.subs(p,x+1))) for x in range(1,10)]\n",
    "revenue = [demand_equation.subs(p,x)*x for x in range(1,10)]\n",
    "prices = [x for x in range(1,10)]\n",
    "plt.figure(figsize = [9,6])\n",
    "plt.plot(prices,revenue)\n",
    "plt.xlabel(\"Price\")\n",
    "plt.ylabel(\"Revenue\")\n",
    "plt.title(\"Revenue vs Price for Given Demand Curve\")\n",
    "plt.show()"
   ]
  },
  {
   "cell_type": "markdown",
   "metadata": {},
   "source": [
    "We notice that revenue reaches a maximun at a price of 5. What elasticity does this price point have?"
   ]
  },
  {
   "cell_type": "code",
   "execution_count": null,
   "metadata": {
    "scrolled": false
   },
   "outputs": [],
   "source": [
    "plt.figure(figsize = [9,6])\n",
    "plt.plot(prices,elast)\n",
    "plt.plot(np.arange(1,6,1), np.full(5,1), 'r--')\n",
    "plt.plot(np.full(2,5), np.arange(0,2,1), 'r--')\n",
    "plt.plot(5,1,'ro')\n",
    "plt.text(5,1.5,\"(5,1)\")\n",
    "plt.xlabel(\"Price\")\n",
    "plt.ylabel(\"Elasticity\")\n",
    "plt.title(\"Elasticity vs Price for Given Demand Curve\")\n",
    "plt.show()"
   ]
  },
  {
   "cell_type": "markdown",
   "metadata": {},
   "source": [
    "Revenue is maximized when elasticity is 1! To further reinforce this, let's plot revenue vs elasticity."
   ]
  },
  {
   "cell_type": "code",
   "execution_count": null,
   "metadata": {
    "scrolled": false
   },
   "outputs": [],
   "source": [
    "plt.figure(figsize = [9,6])\n",
    "plt.plot(elast,revenue)\n",
    "plt.plot(np.full(17,1), np.arange(9,26,1), 'r--')\n",
    "plt.plot(1,25,'ro')\n",
    "plt.text(1.3,25,\"(1,25)\")\n",
    "plt.xlabel(\"Elasticity\")\n",
    "plt.ylabel(\"Revenue\")\n",
    "plt.title(\"Revenue vs Elasticity for Given Demand Curve\")\n",
    "plt.show()"
   ]
  },
  {
   "cell_type": "markdown",
   "metadata": {},
   "source": [
    "Before we continue to the final section let's make sure we have a solid intuitive grasp of the significance of our findings. Near low price points, a firm deciding how to raise prices will tend to face inelastic demand. You can imagine that if there were some market where let's say laptops cost only a few dollars, doubling the price of laptops would proabalby not decrease demand for laptops at all, since the price of laptops is still very low. Here, demand is inelastic, or in other words, it is less than 1, because a unit change in price is not met by the same change in quantity. Alternatively, if laptops were to cost as much as a house, and then the price for laptops doubled, the few people who were still in the market for laptops would probably be very discouraged from continuing to buy laptops. It wouldn't be unreasonable to assume that nearly all of the demand would be lost. Here, demand is elastic, or greater than 1, because a unit change in price is met by an even greater change in quantity. The point of the above exercise is to illustrate that there is some middle ground between these two extremes, where a firm with a good pulse on market demand should be pricing its products.\n",
    "\n",
    "It's important to remember that while we have so far been discussing elasticity from a demand perspective, supply also has the property of elasticity."
   ]
  },
  {
   "cell_type": "markdown",
   "metadata": {},
   "source": [
    "## Relative Elasticity"
   ]
  },
  {
   "cell_type": "markdown",
   "metadata": {},
   "source": [
    "Suppose that you are hiking in the mountains when a venomous snake bites you. Fortunately there is a hospital nearby. Unfortunately, it seems that their antivenom is very expensive. If the antivenom costs \\\\$1000, would you pay? What if the price doubled to \\\\$2000? What is your max willingness to pay for this antivenom? In the moment, you would likely be willing to pay anything and everything for the antivenom, as any money you refuse to pay won't be of much use to you if you're dead.\n",
    "\n",
    "Contrast this with your demand for pizza. Imagine a pizza chain close to where you live doubles their prices from \\\\$3 a slice to \\\\$6 a slice. Most people would be disuaded from buying pizza by this price increase, assuming that there are many alternatives to pizza close to where you live. Since pizza is not a very essential good, and there are plenty of other places to eat close to where you live, most wouldn't see the point in getting pizza anymore.\n",
    "\n",
    "We can easily see that any change in price is unlikely to change the demand for antivenom in our example, and thus we say the demand for antivenom is inelastic. But this is a different kind of elasticity. We are not measuring the marginal change in quantity demanded at a given price point or interval, we are saying that in general, on the demand curve for antivenom the elasticity at any price is more inelastic than some other typical demand curve. Similarly, in our example we can say that the demand for pizza is relatively elastic, as the pizza chain cannot change their prices too much without significantly altering the quantity demanded for their pizza. The keyword in this concept is *relative*. It doesn't really make much sense to say that the demand for antivenom is inelastic without there being at least one other kind of demand that is comparatively elastic."
   ]
  },
  {
   "cell_type": "markdown",
   "metadata": {},
   "source": [
    "More specifically, our example of antivenom likely exhibits *perfect inelasticity*, meaning that demand for antivenom is the same at absolutely any price; the hospital can charge any price it wants for antivenom. Contrast this with our nearby pizza chain. If we make some further assumptions and say that the market for food around your house or apartment is perfectly competitive, such that any marginal increase in price of one food chain will cause them to lose all of their customers to other food chains, then the demand for the specific food of that chain is *perfectly elastic*. The chain cannot increase its prices or else it will lose all demand. These two extreme scenarios are depicted below."
   ]
  },
  {
   "cell_type": "code",
   "execution_count": null,
   "metadata": {
    "scrolled": false
   },
   "outputs": [],
   "source": [
    "plt.figure(figsize = [9,6])\n",
    "plt.plot(np.full(20,1), np.arange(0,20,1))\n",
    "plt.xlabel(\"Quantity Demanded\")\n",
    "plt.ylabel(\"Price\")\n",
    "plt.title(\"Perfectly Inelastic Demand Curve\")\n",
    "plt.xticks([], [])\n",
    "plt.yticks([], [])\n",
    "plt.show()"
   ]
  },
  {
   "cell_type": "code",
   "execution_count": null,
   "metadata": {
    "scrolled": false
   },
   "outputs": [],
   "source": [
    "plt.figure(figsize = [9,6])\n",
    "plt.plot(np.arange(0,20,1), np.full(20,1))\n",
    "plt.xlabel(\"Quantity Demanded\")\n",
    "plt.ylabel(\"Price\")\n",
    "plt.title(\"Perfectly Elastic Demand Curve\")\n",
    "plt.xticks([], [])\n",
    "plt.yticks([], [])\n",
    "plt.show()"
   ]
  },
  {
   "cell_type": "markdown",
   "metadata": {},
   "source": [
    "## Conclusion"
   ]
  },
  {
   "cell_type": "markdown",
   "metadata": {},
   "source": [
    "This week we discussed consumer and producer surplus, and interpreted this as a sort of additional benefit that consumers experience when the market price is less than what they would be willing to pay, and producers experience when the market price is greater than what they would be able to operate at. We drew intuition behind the shape of demand and supply curves, and superimposed surplus onto these curves. We then transitioned to elasticity and discussed the different kinds of elasticity, different ways of measuring elasticity, and how firms might use the concept of elasticity to price their goods."
   ]
  },
  {
   "cell_type": "markdown",
   "metadata": {},
   "source": [
    " "
   ]
  }
 ],
 "metadata": {
  "kernelspec": {
   "display_name": "Python 3",
   "language": "python",
   "name": "python3"
  },
  "language_info": {
   "codemirror_mode": {
    "name": "ipython",
    "version": 3
   },
   "file_extension": ".py",
   "mimetype": "text/x-python",
   "name": "python",
   "nbconvert_exporter": "python",
   "pygments_lexer": "ipython3",
   "version": "3.6.8"
  }
 },
 "nbformat": 4,
 "nbformat_minor": 2
}
