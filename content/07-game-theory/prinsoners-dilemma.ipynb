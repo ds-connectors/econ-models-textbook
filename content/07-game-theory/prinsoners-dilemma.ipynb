{
 "cells": [
  {
   "cell_type": "markdown",
   "metadata": {},
   "source": [
    "# The Iterated Prisoner's Dilemma"
   ]
  },
  {
   "cell_type": "code",
   "execution_count": 7,
   "metadata": {
    "scrolled": true,
    "tags": [
     "remove_cell"
    ]
   },
   "outputs": [],
   "source": [
    "from datascience import *\n",
    "import numpy as np\n",
    "import pandas as pd\n",
    "import seaborn as sns\n",
    "import datetime as dt\n",
    "import matplotlib.pyplot as plt\n",
    "plt.style.use(\"seaborn-muted\")\n",
    "%matplotlib inline\n",
    "import functools\n",
    "import warnings\n",
    "warnings.simplefilter(\"ignore\")\n",
    "from ipywidgets import interact, FloatSlider\n",
    "\n",
    "from players import *"
   ]
  },
  {
   "cell_type": "markdown",
   "metadata": {},
   "source": [
    "We will study the **iterated prisoner's dilemma**, a game paradigm in which the prisoner's dilemma is played over multiple rounds and in tournaments to determine the best strategy for playing the game. This paradigm was introduced by [Robert Axelrod](https://en.wikipedia.org/wiki/Robert_Axelrod) to use the prisoner's dilemma as a lens through which to study the Cold War during the Cuban Missile Crisis. Axelrod created a tournament out of an iterated prisoner's dilemma and invited theoreticians to write programs that could strategically play the game, and then pitted them one against another in a round-robin-style tournament."
   ]
  },
  {
   "cell_type": "markdown",
   "metadata": {},
   "source": [
    "## Strategies\n",
    "\n",
    "To begin, we'll consider the two most basic strategies for playing this game: the **defector** and the **cooperator**. A defector always defects and a cooperator always cooperates. Because of this, we would expect that the defector would win every round in a match between these two players, because they will always accrue 0 years where the cooperator always accrues 5.\n",
    "\n",
    "Other strategies for playing this game are summarized in the table below. (Note that we use the shorthand \"D\" for defect and \"C\" for cooperate.)\n",
    "\n",
    "| Name | Description |\n",
    "|-----|-----|\n",
    "| `Alternator` | Alternates between C and D |\n",
    "| `Backstabber` | Forgives first 3 opponent D's then D forever after fourth |\n",
    "| `Bully` | Starts by defecting and then does the opposite of opponent's previous move |\n",
    "| `Desperate` | Only cooperates after mutual defection |\n",
    "| `FoolMeOnce` | Forgives one D then retaliates forever on a second D |\n",
    "| `Forgiver` | Starts by cooperating however will defect if at any point the opponent has defected more than 10 percent of the time |\n",
    "| `ForgivingTitForTat` | Starts by cooperating and defects if opponent has defected more than 10% of the time **and** their last move was defection |\n",
    "| `Grudger` | Starts with C and then D forever on opponent's first D |\n",
    "| `OnceBitten` | C once on opponent D, but if opponent D's twice in a row defaults to D for 10 turns |\n",
    "| `TitForTat` | Repeats opponent's previous move |\n",
    "\n",
    "To see the class definitions for these players, see [this section](player-definitions.ipynb)."
   ]
  },
  {
   "cell_type": "markdown",
   "metadata": {},
   "source": [
    "## Matches\n",
    "\n",
    "Our analysis of the prisoner's dilemma hinges on analyzing strategies over multiple rounds. For this reason, we need a way to pit players against each other and find out who has the fewest years accrued. The function `run_match` will run a match of two players with a specified number of turns. If `winner` is `True`, it returns the winner of the match; if `winner` is `False`, it returns a list for each player containing the sequence of years accrued."
   ]
  },
  {
   "cell_type": "code",
   "execution_count": 9,
   "metadata": {
    "scrolled": true
   },
   "outputs": [
    {
     "data": {
      "text/plain": [
       "Defector"
      ]
     },
     "execution_count": 9,
     "metadata": {},
     "output_type": "execute_result"
    }
   ],
   "source": [
    "run_match(Defector(), Cooperator())"
   ]
  },
  {
   "cell_type": "code",
   "execution_count": 10,
   "metadata": {},
   "outputs": [
    {
     "data": {
      "text/plain": [
       "([0, 0, 0, 0, 0], [5, 5, 5, 5, 5])"
      ]
     },
     "execution_count": 10,
     "metadata": {},
     "output_type": "execute_result"
    }
   ],
   "source": [
    "run_match(Defector(), Cooperator(), winner=False)"
   ]
  },
  {
   "cell_type": "markdown",
   "metadata": {},
   "source": [
    "Let's consider another strategy: randomness. The random player will randomly defect or cooperate. Note that the `Random` constructor takes an optional argument indicating the probability of **defecting** on any given turn which defaults to 0.5. For example, `Random(.25)` defects 25% of the time and `Random(1)` always defects (it's a defector)."
   ]
  },
  {
   "cell_type": "code",
   "execution_count": 11,
   "metadata": {
    "tags": [
     "remove_cell"
    ]
   },
   "outputs": [],
   "source": [
    "np.random.seed(42)"
   ]
  },
  {
   "cell_type": "code",
   "execution_count": 12,
   "metadata": {
    "scrolled": true
   },
   "outputs": [
    {
     "data": {
      "text/plain": [
       "(True, False)"
      ]
     },
     "execution_count": 12,
     "metadata": {},
     "output_type": "execute_result"
    }
   ],
   "source": [
    "Random().play(None), Random().play(None)"
   ]
  },
  {
   "cell_type": "markdown",
   "metadata": {},
   "source": [
    "Let's test a few payoffs with our new `Random` player."
   ]
  },
  {
   "cell_type": "code",
   "execution_count": 13,
   "metadata": {
    "tags": [
     "remove_cell"
    ]
   },
   "outputs": [],
   "source": [
    "np.random.seed(100)"
   ]
  },
  {
   "cell_type": "code",
   "execution_count": 14,
   "metadata": {},
   "outputs": [
    {
     "data": {
      "text/plain": [
       "((0, 5), (4, 4))"
      ]
     },
     "execution_count": 14,
     "metadata": {},
     "output_type": "execute_result"
    }
   ],
   "source": [
    "payoff(Defector(), Random()), payoff(Defector(), Random(.75))"
   ]
  },
  {
   "cell_type": "markdown",
   "metadata": {},
   "source": [
    "## Tournaments\n",
    "\n",
    "Now that we can pit two players against each other, how do we compare multiple players? We can create a round-robin tournament that runs matches between each pair of players. If the tournament has $n$ players, this will take $\\frac{n(n-1)}{2}$ matches:\n",
    "\n",
    "> Player $i$ must go against $n-i$ players at iteration $i$ (as it will have already played the $i-1$ previous players in previous iterations), so the number of matches is \n",
    "$$\\begin{aligned}\n",
    "\\sum_{i=1}^{n} (n-i) &= n^2 - \\sum_{i=1}^{n} i \\\\\n",
    "&= n^2 - \\frac{n(n+1)}{2} \\\\\n",
    "&= n \\left ( \\frac{2n}{2} - \\frac{n+1}{2} \\right ) \\\\\n",
    "&= \\frac{n(n-1)}{2}\n",
    "\\end{aligned}$$"
   ]
  },
  {
   "cell_type": "markdown",
   "metadata": {},
   "source": [
    "To run through the tournament, we'll need to iterate through each player and pit them against every other player in a match. To ensure that we don't duplicate matches, we'll loop from 0 to the number of players in the outer loop and loop from the next player to the last player in the inner loop. The function `most_common` returns the value in an array of values that has the largest number of occurrences; it is here used to determine which player won the most times."
   ]
  },
  {
   "cell_type": "code",
   "execution_count": 17,
   "metadata": {
    "scrolled": true
   },
   "outputs": [
    {
     "data": {
      "text/plain": [
       "Defector"
      ]
     },
     "execution_count": 17,
     "metadata": {},
     "output_type": "execute_result"
    }
   ],
   "source": [
    "players = make_array(Defector(), Cooperator())\n",
    "winners = make_array()\n",
    "for i in range(len(players)):\n",
    "    for j in range(i+1, len(players)):\n",
    "        winner = run_match(players.item(i), players.item(j))\n",
    "        winners = np.append(winners, winner)\n",
    "        \n",
    "biggest_winner = most_common(winners)\n",
    "biggest_winner"
   ]
  },
  {
   "cell_type": "markdown",
   "metadata": {},
   "source": [
    " "
   ]
  }
 ],
 "metadata": {
  "@webio": {
   "lastCommId": null,
   "lastKernelId": null
  },
  "celltoolbar": "Tags",
  "kernelspec": {
   "display_name": "Python 3",
   "language": "python",
   "name": "python3"
  },
  "language_info": {
   "codemirror_mode": {
    "name": "ipython",
    "version": 3
   },
   "file_extension": ".py",
   "mimetype": "text/x-python",
   "name": "python",
   "nbconvert_exporter": "python",
   "pygments_lexer": "ipython3",
   "version": "3.6.5"
  },
  "varInspector": {
   "cols": {
    "lenName": 16,
    "lenType": 16,
    "lenVar": 40
   },
   "kernels_config": {
    "python": {
     "delete_cmd_postfix": "",
     "delete_cmd_prefix": "del ",
     "library": "var_list.py",
     "varRefreshCmd": "print(var_dic_list())"
    },
    "r": {
     "delete_cmd_postfix": ") ",
     "delete_cmd_prefix": "rm(",
     "library": "var_list.r",
     "varRefreshCmd": "cat(var_dic_list()) "
    }
   },
   "types_to_exclude": [
    "module",
    "function",
    "builtin_function_or_method",
    "instance",
    "_Feature"
   ],
   "window_display": false
  }
 },
 "nbformat": 4,
 "nbformat_minor": 4
}
