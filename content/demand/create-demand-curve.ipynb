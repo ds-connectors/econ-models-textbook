{
 "cells": [
  {
   "cell_type": "markdown",
   "metadata": {},
   "source": [
    "## Demand Survey ##\n",
    "\n",
    "The idea for this mini-lab is to derive a Demand curve from student input via a Google Form.  \n",
    "\n",
    "\n",
    "The Survey is here\n",
    "https://forms.gle/XzaNkbJHSYUyKscSA\n",
    "\n",
    "\n",
    "This notebook reads info directly from a google spreadsheet using a google API key hosted within the Jupyterhub server:\n",
    "https://docs.datahub.berkeley.edu/en/latest/services/google-sheets.html\n"
   ]
  },
  {
   "cell_type": "code",
   "execution_count": null,
   "metadata": {},
   "outputs": [],
   "source": [
    "from gspread_pandas.client import Spread\n",
    "import os\n",
    "import json\n",
    "from oauth2client.service_account import ServiceAccountCredentials\n",
    "from datascience import *\n",
    "import pandas as pd\n",
    "import numpy as np\n",
    "import matplotlib.pyplot as plt\n",
    "%matplotlib inline\n",
    "\n",
    "# Authenticate to Google\n",
    "scope = ['https://spreadsheets.google.com/feeds', 'https://www.googleapis.com/auth/drive']\n",
    "creds = ServiceAccountCredentials.from_json_keyfile_dict(json.loads(os.environ['GOOGLE_SHEETS_READONLY_KEY']), scope)"
   ]
  },
  {
   "cell_type": "code",
   "execution_count": null,
   "metadata": {},
   "outputs": [],
   "source": [
    "#This line reads in data from a google sheet that is the responses to the survey form\n",
    "url = 'https://docs.google.com/spreadsheets/d/1Ias5oYZIQCQgVbjL-2jeeo04-tyg_4-hhPZZFPRFO1U/edit#gid=1350374019'"
   ]
  },
  {
   "cell_type": "code",
   "execution_count": null,
   "metadata": {},
   "outputs": [],
   "source": [
    "# Open the Google Sheet, and print contents of sheet 1 as a dataframe\n",
    "spread = Spread(creds, url)\n",
    "sheet_df = spread.sheet_to_df(sheet='Form Responses 1',header_rows=1,index=0)\n",
    "print(sheet_df)\n",
    "print (sheet_df.dtypes)"
   ]
  },
  {
   "cell_type": "code",
   "execution_count": null,
   "metadata": {},
   "outputs": [],
   "source": [
    "previous_df=sheet_df.iloc[0:25]\n",
    "#previous_df"
   ]
  },
  {
   "cell_type": "code",
   "execution_count": null,
   "metadata": {},
   "outputs": [],
   "source": [
    "class_df=sheet_df.iloc[25:]\n",
    "#class_df"
   ]
  },
  {
   "cell_type": "code",
   "execution_count": null,
   "metadata": {},
   "outputs": [],
   "source": [
    "# Looks like they imported as Strings, lets make them numeric...\n",
    "cols = sheet_df.columns.drop('Timestamp')\n",
    "sheet_df[cols] = sheet_df[cols].apply(pd.to_numeric, errors='coerce')"
   ]
  },
  {
   "cell_type": "code",
   "execution_count": null,
   "metadata": {},
   "outputs": [],
   "source": [
    "# make a datascience Table from Pandas DF\n",
    "DemandTable=Table.from_df(sheet_df)\n",
    "DemandTable"
   ]
  },
  {
   "cell_type": "code",
   "execution_count": null,
   "metadata": {},
   "outputs": [],
   "source": [
    "DemandTable.hist('GTKitkat')\n",
    "DemandTable.hist('Burrito')\n",
    "DemandTable.hist('GreekTix')\n",
    "DemandTable.hist('Iphone12')"
   ]
  },
  {
   "cell_type": "markdown",
   "metadata": {},
   "source": [
    "Lets start by looking just at Kitkats\n",
    "\n",
    "\n",
    "And let't try to figure how how many people would buy GTKitkats at a given price? Let's assume that a person would be willing to buy the good at a price less than their bid price.  "
   ]
  },
  {
   "cell_type": "code",
   "execution_count": null,
   "metadata": {},
   "outputs": [],
   "source": [
    "KitkatsTable=DemandTable.select('GTKitkat')\n",
    "KitkatsTable"
   ]
  },
  {
   "cell_type": "code",
   "execution_count": null,
   "metadata": {},
   "outputs": [],
   "source": [
    "# Lets make a vector of prices\n",
    "DemandGTK= Table().with_columns([\n",
    "    'priceGTK',[0.25, 0.5, 0.75, 1.00, 1.25, 1.5,1.75,2],    \n",
    "])\n",
    "DemandGTK"
   ]
  },
  {
   "cell_type": "code",
   "execution_count": null,
   "metadata": {},
   "outputs": [],
   "source": [
    "# Count how many people are in each answer pool\n",
    "KitkatsTable.group(\"GTKitkat\")"
   ]
  },
  {
   "cell_type": "code",
   "execution_count": null,
   "metadata": {},
   "outputs": [],
   "source": [
    "#Cumulative Sum of how many people are willing to pay at a agiven price\n",
    "Qdemand = np.flip(np.cumsum(np.flip(KitkatsTable.group(\"GTKitkat\").column(\"count\"))))"
   ]
  },
  {
   "cell_type": "code",
   "execution_count": null,
   "metadata": {},
   "outputs": [],
   "source": [
    "# # Lets count how many people would buy at a given price\n",
    "## This is not the right way to code!\n",
    "# Qdemand=np.count_nonzero(KitkatsTable.column('GTKitkat') <= 2)\n",
    "# Qdemand=np.append(Qdemand,np.count_nonzero(KitkatsTable.column('GTKitkat') <= 1.75))\n",
    "# Qdemand=np.append(Qdemand,np.count_nonzero(KitkatsTable.column('GTKitkat') <= 1.5))\n",
    "# Qdemand=np.append(Qdemand,np.count_nonzero(KitkatsTable.column('GTKitkat') <= 1.25))\n",
    "# Qdemand=np.append(Qdemand,np.count_nonzero(KitkatsTable.column('GTKitkat') <= 1))\n",
    "# Qdemand=np.append(Qdemand,np.count_nonzero(KitkatsTable.column('GTKitkat') <= 0.75))\n",
    "# Qdemand=np.append(Qdemand,np.count_nonzero(KitkatsTable.column('GTKitkat') <= 0.5))\n",
    "# Qdemand=np.append(Qdemand,np.count_nonzero(KitkatsTable.column('GTKitkat') <= 0.25))\n",
    "# Qdemand"
   ]
  },
  {
   "cell_type": "code",
   "execution_count": null,
   "metadata": {},
   "outputs": [],
   "source": [
    "# Combine the two into a single table\n",
    "DemandGTK=DemandGTK.with_columns('Qdemand',Qdemand)\n",
    "DemandGTK"
   ]
  },
  {
   "cell_type": "code",
   "execution_count": null,
   "metadata": {},
   "outputs": [],
   "source": [
    "DemandGTK.plot(\"Qdemand\", \"priceGTK\")\n",
    "plt.xlabel('Quantity')\n",
    "plt.ylabel('Price')\n",
    "plt.title('Demand for Green Tea Kitkats');"
   ]
  },
  {
   "cell_type": "code",
   "execution_count": null,
   "metadata": {},
   "outputs": [],
   "source": [
    "#What are the slope and intercept of the fit line\n",
    "std_units = lambda a: (a - np.mean(a)) / np.std(a)\n",
    "corr = lambda x, y: np.mean(std_units(x) * std_units(y))\n",
    "slope = lambda x, y: corr(x, y) * np.std(y) / np.std(x)\n",
    "intercept = lambda x, y: np.mean(y) - slope(x, y) * np.mean(x)"
   ]
  },
  {
   "cell_type": "code",
   "execution_count": null,
   "metadata": {},
   "outputs": [],
   "source": [
    "slope(DemandGTK[\"Qdemand\"], DemandGTK[\"priceGTK\"])"
   ]
  },
  {
   "cell_type": "code",
   "execution_count": null,
   "metadata": {},
   "outputs": [],
   "source": [
    "intercept(DemandGTK[\"Qdemand\"], DemandGTK[\"priceGTK\"])"
   ]
  },
  {
   "cell_type": "markdown",
   "metadata": {},
   "source": [
    "##  Let's try again for Burritos "
   ]
  },
  {
   "cell_type": "code",
   "execution_count": null,
   "metadata": {},
   "outputs": [],
   "source": [
    "BurritosTable=DemandTable.select('Burrito')\n",
    "BurritosTable\n"
   ]
  },
  {
   "cell_type": "code",
   "execution_count": null,
   "metadata": {},
   "outputs": [],
   "source": [
    "DemandBurr= Table().with_columns([\n",
    "    'priceBurr',[2.5, 5, 7.5, 10.00, 12.5, 15,17.5,20],    \n",
    "])\n",
    "DemandBurr"
   ]
  },
  {
   "cell_type": "code",
   "execution_count": null,
   "metadata": {},
   "outputs": [],
   "source": [
    "# Qdemand=np.count_nonzero(BurritosTable.column('Burrito') < 20)\n",
    "# Qdemand=np.append(Qdemand,np.count_nonzero(BurritosTable.column('Burrito') < 17.5))\n",
    "# Qdemand=np.append(Qdemand,np.count_nonzero(BurritosTable.column('Burrito') < 15))\n",
    "# Qdemand=np.append(Qdemand,np.count_nonzero(BurritosTable.column('Burrito') < 12.5))\n",
    "# Qdemand=np.append(Qdemand,np.count_nonzero(BurritosTable.column('Burrito') < 10))\n",
    "# Qdemand=np.append(Qdemand,np.count_nonzero(BurritosTable.column('Burrito') < 7.5))\n",
    "# Qdemand=np.append(Qdemand,np.count_nonzero(BurritosTable.column('Burrito') < 5))\n",
    "# Qdemand=np.append(Qdemand,np.count_nonzero(BurritosTable.column('Burrito') < 2.5))\n",
    "# Qdemand\n",
    "Qdemand = np.flip(np.cumsum(np.flip(BurritosTable.group(\"Burrito\").column(\"count\"))))\n",
    "if \"20\" not in BurritosTable.column(\"Burrito\"):\n",
    "    Qdemand = np.append(Qdemand, 0)"
   ]
  },
  {
   "cell_type": "code",
   "execution_count": null,
   "metadata": {},
   "outputs": [],
   "source": [
    "DemandBurr=DemandBurr.with_columns('Qdemand',Qdemand)\n",
    "DemandBurr"
   ]
  },
  {
   "cell_type": "code",
   "execution_count": null,
   "metadata": {},
   "outputs": [],
   "source": [
    "DemandBurr.plot(\"Qdemand\", \"priceBurr\")\n",
    "plt.xlabel('Quantity')\n",
    "plt.ylabel('Price')\n",
    "plt.title('Demand for Burritos');"
   ]
  },
  {
   "cell_type": "code",
   "execution_count": null,
   "metadata": {},
   "outputs": [],
   "source": []
  }
 ],
 "metadata": {
  "kernelspec": {
   "display_name": "Python 3",
   "language": "python",
   "name": "python3"
  },
  "language_info": {
   "codemirror_mode": {
    "name": "ipython",
    "version": 3
   },
   "file_extension": ".py",
   "mimetype": "text/x-python",
   "name": "python",
   "nbconvert_exporter": "python",
   "pygments_lexer": "ipython3",
   "version": "3.6.8"
  }
 },
 "nbformat": 4,
 "nbformat_minor": 2
}
