{
 "cells": [
  {
   "cell_type": "markdown",
   "metadata": {},
   "source": [
    "<table style=\"width: 100%;\">\n",
    "    <tr style=\"background-color: transparent;\"><td>\n",
    "        <img src=\"https://d8a-88.github.io/econ-fa19/assets/images/blue_text.png\" width=\"250px\" style=\"margin-left: 0;\" />\n",
    "    </td><td>\n",
    "        <p style=\"text-align: right; font-size: 12pt;\"><strong>Economic Models</strong>, Fall 2019<br>\n",
    "            Dr. Eric Van Dusen</p></td></tr>\n",
    "</table>\n"
   ]
  },
  {
   "cell_type": "markdown",
   "metadata": {},
   "source": [
    "# Demand Curve and Inverse Demand Curve"
   ]
  },
  {
   "cell_type": "markdown",
   "metadata": {},
   "source": [
    "Last week, we learned about the supply curve. This week, we will learn about the demand curve and using both the supply and demand curve to find market equilibrium. "
   ]
  },
  {
   "cell_type": "markdown",
   "metadata": {},
   "source": [
    "The demand curve shows the graphical relationship between the price of a good or service and the quantity demanded for it over a given period of time. In other words, it shows the quantity of goods or services consumers are willing to buy at each market price. The quantity of goods or services demanded or supplied is a function of price, as in   \n",
    "\n",
    "$$\\text{Quantity} = f(\\text{Price})$$\n",
    "\n",
    "The curve decreases because of the law of demand, which states that as the price of a good or service increases, the quantity demanded for it decreases, assuming all other factors are held constant. This makes intuitive sense: as prices increase, fewer people are willing to pay the higher price for the same good. Naturally, as prices decrease, more people are willing to pay the lower price for the same good. Hence, the demand of a good or service is based on the price. This relationship is usually somewhat linear and can be found as \n",
    "\n",
    "$$\\text{Quantity}_{d}=a \\cdot \\text{Price}_{d} + b$$\n",
    "\n",
    "This can be interpreted as: As the price unit increases by 1, there is an a unit increase/decrease in the quantity demanded. An example is \n",
    "\n",
    "$$\\text{Quantity}_{d}=2 \\cdot \\text{Price}_{d} + 3$$\n",
    "\n",
    "Another concept is when price is dependent on quantity. In this case, we use an inverse demand function, as it is an inverse function of the demand function. Thus, price is a function of quantity, as shown by \n",
    "\n",
    "$$\\text{Price} = f(\\text{Quantity})$$ \n",
    "\n",
    "Because it is the inverse of a demand function, the inverse demand function for the example above will be \n",
    "\n",
    "$$\\text{Price}_{d}=\\frac{1}{2}\\cdot\\text{Quantity}_{d}-3/2$$"
   ]
  },
  {
   "cell_type": "markdown",
   "metadata": {},
   "source": [
    "# Shifts in Demand Curve"
   ]
  },
  {
   "cell_type": "markdown",
   "metadata": {},
   "source": [
    "The demand curve can shift out or in based on events happening in the real world. Some factors other than a change in price of the good/service are changes in \n",
    "\n",
    "1. buyer's income\n",
    "\n",
    "2. consumer preferences\n",
    "\n",
    "3. expectation of future price/supply/demand/etc\n",
    "\n",
    "4. price of related goods\n",
    "\n",
    "If any of these changes occur and causes the demand for the selected good/service to decrease, then the curve shifts to the left, as less of the good or service will be demanded at every price. During the 2008 recession, consumers' incomes decreased. Because their buying power decreased, they purchased fewer items even though the prices of the select goods stayed the same. "
   ]
  },
  {
   "cell_type": "markdown",
   "metadata": {},
   "source": [
    "# Airfare Tickets and Market Equilibrium"
   ]
  },
  {
   "cell_type": "code",
   "execution_count": null,
   "metadata": {},
   "outputs": [],
   "source": [
    "from datascience import *\n",
    "\n",
    "import sympy\n",
    "solve = lambda x,y: sympy.solve(x-y)[0] if len(sympy.solve(x-y))==1 else \"Not Single Solution\"\n",
    "import matplotlib.pyplot as plt\n",
    "plt.style.use('seaborn-muted')\n",
    "%matplotlib inline\n",
    "\n",
    "from ipywidgets import interact, interactive, fixed, interact_manual\n",
    "import ipywidgets as widgets\n",
    "from IPython.display import display\n",
    "import numpy as np\n",
    "import pandas as pd\n",
    "\n",
    "import warnings\n",
    "warnings.filterwarnings('ignore')\n",
    "from ipywidgets import interact\n"
   ]
  },
  {
   "cell_type": "markdown",
   "metadata": {},
   "source": [
    "We will now apply what we learned about demand functions and market equilibrium onto a real world dataset. We want to answer the question \"What is the market equilibrium for airline tickets?\" We will use a dataset released by the U.S. Department of Transportation on about 1,000 U.S. domestic routes for the 4th quarter of 2002. "
   ]
  },
  {
   "cell_type": "code",
   "execution_count": null,
   "metadata": {},
   "outputs": [],
   "source": [
    "airlines = Table.read_table('airlines.csv')\n",
    "airlines"
   ]
  },
  {
   "cell_type": "markdown",
   "metadata": {},
   "source": [
    "Remember that at the end of the day, we want columns relating to price and quantity. Create a new table that does just that. "
   ]
  },
  {
   "cell_type": "code",
   "execution_count": null,
   "metadata": {},
   "outputs": [],
   "source": [
    "airlines = airlines.drop(\"Price\")\n",
    "airlinesFiltered = airlines.relabeled([\"Average Fare\", \"Average Weekly Passengers\"], [\"Price\", \"Quantity\"])"
   ]
  },
  {
   "cell_type": "markdown",
   "metadata": {},
   "source": [
    "Revenue Per Available Seat Mile (RASM) measures the efficiency of different airlines. It is found by dividing the average fare by the distance. The higher the RASM, the more profitable the airline is. \n",
    "\n",
    "Create a scatter plot that displays the RASM of the dataset."
   ]
  },
  {
   "cell_type": "code",
   "execution_count": null,
   "metadata": {},
   "outputs": [],
   "source": [
    "rasm = Table().with_columns(\"RASM\", airlinesFiltered.column(\"Price\") / airlines.column(\"Distance\"), \"Quantity\", airlines.column(4))\n",
    "rasm.scatter(\"Quantity\", \"RASM\", fit_line = True, alpha = 0.3, color = \"tab:blue\")"
   ]
  },
  {
   "cell_type": "markdown",
   "metadata": {},
   "source": [
    "That looks unconvincing. Let's segment the market based on distance into 3 categories. Make a scatter plot when you're done. \n",
    "\n",
    "1. short (distance is less than 700)\n",
    "\n",
    "2. medium (distance is greater than or equal to 700 and less than 1900)\n",
    "\n",
    "3. long (distance is greater than or equal to 1900)"
   ]
  },
  {
   "cell_type": "code",
   "execution_count": null,
   "metadata": {},
   "outputs": [],
   "source": [
    "airlinesFiltered"
   ]
  },
  {
   "cell_type": "code",
   "execution_count": null,
   "metadata": {},
   "outputs": [],
   "source": [
    "short = airlinesFiltered.where(airlinesFiltered.column(\"Distance\") < 700)\n",
    "medium = airlinesFiltered.where(airlinesFiltered.column(\"Distance\") >= 700 & (airlinesFiltered.column(\"Distance\") < 1900))\n",
    "long = airlinesFiltered.where(airlinesFiltered.column(\"Distance\") >= 1900)"
   ]
  },
  {
   "cell_type": "code",
   "execution_count": null,
   "metadata": {},
   "outputs": [],
   "source": [
    "short.scatter(\"Quantity\" , \"Price\", fit_line = True, alpha = 0.4, color = \"tab:blue\")"
   ]
  },
  {
   "cell_type": "code",
   "execution_count": null,
   "metadata": {},
   "outputs": [],
   "source": [
    "medium.scatter(\"Quantity\" , \"Price\", fit_line = True, alpha = 0.4, color = \"tab:blue\")"
   ]
  },
  {
   "cell_type": "code",
   "execution_count": null,
   "metadata": {},
   "outputs": [],
   "source": [
    "long.scatter(\"Quantity\" , \"Price\", fit_line = True, alpha = 0.4, color = \"tab:blue\")"
   ]
  },
  {
   "cell_type": "markdown",
   "metadata": {},
   "source": [
    "Most of the data seems to be scattered between 0 and 2000. Let's only look at that data for each of the market segments."
   ]
  },
  {
   "cell_type": "code",
   "execution_count": null,
   "metadata": {},
   "outputs": [],
   "source": [
    "short = short.where(short.column(\"Quantity\") < 2000)\n",
    "medium = medium.where(medium.column(\"Quantity\") < 2000)\n",
    "long = long.where(long.column(\"Quantity\") < 2000)"
   ]
  },
  {
   "cell_type": "code",
   "execution_count": null,
   "metadata": {},
   "outputs": [],
   "source": [
    "short.scatter(\"Quantity\" , \"Price\", fit_line = True, alpha = 0.4, color = \"tab:blue\")"
   ]
  },
  {
   "cell_type": "code",
   "execution_count": null,
   "metadata": {},
   "outputs": [],
   "source": [
    "medium.scatter(\"Quantity\" , \"Price\", fit_line = True, alpha = 0.4, color = \"tab:blue\")"
   ]
  },
  {
   "cell_type": "code",
   "execution_count": null,
   "metadata": {},
   "outputs": [],
   "source": [
    "long.scatter(\"Quantity\" , \"Price\", fit_line = True, alpha = 0.4, color = \"tab:blue\")"
   ]
  },
  {
   "cell_type": "markdown",
   "metadata": {},
   "source": [
    "We can observe that \"long\" is different from \"short\" and \"medium\". This is due to a number of reasons (different supply curve, popularity of flights, etc). We will only focus on \"short\" and \"medium\" going forward."
   ]
  },
  {
   "cell_type": "markdown",
   "metadata": {},
   "source": [
    "Let's find the mean of the price of tickets sold per market segment."
   ]
  },
  {
   "cell_type": "code",
   "execution_count": null,
   "metadata": {},
   "outputs": [],
   "source": [
    "np.mean(short.column(\"Price\"))"
   ]
  },
  {
   "cell_type": "code",
   "execution_count": null,
   "metadata": {},
   "outputs": [],
   "source": [
    "np.mean(medium.column(\"Price\"))"
   ]
  },
  {
   "cell_type": "markdown",
   "metadata": {},
   "source": [
    "Let's also find the mean of the quantity of tickets sold per market segment."
   ]
  },
  {
   "cell_type": "code",
   "execution_count": null,
   "metadata": {},
   "outputs": [],
   "source": [
    "np.mean(short.column(\"Quantity\"))"
   ]
  },
  {
   "cell_type": "code",
   "execution_count": null,
   "metadata": {},
   "outputs": [],
   "source": [
    "np.mean(medium.column(\"Quantity\"))"
   ]
  },
  {
   "cell_type": "markdown",
   "metadata": {},
   "source": [
    "Now you should see a linear relationship between price and quantity. Find and interpret an equation for each market segment. \n",
    "\n",
    "The general template is $y = mx + b$, where $m$ is the slope and $b$ is $y$-intercept. In economic terms, $m$ is the demand curve's slope that shows how the good's price affects the quantity demanded, and $b$ encompasses the effects of all of the factors that are not price that affect demand. \n",
    "\n",
    "We will use `np.polyfit` to find the slope and $y$-intercept. The first value in the array will be the slope, and the second value in the array will be the $y$-intercept."
   ]
  },
  {
   "cell_type": "code",
   "execution_count": null,
   "metadata": {},
   "outputs": [],
   "source": [
    "shortCoefficients = np.polyfit(short.column(\"Quantity\"),short.column(\"Price\"),1)\n",
    "shortCoefficients"
   ]
  },
  {
   "cell_type": "code",
   "execution_count": null,
   "metadata": {},
   "outputs": [],
   "source": [
    "mediumCoefficients = np.polyfit(medium.column(\"Quantity\"), medium.column(\"Price\"),1)\n",
    "mediumCoefficients"
   ]
  },
  {
   "cell_type": "code",
   "execution_count": null,
   "metadata": {},
   "outputs": [],
   "source": [
    "Q = sympy.Symbol(\"Q\")\n",
    "shortdemand = -.037 * Q + 152.8\n",
    "shortdemand"
   ]
  },
  {
   "cell_type": "code",
   "execution_count": null,
   "metadata": {},
   "outputs": [],
   "source": [
    "mediumdemand = -.026 * Q + 178.5\n",
    "mediumdemand"
   ]
  },
  {
   "cell_type": "markdown",
   "metadata": {},
   "source": [
    "Let's assume the supply curve for airfare is $y = 0.0225x + 100$ for each. This is not based on any data; it is chosen out for the purpose of this exercise. Use SymPy to create an expression for supply and interpret what this means."
   ]
  },
  {
   "cell_type": "code",
   "execution_count": null,
   "metadata": {},
   "outputs": [],
   "source": [
    "supply = 0.0225 * Q + 100"
   ]
  },
  {
   "cell_type": "markdown",
   "metadata": {},
   "source": [
    "Find the quantity equilibrium using the supply and demand curves for each market. Describe Q*. "
   ]
  },
  {
   "cell_type": "code",
   "execution_count": null,
   "metadata": {},
   "outputs": [],
   "source": [
    "Q_star_short = solve(shortdemand, supply)\n",
    "Q_star_short"
   ]
  },
  {
   "cell_type": "code",
   "execution_count": null,
   "metadata": {},
   "outputs": [],
   "source": [
    "Q_star_medium = solve(mediumdemand, supply)\n",
    "Q_star_medium"
   ]
  },
  {
   "cell_type": "markdown",
   "metadata": {},
   "source": [
    "Why are the quantity equilibriums different from the mean of quantity of tickets sold different? Specifically, why is the quantity equilibrium so different from the average quantity for the medium market segment. "
   ]
  },
  {
   "cell_type": "markdown",
   "metadata": {},
   "source": [
    "Find the price equilibrium using the supply and demand curves for each market. Describe P*."
   ]
  },
  {
   "cell_type": "code",
   "execution_count": null,
   "metadata": {},
   "outputs": [],
   "source": [
    "shortdemand.subs(Q, Q_star_short)\n",
    "supply.subs(Q, Q_star_short)"
   ]
  },
  {
   "cell_type": "code",
   "execution_count": null,
   "metadata": {},
   "outputs": [],
   "source": [
    "mediumdemand.subs(Q, Q_star_medium)\n",
    "supply.subs(Q, Q_star_medium)"
   ]
  },
  {
   "cell_type": "markdown",
   "metadata": {},
   "source": [
    "Why are the price equilibriums different from the mean of quantity of tickets sold different? "
   ]
  },
  {
   "cell_type": "markdown",
   "metadata": {},
   "source": [
    "Visualize the market equilibrium on a graph. Describe the market equilibrium in this case."
   ]
  },
  {
   "cell_type": "code",
   "execution_count": null,
   "metadata": {},
   "outputs": [],
   "source": [
    "def plot_equation(equation, price_start, price_end, label=None):\n",
    "    plot_prices = [price_start, price_end]\n",
    "    plot_quantities = [equation.subs(list(equation.free_symbols)[0], c) for c in plot_prices]\n",
    "    plt.plot(plot_prices, plot_quantities, label=label)\n",
    "    \n",
    "def plot_intercept(eq1, eq2):\n",
    "    ex = sympy.solve(eq1-eq2)[0]\n",
    "    why = eq1.subs(list(eq1.free_symbols)[0], ex)\n",
    "    plt.scatter([ex], [why])\n",
    "    return (ex, why)\n",
    "    \n",
    "plot_equation(shortdemand, -2500, 5000)\n",
    "plot_equation(supply, -2500, 5000)\n",
    "plt.ylim(0,250)\n",
    "plt.title(\"Airfare Supply and Demand for Short Distance Market\")\n",
    "plt.xlabel(\"Quantity\")\n",
    "plt.ylabel(\"Price\")\n",
    "plot_intercept(supply, shortdemand)\n",
    "plt.show()"
   ]
  },
  {
   "cell_type": "code",
   "execution_count": null,
   "metadata": {},
   "outputs": [],
   "source": [
    "plot_equation(mediumdemand, -2500, 5000)\n",
    "plot_equation(supply, -2500, 5000)\n",
    "plt.ylim(0,250)\n",
    "plt.title(\"Airfare Supply and Demand for Medium Distance Market\")\n",
    "plt.xlabel(\"Quantity\")\n",
    "plt.ylabel(\"Price\")\n",
    "plot_intercept(supply, mediumdemand)\n",
    "plt.show()"
   ]
  },
  {
   "cell_type": "markdown",
   "metadata": {},
   "source": [
    "How do the two market segments compare against each other?"
   ]
  },
  {
   "cell_type": "code",
   "execution_count": null,
   "metadata": {},
   "outputs": [],
   "source": [
    "plot_equation(shortdemand, -1000, 3000, label = \"Short Demand\")\n",
    "plot_equation(supply, -1000, 3000)\n",
    "plt.ylim(50,220)\n",
    "plt.title(\"Airfare Supply and Demand Market Segments\")\n",
    "plt.xlabel(\"Quantity\")\n",
    "plt.ylabel(\"Price\")\n",
    "plot_intercept(supply, shortdemand)\n",
    "\n",
    "plot_equation(mediumdemand, -1000, 3000, label = \"Medium Demand\")\n",
    "plot_equation(supply, -1000, 3000)\n",
    "plot_intercept(supply, mediumdemand)\n",
    "\n",
    "plt.legend(loc = \"upper right\")\n",
    "plt.show()"
   ]
  },
  {
   "cell_type": "markdown",
   "metadata": {},
   "source": [
    "Assume the economy boosted 4% last quarter and all consumers in the short distance airfare industry now have $40 more to spend on airfare. How will this impact the demand curve? Describe how this will change market equilibrium both algebraically and graphically."
   ]
  },
  {
   "cell_type": "code",
   "execution_count": null,
   "metadata": {},
   "outputs": [],
   "source": [
    "newDemand = shortdemand + 40\n",
    "Q_star = solve(newDemand, supply)\n",
    "newDemand.subs(Q, Q_star)\n",
    "supply.subs(Q, Q_star)\n",
    "\n",
    "plot_equation(newDemand, -1000, 3000, label = \"Modified Demand\")\n",
    "plot_equation(supply, -1000, 3000)\n",
    "plt.ylim(50,225)\n",
    "plt.title(\"Shift in Short Distance Industry\")\n",
    "plt.xlabel(\"Quantity\")\n",
    "plt.ylabel(\"Price\")\n",
    "plot_intercept(supply, newDemand)\n",
    "\n",
    "plot_equation(shortdemand, -1000, 3000, label = \"Original Demand\")\n",
    "plot_equation(supply, -1000, 3000)\n",
    "plot_intercept(supply, shortdemand)\n",
    "\n",
    "plt.legend(loc = \"upper right\")\n",
    "\n",
    "xstmark=1200\n",
    "xenmark=2000\n",
    "ystmark=110\n",
    "an1=plt.annotate(s='',xy=(xstmark, ystmark), xycoords='data', xytext=(xenmark, ystmark),textcoords='data', arrowprops=dict(arrowstyle=\"<-\"))\n",
    "plt.annotate(s='Shift',xy=(((xstmark+xenmark)/2), ystmark), xycoords='data',fontsize=12.0,textcoords='data',ha='center')\n",
    "\n",
    "plt.show()"
   ]
  },
  {
   "cell_type": "markdown",
   "metadata": {},
   "source": [
    "# Delta's Innovations "
   ]
  },
  {
   "cell_type": "markdown",
   "metadata": {},
   "source": [
    "In 2002, Delta sponsored the 2002 Olympic Winter Games at its Salt Lake City hub. Different technological innovations, such as kiosks at check-in, expanded gate information systems and virtual check-in on websites improved customer experience. Because of these two factors, consumers believed Delta was a promising airline to fly on. Manipulate the original table to only assume Delta flights for Market Leading Airline and see if its demand curve is different from the general demand curve. Why do you think there is a difference or is not a difference?"
   ]
  },
  {
   "cell_type": "code",
   "execution_count": null,
   "metadata": {},
   "outputs": [],
   "source": [
    "airlines"
   ]
  },
  {
   "cell_type": "markdown",
   "metadata": {},
   "source": [
    "The following cell of code is provided."
   ]
  },
  {
   "cell_type": "code",
   "execution_count": null,
   "metadata": {},
   "outputs": [],
   "source": [
    "delta = airlines.where(\"Market Leading Airline\", \"DL\")\n",
    "delta = delta.select([\"Average Fare\", \"Average Weekly Passengers\"])\n",
    "delta = delta.relabeled([\"Average Weekly Passengers\", \"Average Fare\"], [\"Quantity\", \"Price\"])\n",
    "delta = delta.where(delta.column(\"Quantity\") < 2000)"
   ]
  },
  {
   "cell_type": "code",
   "execution_count": null,
   "metadata": {},
   "outputs": [],
   "source": [
    "delta.scatter(\"Quantity\", \"Price\", fit_line = True, color = \"tab:blue\")"
   ]
  },
  {
   "cell_type": "code",
   "execution_count": null,
   "metadata": {},
   "outputs": [],
   "source": [
    "np.polyfit(delta.column(\"Quantity\"),delta.column(\"Price\"),1)"
   ]
  },
  {
   "cell_type": "code",
   "execution_count": null,
   "metadata": {},
   "outputs": [],
   "source": [
    "deltademand = -0.035 * Q + 189.1"
   ]
  },
  {
   "cell_type": "markdown",
   "metadata": {},
   "source": [
    "Suppose the supply curve is $\\text{Supply} = 0.03 \\cdot Q + 14$. This is not based on any data; it is chosen out for the purpose of this exercise. Write its expression. "
   ]
  },
  {
   "cell_type": "code",
   "execution_count": null,
   "metadata": {},
   "outputs": [],
   "source": [
    "deltasupply = 0.03 * Q + 14"
   ]
  },
  {
   "cell_type": "markdown",
   "metadata": {},
   "source": [
    "Find the quantity equilibrium."
   ]
  },
  {
   "cell_type": "code",
   "execution_count": null,
   "metadata": {},
   "outputs": [],
   "source": [
    "Q_star_delta = solve(deltademand, deltasupply)\n",
    "Q_star_delta"
   ]
  },
  {
   "cell_type": "markdown",
   "metadata": {},
   "source": [
    "Find the price equilibrium."
   ]
  },
  {
   "cell_type": "code",
   "execution_count": null,
   "metadata": {},
   "outputs": [],
   "source": [
    "deltademand.subs(Q, Q_star_delta)"
   ]
  },
  {
   "cell_type": "code",
   "execution_count": null,
   "metadata": {},
   "outputs": [],
   "source": [
    "deltasupply.subs(Q, Q_star_delta)"
   ]
  },
  {
   "cell_type": "markdown",
   "metadata": {},
   "source": [
    "Find the market equilibrium. Visualize it."
   ]
  },
  {
   "cell_type": "code",
   "execution_count": null,
   "metadata": {},
   "outputs": [],
   "source": [
    "plot_equation(deltademand, 0, 5000)\n",
    "plot_equation(deltasupply, 0, 5000)\n",
    "plt.ylim(0,200)\n",
    "plt.title(\"Delta Supply and Demand\")\n",
    "plt.xlabel(\"Quantity\")\n",
    "plt.ylabel(\"Price\")\n",
    "plot_intercept(deltasupply, deltademand)\n",
    "plt.show()"
   ]
  },
  {
   "cell_type": "markdown",
   "metadata": {},
   "source": [
    "In this week's homework, one of the exercises you will work on is to compare Delta vs non-Delta flights' demand. Until then, let's suppose that Delta's innovations did influence the demand of Delta tickets. How would the demand curve shift? \n"
   ]
  },
  {
   "cell_type": "code",
   "execution_count": null,
   "metadata": {},
   "outputs": [],
   "source": [
    "def shift_demand():\n",
    "    equation = deltademand\n",
    "    def shift_helper(shift):\n",
    "        plot_equation(equation, 0, 10000, \"Original\")\n",
    "        plot_equation(deltasupply, 0, 10000)\n",
    "        old = plot_intercept(equation, deltasupply)\n",
    "        print('Original Intercept:', old)\n",
    "        \n",
    "        if shift != 0:\n",
    "            plot_equation(equation + shift, -10, 10000, 'Shifted')\n",
    "            new = plot_intercept(equation + shift, supply)\n",
    "            print('New intercept:', new)\n",
    "            print('Change in Price:', round(float(new[1]-old[1]), 2))\n",
    "        else:\n",
    "            print('Nothing shifted yet, use the slider to move the line!')\n",
    "        plt.xlim(0,5000)\n",
    "        plt.ylim(0,200)\n",
    "        plt.legend()\n",
    "        plt.ylabel(\"Price\")\n",
    "        plt.xlabel(\"Quantity\")\n",
    "        plt.title(\"Shift in Customer Preference Impact on Delta Ticket Sales\")\n",
    "    interact(shift_helper, shift=(-50, 40, 2))\n",
    "\n",
    "shift_demand()"
   ]
  },
  {
   "cell_type": "markdown",
   "metadata": {},
   "source": [
    " "
   ]
  }
 ],
 "metadata": {
  "kernelspec": {
   "display_name": "Python 3",
   "language": "python",
   "name": "python3"
  },
  "language_info": {
   "codemirror_mode": {
    "name": "ipython",
    "version": 3
   },
   "file_extension": ".py",
   "mimetype": "text/x-python",
   "name": "python",
   "nbconvert_exporter": "python",
   "pygments_lexer": "ipython3",
   "version": "3.6.5"
  },
  "varInspector": {
   "cols": {
    "lenName": 16,
    "lenType": 16,
    "lenVar": 40
   },
   "kernels_config": {
    "python": {
     "delete_cmd_postfix": "",
     "delete_cmd_prefix": "del ",
     "library": "var_list.py",
     "varRefreshCmd": "print(var_dic_list())"
    },
    "r": {
     "delete_cmd_postfix": ") ",
     "delete_cmd_prefix": "rm(",
     "library": "var_list.r",
     "varRefreshCmd": "cat(var_dic_list()) "
    }
   },
   "types_to_exclude": [
    "module",
    "function",
    "builtin_function_or_method",
    "instance",
    "_Feature"
   ],
   "window_display": false
  }
 },
 "nbformat": 4,
 "nbformat_minor": 2
}
