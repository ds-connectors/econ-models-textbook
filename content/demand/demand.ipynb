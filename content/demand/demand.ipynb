{
 "cells": [
  {
   "cell_type": "markdown",
   "metadata": {},
   "source": [
    "# Demand"
   ]
  },
  {
   "cell_type": "code",
   "execution_count": 2,
   "metadata": {
    "tags": [
     "remove_cell"
    ]
   },
   "outputs": [],
   "source": [
    "# HIDDEN\n",
    "from datascience import *\n",
    "\n",
    "import sympy\n",
    "import matplotlib.pyplot as plt\n",
    "import matplotlib.patches as patches\n",
    "plt.style.use('seaborn-muted')\n",
    "%matplotlib inline\n",
    "\n",
    "from IPython.display import display\n",
    "import numpy as np\n",
    "import pandas as pd\n",
    "\n",
    "import warnings\n",
    "warnings.filterwarnings('ignore')"
   ]
  },
  {
   "cell_type": "markdown",
   "metadata": {},
   "source": [
    "## Introduction ##"
   ]
  },
  {
   "cell_type": "markdown",
   "metadata": {},
   "source": [
    "In this chapter, we will explore one of the most foundational concepts in economics: demand curves. Supply and demand makes up markets, and understanding how demand works is important for future concepts. \n",
    "\n",
    "The demand curve shows the graphical relationship between the price of a good or service and the quantity demanded for it over a given period of time. In other words, it shows the quantity of goods or services consumers are willing to buy at each market price. The quantity of goods or services demanded or supplied is a function of price, as in   $$\\text{Quantity} = f(\\text{Price})$$\n",
    "\n",
    "The curve decreases because of the law of demand, which states that as the price of a good or service increases, the quantity demanded for it decreases, assuming all other factors are held constant. This makes intuitive sense: as prices increase, fewer people are willing to pay the higher price for the same good. Naturally, as prices decrease, more people are willing to pay the lower price for the same good. Hence, the demand of a good or service is based on the price. This relationship is usually somewhat linear and can be found as $$\\text{Quantity}_{d}=a * \\text{Price}_{d} + b$$\n",
    "\n",
    "This can be interpreted as: As the price unit increases by 1, there is an a unit increase/decrease in the quantity demanded. An example is $$\\text{Quantity}_{d}=2 * \\text{Price}_{d} + 3$$\n",
    "\n",
    "Another concept is when price is dependent on quantity. In this case, we use an inverse demand function, as it is an inverse function of the demand function. Thus, price is a function of quantity, as shown by $$\\text{Price} = f(\\text{Quantity})$$ Because it is the inverse of a demand function, the inverse demand function for the example above will be $$\\text{Price}_{d}=1/2*\\text{Quantity}_{d}-3/2$$"
   ]
  },
  {
   "cell_type": "markdown",
   "metadata": {},
   "source": [
    "### Shifts in Demand Curve###"
   ]
  },
  {
   "cell_type": "markdown",
   "metadata": {},
   "source": [
    "The demand curve can shift out or in based on events happening in the real world. Some factors other than a change in price of the good/service are changes in \n",
    "\n",
    "*  buyer's income\n",
    "*  consumer preferences\n",
    "*  expectation of future price/supply/demand/etc.\n",
    "* price of related goods\n",
    "\n",
    "If any of these changes occur and causes the demand for the selected good/service to decrease, then the curve shifts to the left, as less of the good or service will be demanded at every price. During the 2008 recession, consumers' incomes decreased. Because their buying power decreased, they purchased fewer items even though the prices of the select goods stayed the same. "
   ]
  },
  {
   "cell_type": "markdown",
   "metadata": {},
   "source": [
    "## Fruits Data ##"
   ]
  },
  {
   "cell_type": "markdown",
   "metadata": {},
   "source": [
    "We will now explore the relationship between price and quantity of oranges produced between 1924 and 1938. In this chapter, we will focus on oranges. It is important to remember that this data is from the 1920's and 1930's, so the prices are much lower than what they would be today because of inflation, competition, innovations, etc. For example, in 1924, 41,880 tons of oranges would have costed 6.63 dollars as of 1924-dollars. That same amount in 2019 is 100.78 dollars. \n",
    "\n",
    "\n",
    "The source of this dataset is S. Hoos (1941). \"An Investigation on Complementarity Relations Between\n",
    "Fresh Fruits,\" Journal of Farm Economics, Vol. 23, #2, pp. 421-433."
   ]
  },
  {
   "cell_type": "code",
   "execution_count": 4,
   "metadata": {},
   "outputs": [
    {
     "data": {
      "text/html": [
       "<table border=\"1\" class=\"dataframe\">\n",
       "    <thead>\n",
       "        <tr>\n",
       "            <th>Year</th> <th>Pear Price</th> <th>Pear Unloads (Tons)</th> <th>Plum Price</th> <th>Plum Unloads</th> <th>Peach Price</th> <th>Peach Unloads</th> <th>Orange Price</th> <th>Orange Unloads</th> <th>NY Factory Wages</th>\n",
       "        </tr>\n",
       "    </thead>\n",
       "    <tbody>\n",
       "        <tr>\n",
       "            <td>1924</td> <td>8.04      </td> <td>18489              </td> <td>8.86      </td> <td>6582        </td> <td>4.96       </td> <td>41880        </td> <td>6.63        </td> <td>21258         </td> <td>27.22           </td>\n",
       "        </tr>\n",
       "        <tr>\n",
       "            <td>1925</td> <td>5.67      </td> <td>21919              </td> <td>7.27      </td> <td>5526        </td> <td>4.87       </td> <td>38772        </td> <td>9.19        </td> <td>15426         </td> <td>28.03           </td>\n",
       "        </tr>\n",
       "        <tr>\n",
       "            <td>1926</td> <td>5.44      </td> <td>29328              </td> <td>6.68      </td> <td>5742        </td> <td>3.35       </td> <td>46516        </td> <td>7.2         </td> <td>24762         </td> <td>28.89           </td>\n",
       "        </tr>\n",
       "        <tr>\n",
       "            <td>1927</td> <td>7.15      </td> <td>17082              </td> <td>8.09      </td> <td>5758        </td> <td>5.7        </td> <td>32500        </td> <td>8.63        </td> <td>22766         </td> <td>29.14           </td>\n",
       "        </tr>\n",
       "        <tr>\n",
       "            <td>1928</td> <td>5.81      </td> <td>20708              </td> <td>7.41      </td> <td>6000        </td> <td>4.13       </td> <td>46820        </td> <td>10.71       </td> <td>18766         </td> <td>29.34           </td>\n",
       "        </tr>\n",
       "        <tr>\n",
       "            <td>1929</td> <td>7.6       </td> <td>13071              </td> <td>10.86     </td> <td>3504        </td> <td>6.7        </td> <td>36990        </td> <td>6.36        </td> <td>35702         </td> <td>29.97           </td>\n",
       "        </tr>\n",
       "        <tr>\n",
       "            <td>1930</td> <td>5.06      </td> <td>22068              </td> <td>6.23      </td> <td>7998        </td> <td>6.35       </td> <td>29680        </td> <td>10.5        </td> <td>23718         </td> <td>28.68           </td>\n",
       "        </tr>\n",
       "        <tr>\n",
       "            <td>1931</td> <td>5.4       </td> <td>19255              </td> <td>6.86      </td> <td>5638        </td> <td>3.91       </td> <td>50940        </td> <td>5.81        </td> <td>39263         </td> <td>26.35           </td>\n",
       "        </tr>\n",
       "        <tr>\n",
       "            <td>1932</td> <td>4.06      </td> <td>17293              </td> <td>6.09      </td> <td>7364        </td> <td>4.57       </td> <td>27642        </td> <td>4.71        </td> <td>38553         </td> <td>21.98           </td>\n",
       "        </tr>\n",
       "        <tr>\n",
       "            <td>1933</td> <td>4.78      </td> <td>11063              </td> <td>5.86      </td> <td>8136        </td> <td>3.57       </td> <td>35560        </td> <td>4.6         </td> <td>36540         </td> <td>22.26           </td>\n",
       "        </tr>\n",
       "    </tbody>\n",
       "</table>\n",
       "<p>... (5 rows omitted)</p>"
      ],
      "text/plain": [
       "Year | Pear Price | Pear Unloads (Tons) | Plum Price | Plum Unloads | Peach Price | Peach Unloads | Orange Price | Orange Unloads | NY Factory Wages\n",
       "1924 | 8.04       | 18489               | 8.86       | 6582         | 4.96        | 41880         | 6.63         | 21258          | 27.22\n",
       "1925 | 5.67       | 21919               | 7.27       | 5526         | 4.87        | 38772         | 9.19         | 15426          | 28.03\n",
       "1926 | 5.44       | 29328               | 6.68       | 5742         | 3.35        | 46516         | 7.2          | 24762          | 28.89\n",
       "1927 | 7.15       | 17082               | 8.09       | 5758         | 5.7         | 32500         | 8.63         | 22766          | 29.14\n",
       "1928 | 5.81       | 20708               | 7.41       | 6000         | 4.13        | 46820         | 10.71        | 18766          | 29.34\n",
       "1929 | 7.6        | 13071               | 10.86      | 3504         | 6.7         | 36990         | 6.36         | 35702          | 29.97\n",
       "1930 | 5.06       | 22068               | 6.23       | 7998         | 6.35        | 29680         | 10.5         | 23718          | 28.68\n",
       "1931 | 5.4        | 19255               | 6.86       | 5638         | 3.91        | 50940         | 5.81         | 39263          | 26.35\n",
       "1932 | 4.06       | 17293               | 6.09       | 7364         | 4.57        | 27642         | 4.71         | 38553          | 21.98\n",
       "1933 | 4.78       | 11063               | 5.86       | 8136         | 3.57        | 35560         | 4.6          | 36540          | 22.26\n",
       "... (5 rows omitted)"
      ]
     },
     "execution_count": 4,
     "metadata": {},
     "output_type": "execute_result"
    }
   ],
   "source": [
    "fruitprice = Table.read_table('fruitprice.csv')\n",
    "fruitprice"
   ]
  },
  {
   "cell_type": "markdown",
   "metadata": {},
   "source": [
    "Because we are only examining the relationship between prices and quantity for oranges, we can create a new table with the relevant columns: Year, Orange Price, and Orange Unloads. "
   ]
  },
  {
   "cell_type": "code",
   "execution_count": 5,
   "metadata": {},
   "outputs": [
    {
     "data": {
      "text/html": [
       "<table border=\"1\" class=\"dataframe\">\n",
       "    <thead>\n",
       "        <tr>\n",
       "            <th>Year</th> <th>Orange Price</th> <th>Orange Unloads</th>\n",
       "        </tr>\n",
       "    </thead>\n",
       "    <tbody>\n",
       "        <tr>\n",
       "            <td>1924</td> <td>6.63        </td> <td>21258         </td>\n",
       "        </tr>\n",
       "        <tr>\n",
       "            <td>1925</td> <td>9.19        </td> <td>15426         </td>\n",
       "        </tr>\n",
       "        <tr>\n",
       "            <td>1926</td> <td>7.2         </td> <td>24762         </td>\n",
       "        </tr>\n",
       "        <tr>\n",
       "            <td>1927</td> <td>8.63        </td> <td>22766         </td>\n",
       "        </tr>\n",
       "        <tr>\n",
       "            <td>1928</td> <td>10.71       </td> <td>18766         </td>\n",
       "        </tr>\n",
       "        <tr>\n",
       "            <td>1929</td> <td>6.36        </td> <td>35702         </td>\n",
       "        </tr>\n",
       "        <tr>\n",
       "            <td>1930</td> <td>10.5        </td> <td>23718         </td>\n",
       "        </tr>\n",
       "        <tr>\n",
       "            <td>1931</td> <td>5.81        </td> <td>39263         </td>\n",
       "        </tr>\n",
       "        <tr>\n",
       "            <td>1932</td> <td>4.71        </td> <td>38553         </td>\n",
       "        </tr>\n",
       "        <tr>\n",
       "            <td>1933</td> <td>4.6         </td> <td>36540         </td>\n",
       "        </tr>\n",
       "    </tbody>\n",
       "</table>\n",
       "<p>... (5 rows omitted)</p>"
      ],
      "text/plain": [
       "Year | Orange Price | Orange Unloads\n",
       "1924 | 6.63         | 21258\n",
       "1925 | 9.19         | 15426\n",
       "1926 | 7.2          | 24762\n",
       "1927 | 8.63         | 22766\n",
       "1928 | 10.71        | 18766\n",
       "1929 | 6.36         | 35702\n",
       "1930 | 10.5         | 23718\n",
       "1931 | 5.81         | 39263\n",
       "1932 | 4.71         | 38553\n",
       "1933 | 4.6          | 36540\n",
       "... (5 rows omitted)"
      ]
     },
     "execution_count": 5,
     "metadata": {},
     "output_type": "execute_result"
    }
   ],
   "source": [
    "oranges = fruitprice.select([\"Year\", \"Orange Price\", \"Orange Unloads\"])\n",
    "oranges"
   ]
  },
  {
   "cell_type": "markdown",
   "metadata": {},
   "source": [
    "We can also rename columns. In this case, let's rename \"Orange Unloads\" to \"Orange Quantity\" for simplicity and comprehensibility. "
   ]
  },
  {
   "cell_type": "code",
   "execution_count": 6,
   "metadata": {},
   "outputs": [
    {
     "data": {
      "text/html": [
       "<table border=\"1\" class=\"dataframe\">\n",
       "    <thead>\n",
       "        <tr>\n",
       "            <th>Year</th> <th>Price</th> <th>Quantity</th>\n",
       "        </tr>\n",
       "    </thead>\n",
       "    <tbody>\n",
       "        <tr>\n",
       "            <td>1924</td> <td>6.63 </td> <td>21258   </td>\n",
       "        </tr>\n",
       "        <tr>\n",
       "            <td>1925</td> <td>9.19 </td> <td>15426   </td>\n",
       "        </tr>\n",
       "        <tr>\n",
       "            <td>1926</td> <td>7.2  </td> <td>24762   </td>\n",
       "        </tr>\n",
       "        <tr>\n",
       "            <td>1927</td> <td>8.63 </td> <td>22766   </td>\n",
       "        </tr>\n",
       "        <tr>\n",
       "            <td>1928</td> <td>10.71</td> <td>18766   </td>\n",
       "        </tr>\n",
       "        <tr>\n",
       "            <td>1929</td> <td>6.36 </td> <td>35702   </td>\n",
       "        </tr>\n",
       "        <tr>\n",
       "            <td>1930</td> <td>10.5 </td> <td>23718   </td>\n",
       "        </tr>\n",
       "        <tr>\n",
       "            <td>1931</td> <td>5.81 </td> <td>39263   </td>\n",
       "        </tr>\n",
       "        <tr>\n",
       "            <td>1932</td> <td>4.71 </td> <td>38553   </td>\n",
       "        </tr>\n",
       "        <tr>\n",
       "            <td>1933</td> <td>4.6  </td> <td>36540   </td>\n",
       "        </tr>\n",
       "    </tbody>\n",
       "</table>\n",
       "<p>... (5 rows omitted)</p>"
      ],
      "text/plain": [
       "Year | Price | Quantity\n",
       "1924 | 6.63  | 21258\n",
       "1925 | 9.19  | 15426\n",
       "1926 | 7.2   | 24762\n",
       "1927 | 8.63  | 22766\n",
       "1928 | 10.71 | 18766\n",
       "1929 | 6.36  | 35702\n",
       "1930 | 10.5  | 23718\n",
       "1931 | 5.81  | 39263\n",
       "1932 | 4.71  | 38553\n",
       "1933 | 4.6   | 36540\n",
       "... (5 rows omitted)"
      ]
     },
     "execution_count": 6,
     "metadata": {},
     "output_type": "execute_result"
    }
   ],
   "source": [
    "orangesRenamed = oranges.relabeled([\"Orange Unloads\", \"Orange Price\"], [\"Quantity\", \"Price\"])\n",
    "orangesRenamed"
   ]
  },
  {
   "cell_type": "markdown",
   "metadata": {},
   "source": [
    "To construct the demand curve, let's first see what the relationship between price and quantity is. We want a downward-sloping line between price and quantity, because the demand curve is a downward-sloping curve that shows that if a product's prices increase, consumers will purchase less, and if a product's prices decrease, then consumers will purchase more. \n",
    "\n",
    "To find this, we will create a scatterplot and draw a regression line (`fit_line = True`) between the points. Regression lines are helpful because they consolidate all the datapoints into a single line, helping us better understand the relationship between the two variables. "
   ]
  },
  {
   "cell_type": "code",
   "execution_count": 7,
   "metadata": {},
   "outputs": [
    {
     "data": {
      "image/png": "[encoded data removed]",
      "text/plain": [
       "<Figure size 360x360 with 1 Axes>"
      ]
     },
     "metadata": {
      "needs_background": "light"
     },
     "output_type": "display_data"
    }
   ],
   "source": [
    "orangesRenamed.scatter(\"Quantity\", \"Price\", fit_line = True)"
   ]
  },
  {
   "cell_type": "markdown",
   "metadata": {},
   "source": [
    "We can see that there is a negative relationship between the two variables. Perfect! It is important to note that scatterplots only show positive, negative, or neutral correlations among two variables. If two variables have a positive correlation, then as one variable increases, the other increases too. If two variables have a negative correlation, then as one variable increass, the other decreases. If two variables have a neutral correlation, then if one varible increases, the other variable stays constant. Scatterplots do not show or prove causation between two variables-- it is up to the data scientists to prove any causation. \n",
    "\n",
    "We will now quantify our demand curve using NumPy's polyfit function. `np.polyfit` returns an array of size 2, where the 0th index is the slope and 1st index is the $y$-intercept.\n",
    "\n",
    "The general template for the demand curve is $y = mx + b$, where $m$ is the slope and $b$ is $y$-intercept. In economic terms, $m$ is the demand curve's slope that shows how the good's price affects the quantity demanded, and $b$ encompasses the effects of all of the factors that are not price that affect demand. "
   ]
  },
  {
   "cell_type": "code",
   "execution_count": 8,
   "metadata": {},
   "outputs": [
    {
     "data": {
      "text/plain": [
       "array([-2.14089690e-04,  1.33040264e+01])"
      ]
     },
     "execution_count": 8,
     "metadata": {},
     "output_type": "execute_result"
    }
   ],
   "source": [
    "np.polyfit(orangesRenamed.column(\"Quantity\"),orangesRenamed.column(\"Price\"),1)"
   ]
  },
  {
   "cell_type": "markdown",
   "metadata": {},
   "source": [
    "This shows that the demand curve is $y = -0.000214x+ 13.3$. The slope is -0.000214 and $y$-intercept is 13.3. That means that as quantity increases by 1 unit (in this case, 1 ton), price decreases by 0.000214 units (in this case, \\\\$0.000214). \n",
    "\n",
    "We will now use SymPy to write out this demand curve. "
   ]
  },
  {
   "cell_type": "code",
   "execution_count": 9,
   "metadata": {},
   "outputs": [
    {
     "data": {
      "text/plain": [
       "-0.000214*Q + 13.3"
      ]
     },
     "execution_count": 9,
     "metadata": {},
     "output_type": "execute_result"
    }
   ],
   "source": [
    "Q = sympy.Symbol(\"Q\")\n",
    "demand = -0.000214 * Q + 13.3\n",
    "demand"
   ]
  },
  {
   "cell_type": "markdown",
   "metadata": {},
   "source": [
    "Let's now assume that the supply curve is given by $y = 0.00023x + 0.8$. The supply curve is not based on data. Supply curves show how much of a good suppliers are willing and able to supply at different prices."
   ]
  },
  {
   "cell_type": "code",
   "execution_count": 10,
   "metadata": {},
   "outputs": [
    {
     "data": {
      "text/plain": [
       "0.00023*Q + 0.8"
      ]
     },
     "execution_count": 10,
     "metadata": {},
     "output_type": "execute_result"
    }
   ],
   "source": [
    "supply = 0.00023 * Q + 0.8\n",
    "supply"
   ]
  },
  {
   "cell_type": "markdown",
   "metadata": {},
   "source": [
    "Quantity equilibrium is the quantity at which the supply curve and demand curve intersect. The quantity of the good that consumers desire to purchase is equivalent to the quantity of the good that producers supply. There is no shortage or surplus of the product at this quantity. \n",
    "\n",
    "Let's find the quantity equilibrium for this exercise."
   ]
  },
  {
   "cell_type": "code",
   "execution_count": 11,
   "metadata": {},
   "outputs": [
    {
     "data": {
      "text/plain": [
       "28153.1531531532"
      ]
     },
     "execution_count": 11,
     "metadata": {},
     "output_type": "execute_result"
    }
   ],
   "source": [
    "solve = lambda x,y: sympy.solve(x-y)[0] if len(sympy.solve(x-y))==1 else \"Not Single Solution\"\n",
    "\n",
    "Q_star = solve(demand, supply)\n",
    "Q_star"
   ]
  },
  {
   "cell_type": "markdown",
   "metadata": {},
   "source": [
    "This means that the number of tons of oranges that consumers want to purchase and producers want to provide are about 28,153 tons of oranges. "
   ]
  },
  {
   "cell_type": "markdown",
   "metadata": {},
   "source": [
    "Price equilibrium is the price at which the supply curve and demand curve intersect. The price of the good that consumers desire to purchase at is equivalent to the price of the good that producers want to sell at. There is no shortage of surplus of the product at this price.\n",
    "\n",
    "Let's find the price equilibrium. "
   ]
  },
  {
   "cell_type": "code",
   "execution_count": 12,
   "metadata": {},
   "outputs": [
    {
     "data": {
      "text/plain": [
       "7.27522522522523"
      ]
     },
     "execution_count": 12,
     "metadata": {},
     "output_type": "execute_result"
    }
   ],
   "source": [
    "demand.subs(Q, Q_star)\n",
    "supply.subs(Q, Q_star)"
   ]
  },
  {
   "cell_type": "markdown",
   "metadata": {},
   "source": [
    "This means that the price of oranges in tons that consumers want to purchase at and producers want to provide is about \\\\$7.27. \n",
    "\n",
    "Now that we have our demand and supply curves and price and quantity equilibriums, we can visualize them on a graph to see what they look like. "
   ]
  },
  {
   "cell_type": "code",
   "execution_count": 13,
   "metadata": {},
   "outputs": [
    {
     "data": {
      "image/png": "[encoded data removed]",
      "text/plain": [
       "<Figure size 432x288 with 1 Axes>"
      ]
     },
     "metadata": {
      "needs_background": "light"
     },
     "output_type": "display_data"
    }
   ],
   "source": [
    "def plot_equation(equation, price_start, price_end, label=None):\n",
    "    plot_prices = [price_start, price_end]\n",
    "    plot_quantities = [equation.subs(list(equation.free_symbols)[0], c) for c in plot_prices]\n",
    "    plt.plot(plot_prices, plot_quantities, label=label)\n",
    "    \n",
    "def plot_intercept(eq1, eq2):\n",
    "    ex = sympy.solve(eq1-eq2)[0]\n",
    "    why = eq1.subs(list(eq1.free_symbols)[0], ex)\n",
    "    plt.scatter([ex], [why])\n",
    "    return (ex, why)\n",
    "    \n",
    "plot_equation(demand, 5000, 50000, label = \"Demand\")\n",
    "plot_equation(supply, 5000, 50000, label = \"Supply\")\n",
    "plt.ylim(0,13)\n",
    "plt.title(\"Orange Supply and Demand in 1920's and 1930's\")\n",
    "plt.xlabel(\"Quantity (Tons)\")\n",
    "plt.ylabel(\"Price\")\n",
    "plot_intercept(supply, demand)\n",
    "plt.legend(loc = \"upper right\")\n",
    "plt.show()"
   ]
  },
  {
   "cell_type": "markdown",
   "metadata": {},
   "source": [
    "You can also practice on your own and download additional data sets here: http://users.stat.ufl.edu/~winner/datasets.html, courtesy of the University of Flordia's Statistics Department. "
   ]
  }
 ],
 "metadata": {
  "kernelspec": {
   "display_name": "Python 3",
   "language": "python",
   "name": "python3"
  },
  "language_info": {
   "codemirror_mode": {
    "name": "ipython",
    "version": 3
   },
   "file_extension": ".py",
   "mimetype": "text/x-python",
   "name": "python",
   "nbconvert_exporter": "python",
   "pygments_lexer": "ipython3",
   "version": "3.6.5"
  }
 },
 "nbformat": 4,
 "nbformat_minor": 2
}
