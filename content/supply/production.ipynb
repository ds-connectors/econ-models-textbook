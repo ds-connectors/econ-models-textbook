{
 "cells": [
  {
   "cell_type": "markdown",
   "metadata": {},
   "source": [
    "<table style=\"width: 100%;\" id=\"nb-header\">\n",
    "    <tr style=\"background-color: transparent;\"><td>\n",
    "        <img src=\"https://d8a-88.github.io/econ-fa19/assets/images/blue_text.png\" width=\"250px\" style=\"margin-left: 0;\" />\n",
    "    </td><td>\n",
    "        <p style=\"text-align: right; font-size: 12pt;\"><strong>Economic Models</strong>, Fall 2019<br>\n",
    "            Dr. Eric Van Dusen</p></td></tr>\n",
    "</table>"
   ]
  },
  {
   "cell_type": "code",
   "execution_count": null,
   "metadata": {},
   "outputs": [],
   "source": [
    "import numpy as np  \n",
    "import matplotlib.pyplot as plt  \n",
    "%matplotlib inline\n",
    "from datascience import *"
   ]
  },
  {
   "cell_type": "markdown",
   "metadata": {},
   "source": [
    "## Total Output"
   ]
  },
  {
   "cell_type": "markdown",
   "metadata": {},
   "source": [
    "Imagine that we have a production function is as follows: $$f(x) = -0.6x^3+20x^2+10x$$\n",
    "Where $x$ is our production input and $f(x)$ is the units of output. For simplicity, we can think of both in dollar terms. "
   ]
  },
  {
   "cell_type": "code",
   "execution_count": null,
   "metadata": {},
   "outputs": [],
   "source": [
    "def graph(formula, x_range, title):  \n",
    "    x = np.array(x_range)  \n",
    "    y = formula(x)  # <- note now we're calling the function 'formula' with x\n",
    "    plt.plot(x, y)\n",
    "    plt.xlabel(\"Input units\")\n",
    "    plt.ylabel(\"Output units\")\n",
    "    plt.title(title)\n",
    "    plt.show()  \n",
    "\n",
    "def TPP(x):\n",
    "    return -0.6*x**3+20*x**2+10*x\n",
    "\n",
    "graph(TPP, range(0, 30), \"Total output with respect to inputs\")"
   ]
  },
  {
   "cell_type": "markdown",
   "metadata": {},
   "source": [
    "Here is something interesting to note: when we feed in too many inputs, production actually decreases! Typically, this does not happen, but for this example we can imagine that perhaps hiring too many laborers will reduce the overall output of our production."
   ]
  },
  {
   "cell_type": "markdown",
   "metadata": {},
   "source": [
    "## Average Output"
   ]
  },
  {
   "cell_type": "markdown",
   "metadata": {},
   "source": [
    "The average production function is the average number of output for each input unit. The formula is as follows:\n",
    "$$\\frac{f(x)}{x} = \\frac{-0.6x^3+20x^2+10x}{x} = -0.6x^2+20x+10$$"
   ]
  },
  {
   "cell_type": "code",
   "execution_count": null,
   "metadata": {},
   "outputs": [],
   "source": [
    "def APP(x):\n",
    "    return -0.6*x**2+20*x+10\n",
    "\n",
    "graph(APP, range(0, 30), \"Average output per unit of input\")"
   ]
  },
  {
   "cell_type": "markdown",
   "metadata": {},
   "source": [
    "## Marginal Output"
   ]
  },
  {
   "cell_type": "markdown",
   "metadata": {},
   "source": [
    "The marginal production function is the marginal units of output for each additional unit of input. The formula is as follows:\n",
    "$$\\frac{\\delta f(x)}{\\delta x} = -1.8x^2+40x+10$$"
   ]
  },
  {
   "cell_type": "code",
   "execution_count": null,
   "metadata": {},
   "outputs": [],
   "source": [
    "def MPP(x):\n",
    "    return -1.8*x**2+40*x+10\n",
    "\n",
    "graph(MPP, range(0, 30), \"Marginal output per additional unit of input\")"
   ]
  },
  {
   "cell_type": "markdown",
   "metadata": {},
   "source": [
    "Combining all 3 functions:"
   ]
  },
  {
   "cell_type": "code",
   "execution_count": null,
   "metadata": {},
   "outputs": [],
   "source": [
    "fig, axs = plt.subplots(2)\n",
    "fig.suptitle('Total and Average and Marginal Production')\n",
    "axs[0].plot(range(0, 30), [TPP(i) for i in range(0, 30)])\n",
    "axs[0].set_title('TPP')\n",
    "axs[0].set_ylabel('Unit of Output')\n",
    "axs[1].plot(range(0, 30), [APP(i) for i in range(0, 30)])\n",
    "axs[1].plot(range(0, 30), [MPP(i) for i in range(0, 30)])\n",
    "axs[1].set_title('APP and MPP')\n",
    "axs[1].set_ylabel('Output per input Y/X')\n",
    "axs[1].axhline(0)\n",
    "plt.xlabel(\"Input units (X)\")\n",
    "\n",
    "\n",
    "fig.set_size_inches(15,15)"
   ]
  },
  {
   "cell_type": "markdown",
   "metadata": {},
   "source": [
    "## Think Pair Share\n",
    "If you were a supplier, how many input units would you use?"
   ]
  },
  {
   "cell_type": "markdown",
   "metadata": {},
   "source": [
    "### Let's look at is as a data table / data set ###\n",
    "Import a dataset that corresponds to this data..."
   ]
  },
  {
   "cell_type": "code",
   "execution_count": null,
   "metadata": {},
   "outputs": [],
   "source": [
    "TPP=Table().read_table(\"tableTPP.csv\")\n",
    "TPP.show(20)"
   ]
  },
  {
   "cell_type": "code",
   "execution_count": null,
   "metadata": {},
   "outputs": [],
   "source": [
    "fig, axs = plt.subplots(2)\n",
    "fig.suptitle('Total and Average and Marginal Production')\n",
    "axs[0].plot(TPP.column(\"Input (x)\"),TPP.column(\"Output_Y\"))\n",
    "axs[0].set_title('TPP')\n",
    "axs[0].set_ylabel('Unit of Output')\n",
    "\n",
    "axs[1].plot(TPP.column(\"Input (x)\"),TPP.column(\"Average_Product\"))\n",
    "axs[1].plot(TPP.column(\"Input (x)\"),TPP.column(\"Marginal_Product\"))\n",
    "axs[1].set_title('APP and MPP')\n",
    "axs[1].set_ylabel('Output per input Y/X')\n",
    "axs[1].axhline(0)\n",
    "plt.xlabel(\"Input units (X)\")\n",
    "\n",
    "\n",
    "fig.set_size_inches(15,15)"
   ]
  },
  {
   "cell_type": "markdown",
   "metadata": {},
   "source": [
    "**This is the same graph as it comes from the same function! **"
   ]
  },
  {
   "cell_type": "code",
   "execution_count": null,
   "metadata": {},
   "outputs": [],
   "source": []
  }
 ],
 "metadata": {
  "kernelspec": {
   "display_name": "Python 3",
   "language": "python",
   "name": "python3"
  },
  "language_info": {
   "codemirror_mode": {
    "name": "ipython",
    "version": 3
   },
   "file_extension": ".py",
   "mimetype": "text/x-python",
   "name": "python",
   "nbconvert_exporter": "python",
   "pygments_lexer": "ipython3",
   "version": "3.6.5"
  },
  "varInspector": {
   "cols": {
    "lenName": 16,
    "lenType": 16,
    "lenVar": 40
   },
   "kernels_config": {
    "python": {
     "delete_cmd_postfix": "",
     "delete_cmd_prefix": "del ",
     "library": "var_list.py",
     "varRefreshCmd": "print(var_dic_list())"
    },
    "r": {
     "delete_cmd_postfix": ") ",
     "delete_cmd_prefix": "rm(",
     "library": "var_list.r",
     "varRefreshCmd": "cat(var_dic_list()) "
    }
   },
   "types_to_exclude": [
    "module",
    "function",
    "builtin_function_or_method",
    "instance",
    "_Feature"
   ],
   "window_display": false
  }
 },
 "nbformat": 4,
 "nbformat_minor": 2
}
