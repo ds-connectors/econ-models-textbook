{
 "cells": [
  {
   "cell_type": "markdown",
   "metadata": {
    "tags": [
     "ignore"
    ]
   },
   "source": [
    "<table style=\"width: 100%;\">\n",
    "    <tr style=\"background-color: transparent;\"><td>\n",
    "        <img src=\"https://d8a-88.github.io/econ-fa19/assets/images/blue_text.png\" width=\"250px\" style=\"margin-left: 0;\" />\n",
    "    </td><td>\n",
    "        <p style=\"text-align: right; font-size: 12pt;\"><strong>Economic Models</strong>, Fall 2019<br>\n",
    "            Dr. Eric Van Dusen</p></td></tr>\n",
    "</table>"
   ]
  },
  {
   "cell_type": "markdown",
   "metadata": {},
   "source": [
    "# Data 88 - Project 2: Mariel Boatlift"
   ]
  },
  {
   "cell_type": "markdown",
   "metadata": {
    "tags": [
     "ignore"
    ]
   },
   "source": [
    "For this projection, we will be looking at replicating an analysis done by Prof. David Card on the effects of the Mariel Boatlift on the Miami labor market. Because immigrants choose their destinations (and logically choose places with strong labor markets), it is not enough to look at whether places with more immigrants have different rates of unemployment or wages to determine the causal effect of adding immigrants to a labor market. However, Card determined that there are some circumstances under which immigrants will arrive which have very little to do with the labor market of that place; the Mariel Boatlift is one such event. Here is Card's description:\n",
    "\n",
    "> The experiences of the Miami labor market in the aftermath of the Mariel Boatlift form one such \\[\"natural\"\\] experiment. From May to September 1980, some 125,000 Cuban immigrants arrived in Miami on a flotilla of privately chartered boats. Their arrival was the consequence of an unlikely sequence of events culminating in Castro's declaration on April 20, 1980, that Cubans wishing to emigrate to the United States were free to leave from the port of Mariel. Fifty percent of the Mariel immigrants settled permanently in Miami. The result was a 7% increase in the labor force of Miami and a 20% increase in the number of Cuban workers in Miami. (Card, 1990:245-6)\n",
    "\n",
    "**Reading:** You should download a copy of the original paper and read at least pages 245-251 and pages 255-257. It is available [here](http://davidcard.berkeley.edu/papers/mariel-impact.pdf)."
   ]
  },
  {
   "cell_type": "code",
   "execution_count": null,
   "metadata": {},
   "outputs": [],
   "source": [
    "from datascience import *\n",
    "import numpy as np\n",
    "from utils import *\n",
    "import matplotlib.pyplot as plt\n",
    "%matplotlib inline\n",
    "plt.style.use(\"seaborn-muted\")\n",
    "import otter\n",
    "grader = otter.Notebook()"
   ]
  },
  {
   "cell_type": "markdown",
   "metadata": {},
   "source": [
    "**A note on autograding:** This notebook uses an autograder to verify the correctness of your inputs. _However_, some of the tests are only \"sanity checks\" which ensure that your answer is in the correct format, rather than that you have the correct answer. The checks in Part 1 and Question 2.1 check that you have the _correct_ answer, and the other tests only check that your answer is _in the correct format._ Think deeply about your answers, and take care to note that passing autograder tests does not necessarily guarantee that you are correct."
   ]
  },
  {
   "cell_type": "markdown",
   "metadata": {
    "tags": [
     "ignore"
    ]
   },
   "source": [
    "## Part 1: CPS Data\n",
    "\n",
    "In the cell below, we loading the data from the Current Population Survey (CPS). The CPS \"outgoing rotation groups\" that we are using for the analysis is the largest sample available for this time period. Still, once we limit ourselves to Miami and the comparison cities, the sample sizes are still small."
   ]
  },
  {
   "cell_type": "code",
   "execution_count": null,
   "metadata": {
    "scrolled": true
   },
   "outputs": [],
   "source": [
    "mariel_raw = Table.read_table(\"mariel-boatlift.csv\")\n",
    "mariel_raw.show(5)"
   ]
  },
  {
   "cell_type": "markdown",
   "metadata": {
    "tags": [
     "ignore"
    ]
   },
   "source": [
    "The columns of our table have some odd names. We provide descriptions of the variables of interest below."
   ]
  },
  {
   "cell_type": "markdown",
   "metadata": {
    "tags": [
     "ignore"
    ]
   },
   "source": [
    "| Column Name | Description |\n",
    "|-----|-----|\n",
    "| `age` | Age of individual |\n",
    "| `smsarank` | City |\n",
    "| `esr` | Employment status |\n",
    "| `ftpt79` | Full-time or part-time |\n",
    "| `earnhre` | Nominal hourly pay in cents |\n",
    "| `educ` | Level of education (BA, HS diploma, or < HS) |\n",
    "| `ethrace` | Race & ethnicity |"
   ]
  },
  {
   "cell_type": "markdown",
   "metadata": {
    "tags": [
     "ignore"
    ]
   },
   "source": [
    "Before moving onto the analysis of the data, there is a tiny bit of data cleaning that needs to be done. The data currently have a `.id` column, which encodes the year. However, these values range from 1 to 7, so to get the actual years, we need to at 1978 to each.\n",
    "\n",
    "**Question 1.1:** Add 1978 to each value in the `.id` column of `mariel_raw`. Create a new table `mariel` with the same columns as `mariel_raw` but with a `year` column and no `.id` column."
   ]
  },
  {
   "cell_type": "code",
   "execution_count": null,
   "metadata": {},
   "outputs": [],
   "source": [
    "year = ...\n",
    "mariel = mariel_raw.with_column(..., ...).drop(...)\n",
    "mariel.show(5)"
   ]
  },
  {
   "cell_type": "code",
   "execution_count": null,
   "metadata": {},
   "outputs": [],
   "source": [
    "grader.check(\"q1_1\")"
   ]
  },
  {
   "cell_type": "markdown",
   "metadata": {
    "tags": [
     "ignore"
    ]
   },
   "source": [
    "Because we are focusing on certain racial groups in this lab, we want to remove the rows of `mariel` that are not in the set of ethnicities that we are concerned with.\n",
    "\n",
    "**Question 1.2:** Remove the rows of `mariel` where the `ethrace` variable is `\"others\"`."
   ]
  },
  {
   "cell_type": "code",
   "execution_count": null,
   "metadata": {},
   "outputs": [],
   "source": [
    "mariel = ...\n",
    "mariel.show(5)"
   ]
  },
  {
   "cell_type": "code",
   "execution_count": null,
   "metadata": {},
   "outputs": [],
   "source": [
    "grader.check(\"q1_2\")"
   ]
  },
  {
   "cell_type": "markdown",
   "metadata": {
    "tags": [
     "ignore"
    ]
   },
   "source": [
    "**Question 1.3:** What categories are there in the `ethrace` variable (now)?\n",
    "\n",
    "1. White and Black\n",
    "2. White and Black and Cuban\n",
    "3. White, Black, Cuban, and Hispanic\n",
    "4. Cuban, Hispanic, non-Hispanic\n",
    "\n",
    "Assign the number corresponding to your answer to `q1_3` below."
   ]
  },
  {
   "cell_type": "code",
   "execution_count": null,
   "metadata": {},
   "outputs": [],
   "source": [
    "q1_3 = ..."
   ]
  },
  {
   "cell_type": "code",
   "execution_count": null,
   "metadata": {},
   "outputs": [],
   "source": [
    "grader.check(\"q1_3\")"
   ]
  },
  {
   "cell_type": "markdown",
   "metadata": {
    "tags": [
     "ignore"
    ]
   },
   "source": [
    "**Question 1.4:** What are the units of the `earnhre` variable?\n",
    "\n",
    "1. 1980 dollars per hour\n",
    "2. 1980 cents per hour\n",
    "3. Nominal cents per hour (not adjusting for inflation)\n",
    "4. Nominal dollars per hour (not adjusting for inflation)\n",
    "\n",
    "Assign the number corresponding to your answer to `q1_4` below."
   ]
  },
  {
   "cell_type": "code",
   "execution_count": null,
   "metadata": {},
   "outputs": [],
   "source": [
    "q1_4 = ..."
   ]
  },
  {
   "cell_type": "code",
   "execution_count": null,
   "metadata": {},
   "outputs": [],
   "source": [
    "grader.check(\"q1_4\")"
   ]
  },
  {
   "cell_type": "markdown",
   "metadata": {
    "tags": [
     "ignore"
    ]
   },
   "source": [
    "**Question 1.5:** What cities make up the comparison group?\n",
    "\n",
    "1. All U.S. cities except Miami\n",
    "2. All Florida cities except Miami\n",
    "3. Cities around the country that Card thought would be subject to the same macro-economic influences as Miami but that didn't receive many Cuban immigrants.\n",
    "4. Cities that also received a lot of Cuban immigrants.\n",
    "\n",
    "Assign the number corresponding to your answer to `q1_5` below."
   ]
  },
  {
   "cell_type": "code",
   "execution_count": null,
   "metadata": {},
   "outputs": [],
   "source": [
    "q1_5 = ..."
   ]
  },
  {
   "cell_type": "code",
   "execution_count": null,
   "metadata": {},
   "outputs": [],
   "source": [
    "grader.check(\"q1_5\")"
   ]
  },
  {
   "cell_type": "markdown",
   "metadata": {
    "tags": [
     "ignore"
    ]
   },
   "source": [
    "## Part 2: Attempt to replicate results for unemployment \n",
    "\n",
    "We're going to begin by trying to replicate Card's results for unemployment in his Table 4. (We'll do wages in Table 3 later)."
   ]
  },
  {
   "cell_type": "markdown",
   "metadata": {
    "tags": [
     "ignore"
    ]
   },
   "source": [
    "In the cell below, we define a function `get_ue` that takes an array of values from the `esr` column and returns the proportion of people who are unemployed (the unemployment rate)."
   ]
  },
  {
   "cell_type": "code",
   "execution_count": null,
   "metadata": {
    "tags": [
     "ignore"
    ]
   },
   "outputs": [],
   "source": [
    "def get_ue(esr):\n",
    "    assert type(esr) == np.ndarray, \"esr must be an array\"\n",
    "    unemployed_looking = sum(esr == \"Unemployed-Looking\")\n",
    "    others = sum(np.isin(esr, make_array(\"Unemployed-Looking\",  \"Employed-At Work\", \"Employed-Absent\")))\n",
    "    return unemployed_looking / others"
   ]
  },
  {
   "cell_type": "markdown",
   "metadata": {
    "tags": [
     "ignore"
    ]
   },
   "source": [
    "When considering the effect on the unemployment rate of the boatlift, we want to first separate Miami from the comparison cities and select for the desired age group (16 to 61). After we have the desired rows, we want to create a table where the rows represent a year in the data, the columns represent the unique values of the `ethrace` variable, and the cells contain the unemployment rate.\n",
    "\n",
    "This is accomplished by creating a pivot table (using `Table.pivot()`). The `.pivot()` method can also take as an argument an aggregator function, to which it will pass an array of values that corresponding to each row-column pair. In this case, it will pass the array of `esr` values that correspond to each `year`-`ethrace` pair to the function we pass, which will be the `get_ue` function define above.\n",
    "\n",
    "The end result is that we will have a table where each column is an `ethrace` value, each row is a year, and the values are the unemployment rate for that `ethrace` value. All of this is done for you in the cell below, and the results are stored as `miami_ue`."
   ]
  },
  {
   "cell_type": "code",
   "execution_count": null,
   "metadata": {},
   "outputs": [],
   "source": [
    "miami_ue = (mariel\n",
    "            .where(\"smsarank\", are.equal_to(\"Miami\"))\n",
    "            .where(\"age\", are.between_or_equal_to(16, 61)))\n",
    "\n",
    "miami_ue = miami_ue.pivot(\"ethrace\", \"year\", \"esr\", get_ue)\n",
    "miami_ue"
   ]
  },
  {
   "cell_type": "markdown",
   "metadata": {
    "tags": [
     "ignore"
    ]
   },
   "source": [
    "**Question 2.1:** Create the same pivot table below (include the same age restriction), but for the comparison cities (that is, all cities _except for Miami_). **Because we are looking at the comparison cities, we must exclude Cubans using a filter on the `ehtrace` columns.** Store the pivot table as `not_miami_ue`."
   ]
  },
  {
   "cell_type": "code",
   "execution_count": null,
   "metadata": {
    "tags": [
     "gradable"
    ]
   },
   "outputs": [],
   "source": [
    "not_miami_ue = ...\n",
    "\n",
    "not_miami_ue = not_miami_ue....\n",
    "not_miami_ue"
   ]
  },
  {
   "cell_type": "code",
   "execution_count": null,
   "metadata": {},
   "outputs": [],
   "source": [
    "grader.check(\"q2_1\")"
   ]
  },
  {
   "cell_type": "markdown",
   "metadata": {
    "tags": [
     "ignore"
    ]
   },
   "source": [
    "In the cell below, we plot the unemployment rates for Miami and the comparison cities for each `ethrace` value. The dashed vertical line in 1980 indicates the Mariel boatlift's occurance. (The function `plot_ue_by_ethrace`, along with the other plotting functions in this notebook, are defined in the `utils.py` file if you want to look at them. They're hidden because the code is very verbose.)"
   ]
  },
  {
   "cell_type": "code",
   "execution_count": null,
   "metadata": {
    "scrolled": false,
    "tags": [
     "ignore"
    ]
   },
   "outputs": [],
   "source": [
    "plot_ue_by_ethrace(miami_ue, not_miami_ue)"
   ]
  },
  {
   "cell_type": "markdown",
   "metadata": {
    "tags": [
     "ignore"
    ]
   },
   "source": [
    "**Question 2.2:** Why do the \"Cubans\" have no comparison group?\n",
    "\n",
    "1. Because there's a mistake in the code\n",
    "2. Because there are not many Cubans in the comparison cities \n",
    "3. Because there are many Cubans in the comparison cities and it would be confusing to include them.\n",
    "\n",
    "Assign the number corresponding to your answer to `q2_2` below."
   ]
  },
  {
   "cell_type": "code",
   "execution_count": null,
   "metadata": {},
   "outputs": [],
   "source": [
    "q2_2 = ..."
   ]
  },
  {
   "cell_type": "code",
   "execution_count": null,
   "metadata": {},
   "outputs": [],
   "source": [
    "grader.check(\"q2_2\")"
   ]
  },
  {
   "cell_type": "markdown",
   "metadata": {
    "tags": [
     "ignore"
    ]
   },
   "source": [
    "**Question 2.3:** Unemployment after the Mariel boatlift goes up for all groups. Why does Card argue that there is \"There is no evidence that the Mariel influx adversely affected the unemployment rate of either whites or blacks.\" (p. 250)\n",
    "\n",
    "1. Because our replication gives different numbers that Card's original analysis\n",
    "2. Because the increases in unemployment were also seen in cities that didn't have the the sudden Cuban migration.\n",
    "3. Because Cubans experienced the same effects in Miami as whites and blacks there\n",
    "\n",
    "Assign the number corresponding to your answer to `q2_3` below."
   ]
  },
  {
   "cell_type": "code",
   "execution_count": null,
   "metadata": {},
   "outputs": [],
   "source": [
    "q2_3 = ..."
   ]
  },
  {
   "cell_type": "code",
   "execution_count": null,
   "metadata": {},
   "outputs": [],
   "source": [
    "grader.check(\"q2_3\")"
   ]
  },
  {
   "cell_type": "markdown",
   "metadata": {
    "tags": [
     "ignore"
    ]
   },
   "source": [
    "**Question 2.4:** How much attention should we pay to the ups and downs in these graphs? Are these chance fluctuations from the sample survey (\"noise\"), or are they important information that we should pay attention to (\"signal\")?\n",
    "\n",
    "1. They are signal\n",
    "2. They are noise\n",
    "3. We can’t tell just by looking, but one could in theory (and with the help of a statistics course) quantify the magnitude of fluctuations that we would expect from random sampling.\n",
    "\n",
    "Assign the number corresponding to your answer to `q2_4` below."
   ]
  },
  {
   "cell_type": "code",
   "execution_count": null,
   "metadata": {},
   "outputs": [],
   "source": [
    "q2_4 = ..."
   ]
  },
  {
   "cell_type": "code",
   "execution_count": null,
   "metadata": {},
   "outputs": [],
   "source": [
    "grader.check(\"q2_4\")"
   ]
  },
  {
   "cell_type": "markdown",
   "metadata": {
    "tags": [
     "ignore"
    ]
   },
   "source": [
    "## Part 3: Wages\n",
    "\n",
    "Now we will try to replicate Card's findings that the Mariel boatlift also had little or no effect on wages of natives. For simplicity we will not deflate the wages but instead consider the nominal wages."
   ]
  },
  {
   "cell_type": "markdown",
   "metadata": {
    "tags": [
     "ignore"
    ]
   },
   "source": [
    "Because some of the values in the `earnhre` column are missing (`nan`), we remove the rows where this is the case in the cell below. **Throughout this part, make sure you use `mariel_ehre` instead of `mariel`, or else your calculations may error.**"
   ]
  },
  {
   "cell_type": "code",
   "execution_count": null,
   "metadata": {},
   "outputs": [],
   "source": [
    "mariel_ehre = mariel.where(\"earnhre\", lambda x: not np.isnan(x))"
   ]
  },
  {
   "cell_type": "markdown",
   "metadata": {
    "tags": [
     "ignore"
    ]
   },
   "source": [
    "In order to make the wages more linear and to put them on an easier-to-understand scale, we take the natural log of each value in the `earnhre` column and store this as `log_w`."
   ]
  },
  {
   "cell_type": "code",
   "execution_count": null,
   "metadata": {},
   "outputs": [],
   "source": [
    "log_w = np.log(mariel_ehre.column(\"earnhre\")/100)\n",
    "mariel_ehre = mariel_ehre.with_column(\"log_w\", log_w)\n",
    "mariel_ehre.show(5)"
   ]
  },
  {
   "cell_type": "markdown",
   "metadata": {
    "tags": [
     "ignore"
    ]
   },
   "source": [
    "We want to create a similar pivot table as in part 2, except we want the values in this table to be the mean of the log of wages. We create this table for Miami below, making sure to also filter `merial_ehre` for rows where the individual is employed full-time."
   ]
  },
  {
   "cell_type": "code",
   "execution_count": null,
   "metadata": {},
   "outputs": [],
   "source": [
    "miami_wages = (mariel_ehre.where(\"age\", are.between_or_equal_to(16, 61))\n",
    "               .where(\"smsarank\", are.equal_to(\"Miami\"))\n",
    "               .where(\"ftpt79\", are.equal_to(\"Employed full-time\")))\n",
    "\n",
    "miami_wages = miami_wages.pivot(\"ethrace\", \"year\", \"log_w\", np.mean)\n",
    "miami_wages"
   ]
  },
  {
   "cell_type": "markdown",
   "metadata": {
    "tags": [
     "gradable",
     "ignore"
    ]
   },
   "source": [
    "**Question 3.1:** Create the same pivot table below, except for the comparison cities (that is, all cities _except for Miami_). Store the pivot table as `not_miami_wages`."
   ]
  },
  {
   "cell_type": "code",
   "execution_count": null,
   "metadata": {
    "tags": [
     "gradable"
    ]
   },
   "outputs": [],
   "source": [
    "not_miami_wages = ...\n",
    "\n",
    "not_miami_wages = not_miami_wages....\n",
    "not_miami_wages"
   ]
  },
  {
   "cell_type": "code",
   "execution_count": null,
   "metadata": {
    "scrolled": true
   },
   "outputs": [],
   "source": [
    "grader.check(\"q3_1\")"
   ]
  },
  {
   "cell_type": "markdown",
   "metadata": {
    "tags": [
     "ignore"
    ]
   },
   "source": [
    "In the cell below, we plot the wages for Miami and the comparison cities for each `ethrace` value."
   ]
  },
  {
   "cell_type": "code",
   "execution_count": null,
   "metadata": {
    "tags": [
     "ignore"
    ]
   },
   "outputs": [],
   "source": [
    "plot_wages_by_ethrace(miami_wages, not_miami_wages)"
   ]
  },
  {
   "cell_type": "markdown",
   "metadata": {
    "tags": [
     "ignore"
    ]
   },
   "source": [
    "Our numbers differ from Card's Table 4 because we are not accounting for inflation. In order to make inferences about the effect of the boatlift on wages easier, let's plot the differences between Miami and the Comparison Cities. **If there was an effect on wages in Miami, these plots fall as wages in Miami go down relative to the comparison cities.**"
   ]
  },
  {
   "cell_type": "code",
   "execution_count": null,
   "metadata": {
    "tags": [
     "ignore"
    ]
   },
   "outputs": [],
   "source": [
    "plot_wage_diffs_by_ethrace(miami_wages, not_miami_wages)"
   ]
  },
  {
   "cell_type": "markdown",
   "metadata": {
    "tags": [
     "ignore"
    ]
   },
   "source": [
    "**Question 3.2:** If wages were hurt by the influx of migrants, we would expect this graph to show\n",
    "\n",
    "1. A decrease after 1980, as Miami wages went down relative to other cities\n",
    "2. Values below 0 for all periods, because Miami would always have lower wages\n",
    "3. An uptick after 1980 because we are working with logarithms.\n",
    "\n",
    "Assign the number corresponding to your answer to `q3_2` below.\n",
    "\n",
    "_Hint:_ $\\log A  - \\log B = \\log \\frac{A}{B}$"
   ]
  },
  {
   "cell_type": "code",
   "execution_count": null,
   "metadata": {},
   "outputs": [],
   "source": [
    "q3_2 = ..."
   ]
  },
  {
   "cell_type": "code",
   "execution_count": null,
   "metadata": {},
   "outputs": [],
   "source": [
    "grader.check(\"q3_2\")"
   ]
  },
  {
   "cell_type": "markdown",
   "metadata": {
    "tags": [
     "ignore"
    ]
   },
   "source": [
    "So it seems that indeed our analysis is consistent with Card's conclusion that \"the Mariel immigration had virtually no effect on wages or unemployment outcomes of non-Cuban workers in the Miami labor market\" (p. 255)."
   ]
  },
  {
   "cell_type": "markdown",
   "metadata": {
    "tags": [
     "ignore"
    ]
   },
   "source": [
    "## Part 4: Education\n",
    "\n",
    "We would expect any negative effect of the influx of immigrants to be strongest on the group that they most resemble. Because most of the Cuban immigrants in the boatlift were unskilled, we would expect the strongest effect on natives with the least education, with perhaps the clearest comparison group being Hispanics with the least education.\n",
    "\n",
    "Card used a different approach, looking at the effects for low-skilled workers by predicting wages based on education and years of experience. Here we do something a bit simpler, using education only."
   ]
  },
  {
   "cell_type": "markdown",
   "metadata": {},
   "source": [
    "**Question 4.1:** If the boatlift had a negative effect on the employment of unskilled workers, what would we expect to see in the unemployment for each of categories of education in both Miami and the comparison cities? \n",
    "\n",
    "_Note:_ The possible values of `educ` are `BA`, `HS`, or `lessHS`."
   ]
  },
  {
   "cell_type": "markdown",
   "metadata": {},
   "source": [
    "_Type your answer here, replacing this text._"
   ]
  },
  {
   "cell_type": "markdown",
   "metadata": {
    "tags": [
     "ignore"
    ]
   },
   "source": [
    "We want to create a similar pivot table as in parts 2 and 3, except we want the values in this table to be the mean of the unemployment rate partitioned by _education_, not `ethrace`. We create this table for Miami below."
   ]
  },
  {
   "cell_type": "code",
   "execution_count": null,
   "metadata": {},
   "outputs": [],
   "source": [
    "miami_educ_ue = (mariel\n",
    "                 .where(\"age\", are.between_or_equal_to(16, 61))\n",
    "                 .where(\"smsarank\", are.equal_to(\"Miami\")))\n",
    "\n",
    "miami_educ_ue = miami_educ_ue.pivot(\"educ\", \"year\", \"esr\", get_ue)\n",
    "miami_educ_ue"
   ]
  },
  {
   "cell_type": "markdown",
   "metadata": {
    "tags": [
     "gradable"
    ]
   },
   "source": [
    "**Question 4.2:** What happens to the unemployment rates of those with a college education (BA) between 1980 and 1982, when the effects of the Mariel boatlift should have been felt? What happens to those with the least education? (\"lessHS\"). Is this consistent with a large effect of immigration on the least educated?"
   ]
  },
  {
   "cell_type": "markdown",
   "metadata": {
    "tags": [
     "gradable"
    ]
   },
   "source": [
    "_Type your answer here, replacing this text._"
   ]
  },
  {
   "cell_type": "markdown",
   "metadata": {
    "tags": [
     "gradable",
     "ignore"
    ]
   },
   "source": [
    "**Question 4.3:** Create the same pivot table below, except for the comparison cities (that is, all cities _except for Miami_). Store the pivot table as `not_miami_educ_ue`."
   ]
  },
  {
   "cell_type": "code",
   "execution_count": null,
   "metadata": {
    "tags": [
     "gradable"
    ]
   },
   "outputs": [],
   "source": [
    "not_miami_educ_ue = ...\n",
    "\n",
    "not_miami_educ_ue = not_miami_educ_ue....\n",
    "not_miami_educ_ue"
   ]
  },
  {
   "cell_type": "code",
   "execution_count": null,
   "metadata": {},
   "outputs": [],
   "source": [
    "grader.check(\"q4_3\")"
   ]
  },
  {
   "cell_type": "markdown",
   "metadata": {
    "tags": [
     "ignore"
    ]
   },
   "source": [
    "In the cell below, we plot the unemployment rates for Miami and the comparison cities for each `educ` value."
   ]
  },
  {
   "cell_type": "code",
   "execution_count": null,
   "metadata": {
    "tags": [
     "ignore"
    ]
   },
   "outputs": [],
   "source": [
    "plot_ue_by_educ(miami_educ_ue, not_miami_educ_ue)"
   ]
  },
  {
   "cell_type": "markdown",
   "metadata": {
    "tags": [
     "gradable"
    ]
   },
   "source": [
    "**Question 4.4:** Like Card's study, many empirical works find very small or no impact of immigration on local workers' wages and employment. Several studies even found positive impact of skilled immigration on wages and employment. What are 2 possible reasons that having immigrants would benefit the native-born workers?"
   ]
  },
  {
   "cell_type": "markdown",
   "metadata": {
    "tags": [
     "gradable"
    ]
   },
   "source": [
    "_Type your answer here, replacing this text._"
   ]
  },
  {
   "cell_type": "markdown",
   "metadata": {
    "tags": [
     "ignore"
    ]
   },
   "source": [
    "## Conclusions\n",
    "\n",
    "In this lab, we saw that the Mariel boatlift had little effect on unemployment among ethnic groups in Miami, as the cities that were not receiving \\(many\\) immigrants were afflicted by the same trends in unemployment. We also saw that the same is true of education-level groups. In fact, many studies find that influxes of immigrants benefit the native-born workers in a region; that they act as complements rather than supplements to the native workforce."
   ]
  },
  {
   "cell_type": "markdown",
   "metadata": {
    "tags": [
     "ignore"
    ]
   },
   "source": [
    "---\n",
    "\n",
    "### References\n",
    "\n",
    "This notebook is based on another assignment by [Prof. Josh Goldstein](https://courses.demog.berkeley.edu/goldstein175).\n",
    "\n",
    "## Submission\n",
    "\n",
    "Congrats on finishing another homework notebook! To turn in this homework assignment, **save this file** by going to File > Download As and select **Notebook**; then, run the cell below to generate a PDF of this assignment and download it. Submit this assignment by uploading **BOTH the .ipynb and .pdf files** to Gradescope."
   ]
  },
  {
   "cell_type": "code",
   "execution_count": null,
   "metadata": {
    "scrolled": true
   },
   "outputs": [],
   "source": [
    "grader.export(\"proj02.ipynb\")"
   ]
  },
  {
   "cell_type": "markdown",
   "metadata": {
    "tags": [
     "ignore"
    ]
   },
   "source": [
    " "
   ]
  }
 ],
 "metadata": {
  "@webio": {
   "lastCommId": null,
   "lastKernelId": null
  },
  "kernelspec": {
   "display_name": "Python 3",
   "language": "python",
   "name": "python3"
  },
  "language_info": {
   "codemirror_mode": {
    "name": "ipython",
    "version": 3
   },
   "file_extension": ".py",
   "mimetype": "text/x-python",
   "name": "python",
   "nbconvert_exporter": "python",
   "pygments_lexer": "ipython3",
   "version": "3.6.8"
  },
  "varInspector": {
   "cols": {
    "lenName": 16,
    "lenType": 16,
    "lenVar": 40
   },
   "kernels_config": {
    "python": {
     "delete_cmd_postfix": "",
     "delete_cmd_prefix": "del ",
     "library": "var_list.py",
     "varRefreshCmd": "print(var_dic_list())"
    },
    "r": {
     "delete_cmd_postfix": ") ",
     "delete_cmd_prefix": "rm(",
     "library": "var_list.r",
     "varRefreshCmd": "cat(var_dic_list()) "
    }
   },
   "types_to_exclude": [
    "module",
    "function",
    "builtin_function_or_method",
    "instance",
    "_Feature"
   ],
   "window_display": false
  }
 },
 "nbformat": 4,
 "nbformat_minor": 2
}
