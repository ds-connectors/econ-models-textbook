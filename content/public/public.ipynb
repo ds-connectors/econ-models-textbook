{
 "cells": [
  {
   "cell_type": "markdown",
   "metadata": {},
   "source": [
    "# Taxes and Government Intervention"
   ]
  },
  {
   "cell_type": "code",
   "execution_count": 3,
   "metadata": {
    "scrolled": true,
    "tags": [
     "remove_cell"
    ]
   },
   "outputs": [],
   "source": [
    "from datascience import *\n",
    "import sympy\n",
    "solve = lambda x,y: sympy.solve(x-y)[0] if len(sympy.solve(x-y))==1 else \"Not Single Solution\"\n",
    "import matplotlib.pyplot as plt\n",
    "%matplotlib inline\n",
    "import ipywidgets as widgets\n",
    "from utils import *\n",
    "# import nbforms\n",
    "# feedback = nbforms.Form(\"feedback_form_config.json\")\n",
    "# feedback.take_attendance()"
   ]
  },
  {
   "cell_type": "markdown",
   "metadata": {},
   "source": [
    "## Finding the Market Equilibrium with SymPy"
   ]
  },
  {
   "cell_type": "markdown",
   "metadata": {},
   "source": [
    "To motivate this example we are going to follow along an example from the textbook Principles of Microeconomics by Dr. Emma Hutchinson, University of Victoria.  Specifically an example about [US Lumber tariffs](https://pressbooks.bccampus.ca/uvicecon103/chapter/4-7-tariffs/), where we will work to recreate the following graph:"
   ]
  },
  {
   "cell_type": "markdown",
   "metadata": {},
   "source": [
    "<div style=\"width:image width px; font-size:80%; text-align:center;\"><img src=\"https://pressbooks.bccampus.ca/uvicecon103/wp-content/uploads/sites/58/2016/11/Screen-Shot-2016-12-27-at-9.39.10-AM.png\" alt=\"alternate text\" width=\"500\" height=\"height\" style=\"padding-bottom:0.5em;\" /> </div>"
   ]
  },
  {
   "cell_type": "markdown",
   "metadata": {},
   "source": [
    "### A Simple Domestic Model\n",
    "\n",
    "We begin by assuming that there are no imports or exports within a domestic economy (a.k.a an *autarky*). We will begin in `sympy` by declaring some variables and equations."
   ]
  },
  {
   "cell_type": "code",
   "execution_count": 15,
   "metadata": {
    "scrolled": true
   },
   "outputs": [],
   "source": [
    "Q = sympy.Symbol(\"Q\")"
   ]
  },
  {
   "cell_type": "code",
   "execution_count": 5,
   "metadata": {
    "scrolled": true
   },
   "outputs": [
    {
     "data": {
      "text/plain": [
       "Ellipsis"
      ]
     },
     "execution_count": 5,
     "metadata": {},
     "output_type": "execute_result"
    }
   ],
   "source": [
    "supply = ...\n",
    "supply"
   ]
  },
  {
   "cell_type": "code",
   "execution_count": 6,
   "metadata": {
    "scrolled": true
   },
   "outputs": [
    {
     "data": {
      "text/plain": [
       "Ellipsis"
      ]
     },
     "execution_count": 6,
     "metadata": {},
     "output_type": "execute_result"
    }
   ],
   "source": [
    "demand = ...\n",
    "demand"
   ]
  },
  {
   "cell_type": "markdown",
   "metadata": {},
   "source": [
    "Solving for the domestic equilibrium quantity $Q_d=Q_s$:"
   ]
  },
  {
   "cell_type": "code",
   "execution_count": 7,
   "metadata": {
    "scrolled": true
   },
   "outputs": [
    {
     "name": "stdout",
     "output_type": "stream",
     "text": [
      "The domestic equilibrium quantity of lumber sold is Ellipsis million board feet\n"
     ]
    }
   ],
   "source": [
    "Q_star = ...\n",
    "print(\"The domestic equilibrium quantity of lumber sold is\", Q_star, \"million board feet\")"
   ]
  },
  {
   "cell_type": "markdown",
   "metadata": {},
   "source": [
    "Now that we know quantity, we can plug this in to solve for the equilibrium price $P_d=P_s$:"
   ]
  },
  {
   "cell_type": "code",
   "execution_count": 8,
   "metadata": {
    "scrolled": true
   },
   "outputs": [
    {
     "name": "stdout",
     "output_type": "stream",
     "text": [
      "The domestic equilibrium price of lumber is Ellipsis dollars per thousand board feet\n"
     ]
    }
   ],
   "source": [
    "P_star_d = ...\n",
    "print(\"The domestic equilibrium price of lumber is\", P_star_d, \"dollars per thousand board feet\")"
   ]
  },
  {
   "cell_type": "markdown",
   "metadata": {},
   "source": [
    "### 1.2 World Price for Lumber\n",
    "\n",
    "Suppose a friendly neighboring country had lots of forests and lumber to sell at $400  per thousand board feet."
   ]
  },
  {
   "cell_type": "code",
   "execution_count": 9,
   "metadata": {
    "scrolled": true
   },
   "outputs": [
    {
     "data": {
      "text/plain": [
       "400"
      ]
     },
     "execution_count": 9,
     "metadata": {},
     "output_type": "execute_result"
    }
   ],
   "source": [
    "World_Price = 400\n",
    "World_Price"
   ]
  },
  {
   "cell_type": "markdown",
   "metadata": {},
   "source": [
    "How much would the domestic market demand at this lower World Price?"
   ]
  },
  {
   "cell_type": "code",
   "execution_count": 10,
   "metadata": {
    "scrolled": true
   },
   "outputs": [
    {
     "name": "stdout",
     "output_type": "stream",
     "text": [
      "The quantity of lumber demanded at the World Price is Ellipsis million board feet\n"
     ]
    }
   ],
   "source": [
    "QD_FreeTrade = ...\n",
    "QD_FreeTrade\n",
    "print(\"The quantity of lumber demanded at the World Price is\", QD_FreeTrade, \"million board feet\")"
   ]
  },
  {
   "cell_type": "code",
   "execution_count": 11,
   "metadata": {
    "scrolled": true
   },
   "outputs": [
    {
     "name": "stdout",
     "output_type": "stream",
     "text": [
      "The quantity of lumber sold by domestic producers at the World Price is Ellipsis million board feet\n"
     ]
    }
   ],
   "source": [
    "QS_FreeTrade = ...\n",
    "print(\"The quantity of lumber sold by domestic producers at the World Price is\", QS_FreeTrade, \"million board feet\")"
   ]
  },
  {
   "cell_type": "code",
   "execution_count": 12,
   "metadata": {
    "scrolled": true
   },
   "outputs": [
    {
     "name": "stdout",
     "output_type": "stream",
     "text": [
      "The quantity of lumber imported at the World Price is Ellipsis million board feet\n"
     ]
    }
   ],
   "source": [
    "Imports_FreeTrade = ...\n",
    "print(\"The quantity of lumber imported at the World Price is\", Imports_FreeTrade, \"million board feet\")"
   ]
  },
  {
   "cell_type": "markdown",
   "metadata": {},
   "source": [
    "<div style=\"width:image width px; font-size:80%; text-align:center;\"><img src=\"https://pressbooks.bccampus.ca/uvicecon103/wp-content/uploads/sites/58/2016/11/Screen-Shot-2016-12-27-at-9.39.52-AM.png\" alt=\"alternate text\" width=\"500\" height=\"height\" style=\"padding-bottom:0.5em;\" /></div>"
   ]
  },
  {
   "cell_type": "markdown",
   "metadata": {},
   "source": [
    "### 1.3 Graphing Tariffs"
   ]
  },
  {
   "cell_type": "markdown",
   "metadata": {},
   "source": [
    "Now let's work on graphing this same solution. In the following section we will define functions to solve these equations."
   ]
  },
  {
   "cell_type": "code",
   "execution_count": 13,
   "metadata": {
    "scrolled": true
   },
   "outputs": [],
   "source": [
    "def plot_equation(equation, price_start, price_end, label=None):\n",
    "    plot_prices = [price_start, price_end]\n",
    "    plot_quantities = [equation.subs(list(equation.free_symbols)[0], c) for c in plot_prices]\n",
    "    plt.plot(plot_prices, plot_quantities, label=label)\n",
    "    \n",
    "def plot_intercept(eq1, eq2):\n",
    "    ex = sympy.solve(eq1-eq2)[0]\n",
    "    why = eq1.subs(list(eq1.free_symbols)[0], ex)\n",
    "    plt.scatter([ex], [why])\n",
    "    return (ex, why)\n",
    "\n",
    "def plot_intercept_tradeprice (eq, price):\n",
    "    ex = solve(eq, price)\n",
    "    why = price\n",
    "    plt.scatter([ex], [why])\n",
    "    return (ex, why)"
   ]
  },
  {
   "cell_type": "markdown",
   "metadata": {},
   "source": [
    "We'll start with graphing the autarky situation."
   ]
  },
  {
   "cell_type": "code",
   "execution_count": 14,
   "metadata": {
    "scrolled": true
   },
   "outputs": [
    {
     "ename": "AttributeError",
     "evalue": "'ellipsis' object has no attribute 'subs'",
     "output_type": "error",
     "traceback": [
      "\u001b[0;31m---------------------------------------------------------------------------\u001b[0m",
      "\u001b[0;31mAttributeError\u001b[0m                            Traceback (most recent call last)",
      "\u001b[0;32m<ipython-input-14-aca5d459d7d2>\u001b[0m in \u001b[0;36m<module>\u001b[0;34m()\u001b[0m\n\u001b[1;32m      2\u001b[0m \u001b[0;31m# Here are the basic elements of the Graph\u001b[0m\u001b[0;34m\u001b[0m\u001b[0;34m\u001b[0m\u001b[0m\n\u001b[1;32m      3\u001b[0m \u001b[0;31m# Demand Curve\u001b[0m\u001b[0;34m\u001b[0m\u001b[0;34m\u001b[0m\u001b[0m\n\u001b[0;32m----> 4\u001b[0;31m \u001b[0mplot_equation\u001b[0m\u001b[0;34m(\u001b[0m\u001b[0mdemand\u001b[0m\u001b[0;34m,\u001b[0m \u001b[0;36m0\u001b[0m\u001b[0;34m,\u001b[0m \u001b[0;36m100\u001b[0m\u001b[0;34m)\u001b[0m\u001b[0;34m\u001b[0m\u001b[0m\n\u001b[0m\u001b[1;32m      5\u001b[0m \u001b[0;31m# Supply Curve\u001b[0m\u001b[0;34m\u001b[0m\u001b[0;34m\u001b[0m\u001b[0m\n\u001b[1;32m      6\u001b[0m \u001b[0mplot_equation\u001b[0m\u001b[0;34m(\u001b[0m\u001b[0msupply\u001b[0m\u001b[0;34m,\u001b[0m \u001b[0;36m0\u001b[0m\u001b[0;34m,\u001b[0m \u001b[0;36m100\u001b[0m\u001b[0;34m)\u001b[0m\u001b[0;34m\u001b[0m\u001b[0m\n",
      "\u001b[0;32m<ipython-input-13-cf1a80f49007>\u001b[0m in \u001b[0;36mplot_equation\u001b[0;34m(equation, price_start, price_end, label)\u001b[0m\n\u001b[1;32m      1\u001b[0m \u001b[0;32mdef\u001b[0m \u001b[0mplot_equation\u001b[0m\u001b[0;34m(\u001b[0m\u001b[0mequation\u001b[0m\u001b[0;34m,\u001b[0m \u001b[0mprice_start\u001b[0m\u001b[0;34m,\u001b[0m \u001b[0mprice_end\u001b[0m\u001b[0;34m,\u001b[0m \u001b[0mlabel\u001b[0m\u001b[0;34m=\u001b[0m\u001b[0;32mNone\u001b[0m\u001b[0;34m)\u001b[0m\u001b[0;34m:\u001b[0m\u001b[0;34m\u001b[0m\u001b[0m\n\u001b[1;32m      2\u001b[0m     \u001b[0mplot_prices\u001b[0m \u001b[0;34m=\u001b[0m \u001b[0;34m[\u001b[0m\u001b[0mprice_start\u001b[0m\u001b[0;34m,\u001b[0m \u001b[0mprice_end\u001b[0m\u001b[0;34m]\u001b[0m\u001b[0;34m\u001b[0m\u001b[0m\n\u001b[0;32m----> 3\u001b[0;31m     \u001b[0mplot_quantities\u001b[0m \u001b[0;34m=\u001b[0m \u001b[0;34m[\u001b[0m\u001b[0mequation\u001b[0m\u001b[0;34m.\u001b[0m\u001b[0msubs\u001b[0m\u001b[0;34m(\u001b[0m\u001b[0mlist\u001b[0m\u001b[0;34m(\u001b[0m\u001b[0mequation\u001b[0m\u001b[0;34m.\u001b[0m\u001b[0mfree_symbols\u001b[0m\u001b[0;34m)\u001b[0m\u001b[0;34m[\u001b[0m\u001b[0;36m0\u001b[0m\u001b[0;34m]\u001b[0m\u001b[0;34m,\u001b[0m \u001b[0mc\u001b[0m\u001b[0;34m)\u001b[0m \u001b[0;32mfor\u001b[0m \u001b[0mc\u001b[0m \u001b[0;32min\u001b[0m \u001b[0mplot_prices\u001b[0m\u001b[0;34m]\u001b[0m\u001b[0;34m\u001b[0m\u001b[0m\n\u001b[0m\u001b[1;32m      4\u001b[0m     \u001b[0mplt\u001b[0m\u001b[0;34m.\u001b[0m\u001b[0mplot\u001b[0m\u001b[0;34m(\u001b[0m\u001b[0mplot_prices\u001b[0m\u001b[0;34m,\u001b[0m \u001b[0mplot_quantities\u001b[0m\u001b[0;34m,\u001b[0m \u001b[0mlabel\u001b[0m\u001b[0;34m=\u001b[0m\u001b[0mlabel\u001b[0m\u001b[0;34m)\u001b[0m\u001b[0;34m\u001b[0m\u001b[0m\n\u001b[1;32m      5\u001b[0m \u001b[0;34m\u001b[0m\u001b[0m\n",
      "\u001b[0;32m<ipython-input-13-cf1a80f49007>\u001b[0m in \u001b[0;36m<listcomp>\u001b[0;34m(.0)\u001b[0m\n\u001b[1;32m      1\u001b[0m \u001b[0;32mdef\u001b[0m \u001b[0mplot_equation\u001b[0m\u001b[0;34m(\u001b[0m\u001b[0mequation\u001b[0m\u001b[0;34m,\u001b[0m \u001b[0mprice_start\u001b[0m\u001b[0;34m,\u001b[0m \u001b[0mprice_end\u001b[0m\u001b[0;34m,\u001b[0m \u001b[0mlabel\u001b[0m\u001b[0;34m=\u001b[0m\u001b[0;32mNone\u001b[0m\u001b[0;34m)\u001b[0m\u001b[0;34m:\u001b[0m\u001b[0;34m\u001b[0m\u001b[0m\n\u001b[1;32m      2\u001b[0m     \u001b[0mplot_prices\u001b[0m \u001b[0;34m=\u001b[0m \u001b[0;34m[\u001b[0m\u001b[0mprice_start\u001b[0m\u001b[0;34m,\u001b[0m \u001b[0mprice_end\u001b[0m\u001b[0;34m]\u001b[0m\u001b[0;34m\u001b[0m\u001b[0m\n\u001b[0;32m----> 3\u001b[0;31m     \u001b[0mplot_quantities\u001b[0m \u001b[0;34m=\u001b[0m \u001b[0;34m[\u001b[0m\u001b[0mequation\u001b[0m\u001b[0;34m.\u001b[0m\u001b[0msubs\u001b[0m\u001b[0;34m(\u001b[0m\u001b[0mlist\u001b[0m\u001b[0;34m(\u001b[0m\u001b[0mequation\u001b[0m\u001b[0;34m.\u001b[0m\u001b[0mfree_symbols\u001b[0m\u001b[0;34m)\u001b[0m\u001b[0;34m[\u001b[0m\u001b[0;36m0\u001b[0m\u001b[0;34m]\u001b[0m\u001b[0;34m,\u001b[0m \u001b[0mc\u001b[0m\u001b[0;34m)\u001b[0m \u001b[0;32mfor\u001b[0m \u001b[0mc\u001b[0m \u001b[0;32min\u001b[0m \u001b[0mplot_prices\u001b[0m\u001b[0;34m]\u001b[0m\u001b[0;34m\u001b[0m\u001b[0m\n\u001b[0m\u001b[1;32m      4\u001b[0m     \u001b[0mplt\u001b[0m\u001b[0;34m.\u001b[0m\u001b[0mplot\u001b[0m\u001b[0;34m(\u001b[0m\u001b[0mplot_prices\u001b[0m\u001b[0;34m,\u001b[0m \u001b[0mplot_quantities\u001b[0m\u001b[0;34m,\u001b[0m \u001b[0mlabel\u001b[0m\u001b[0;34m=\u001b[0m\u001b[0mlabel\u001b[0m\u001b[0;34m)\u001b[0m\u001b[0;34m\u001b[0m\u001b[0m\n\u001b[1;32m      5\u001b[0m \u001b[0;34m\u001b[0m\u001b[0m\n",
      "\u001b[0;31mAttributeError\u001b[0m: 'ellipsis' object has no attribute 'subs'"
     ]
    }
   ],
   "source": [
    "# Simple Equilibrium Graphed\n",
    "# Here are the basic elements of the Graph\n",
    "# Demand Curve    \n",
    "plot_equation(demand, 0, 100)\n",
    "# Supply Curve\n",
    "plot_equation(supply, 0, 100)\n",
    "# Domestic Equilibrium Point\n",
    "plot_intercept(supply, demand)"
   ]
  },
  {
   "cell_type": "markdown",
   "metadata": {},
   "source": [
    "And with international trade:"
   ]
  },
  {
   "cell_type": "code",
   "execution_count": null,
   "metadata": {
    "scrolled": true
   },
   "outputs": [],
   "source": [
    "# Equilibrium with World Price and Protected Price\n",
    "plot_equation(demand, 0, 100)\n",
    "plot_equation(supply, 0, 100)\n",
    "plt.hlines(World_Price, 0,100)\n",
    "plt.ylim(0,2000)\n",
    "plot_intercept(supply, demand)\n",
    "plot_intercept_tradeprice(supply,World_Price)\n",
    "plot_intercept_tradeprice(demand,World_Price)"
   ]
  },
  {
   "cell_type": "markdown",
   "metadata": {},
   "source": [
    "These graphs in 2.1 don't quite have enough information in them. Let's compare to the textbook table above and add in the information that is missing.\n"
   ]
  },
  {
   "cell_type": "code",
   "execution_count": null,
   "metadata": {
    "scrolled": true
   },
   "outputs": [],
   "source": [
    "# In order to label the axes - lets make it a combination of plots and axes \n",
    "fig, ax = plt.subplots()\n",
    "# Setting Axes at P=0, Q=0\n",
    "ax.axhline(y=0, color='k')\n",
    "ax.axvline(x=0, color='k')\n",
    "\n",
    "# Demand Curve    \n",
    "plot_equation(demand, 0, 90)\n",
    "# Supply Curve\n",
    "plot_equation(supply, 0, 90)\n",
    "# Domestic Equilibrium Point\n",
    "plot_intercept(supply, demand)\n",
    "\n",
    "# Add a title to the Plot\n",
    "plt.title(\"The US Lumber Market\");\n",
    "# Label the axes\n",
    "plt.xlabel('Millions of Board Feet')\n",
    "plt.ylabel('Dollars per thousand board feet')\n",
    "# Legend for the Lines\n",
    "plt.legend([\"Supply\", \"Demand\"], loc=5, framealpha=1)\n",
    "# Dashed Lines at P_star, Q_star\n",
    "plt.hlines(P_star_d, 0,Q_star,linestyle=\"--\")\n",
    "plt.vlines(Q_star, 0,P_star_d,linestyle=\"--\");"
   ]
  },
  {
   "cell_type": "markdown",
   "metadata": {},
   "source": [
    "## 2. Conceptual Tariffs"
   ]
  },
  {
   "cell_type": "markdown",
   "metadata": {},
   "source": [
    "Let's play around with this interactive widget to better understand tariffs."
   ]
  },
  {
   "cell_type": "code",
   "execution_count": null,
   "metadata": {
    "scrolled": true
   },
   "outputs": [],
   "source": [
    "four_plot_widget()"
   ]
  },
  {
   "cell_type": "markdown",
   "metadata": {},
   "source": [
    "### Discussion Questions"
   ]
  },
  {
   "cell_type": "markdown",
   "metadata": {},
   "source": [
    "#### Question 1\n",
    "Increase the slope of the supply curve to 50.  What happens to Consumer Surplus, Produce Surplus and Government Revenue?"
   ]
  },
  {
   "cell_type": "markdown",
   "metadata": {},
   "source": [
    "_Write your answer here, replacing this text_"
   ]
  },
  {
   "cell_type": "markdown",
   "metadata": {},
   "source": [
    "#### Question 2\n",
    "What is the tariff that will eliminate imports?  How hard will it be for the government to get this level of tariff right?  What if the government depends on the tariffs for revenue?"
   ]
  },
  {
   "cell_type": "markdown",
   "metadata": {},
   "source": [
    "_Write your answer here, replacing this text_"
   ]
  },
  {
   "cell_type": "markdown",
   "metadata": {},
   "source": [
    "## 3. Tax Equilibria"
   ]
  },
  {
   "cell_type": "markdown",
   "metadata": {},
   "source": [
    "The quantity demanded for pet cows is $D(P) = 2600 − 20P$. Calculate the quantity and price at the equilibrium when:\n",
    "1. Quantity supplied of pet cows is $S(P) = 400$.\n",
    "2. Quantity supplied of pet cows is $S(P) = 12P$."
   ]
  },
  {
   "cell_type": "markdown",
   "metadata": {},
   "source": [
    "_Write your answer here, replacing this text_"
   ]
  },
  {
   "cell_type": "markdown",
   "metadata": {},
   "source": [
    "#### Question 2\n",
    "Assume that owning pet cows is a negative externality (perhaps they produce too much methane) and the government intends to place a per unit tax of $4. Calculate the after-tax price received by sellers and after-tax price paid by buyers in both scenarios."
   ]
  },
  {
   "cell_type": "markdown",
   "metadata": {},
   "source": [
    "_Write your answer here, replacing this text_"
   ]
  },
  {
   "cell_type": "markdown",
   "metadata": {},
   "source": [
    "#### Question 3\n",
    "What is the quantity transacted when there is a per unit tax of $4?"
   ]
  },
  {
   "cell_type": "markdown",
   "metadata": {},
   "source": [
    "_Write your answer here, replacing this text_"
   ]
  },
  {
   "cell_type": "markdown",
   "metadata": {},
   "source": [
    "---\n",
    "\n",
    "### Feedback\n",
    "\n",
    "Please fill out the feedback form below regarding this lecture."
   ]
  },
  {
   "cell_type": "code",
   "execution_count": null,
   "metadata": {
    "scrolled": true
   },
   "outputs": [],
   "source": [
    "feedback.ask()"
   ]
  },
  {
   "cell_type": "markdown",
   "metadata": {},
   "source": [
    " "
   ]
  }
 ],
 "metadata": {
  "kernelspec": {
   "display_name": "Python 3",
   "language": "python",
   "name": "python3"
  },
  "language_info": {
   "codemirror_mode": {
    "name": "ipython",
    "version": 3
   },
   "file_extension": ".py",
   "mimetype": "text/x-python",
   "name": "python",
   "nbconvert_exporter": "python",
   "pygments_lexer": "ipython3",
   "version": "3.6.5"
  },
  "varInspector": {
   "cols": {
    "lenName": 16,
    "lenType": 16,
    "lenVar": 40
   },
   "kernels_config": {
    "python": {
     "delete_cmd_postfix": "",
     "delete_cmd_prefix": "del ",
     "library": "var_list.py",
     "varRefreshCmd": "print(var_dic_list())"
    },
    "r": {
     "delete_cmd_postfix": ") ",
     "delete_cmd_prefix": "rm(",
     "library": "var_list.r",
     "varRefreshCmd": "cat(var_dic_list()) "
    }
   },
   "types_to_exclude": [
    "module",
    "function",
    "builtin_function_or_method",
    "instance",
    "_Feature"
   ],
   "window_display": false
  }
 },
 "nbformat": 4,
 "nbformat_minor": 2
}
