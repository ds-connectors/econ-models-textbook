{
 "cells": [
  {
   "cell_type": "markdown",
   "metadata": {},
   "source": [
    "# Lab 5: Welfare and Elasticities"
   ]
  },
  {
   "cell_type": "code",
   "execution_count": 1,
   "metadata": {
    "scrolled": false,
    "tags": [
     "remove_cell"
    ]
   },
   "outputs": [],
   "source": [
    "import matplotlib.pyplot as plt\n",
    "import matplotlib.patches as patches\n",
    "import sympy\n",
    "#from ipywidgets import interact, interactive, fixed, interact_manual\n",
    "#import ipywidgets as widgets\n",
    "#from IPython.display import display\n",
    "import numpy as np\n",
    "import warnings\n",
    "warnings.filterwarnings('ignore')\n",
    "plt.style.use(\"seaborn-muted\")"
   ]
  },
  {
   "cell_type": "markdown",
   "metadata": {},
   "source": [
    "## Consumer Surplus"
   ]
  },
  {
   "cell_type": "markdown",
   "metadata": {},
   "source": [
    "A competitive market is comprised of producers who make goods and services and the consumers who purchase and use them. Through market forces, these consumers and producers agree on a common price for the good or service in question. We will assume that there is no price discrimination and all consumers face the same price. This is typical but not always the case in the real world. Although all consumers face the same market price, consumers are different in how much they individually value a good. We say that consumers have a maximum price that they are willing to pay for a good, and any price marginally higher than this price will dissuade the consumer from participating in the market. This max WTP (willingness to pay) price varies among entities based on their desire for the good, which in turn can be based on how much of the good they already have.\n",
    "\n",
    "Consider the market for electricity. Among consumers we have entities such as households, commercial buildings, factories, and so on. A factory would likely have a very high WTP for electricity because the opportunity costs for factories to not operate are very high. Capital is expensive, employees still have to be paid, and it is inconvenient to have to stop and start up machinery frequently. Thus, for a factory it is preferable to always have a reliable supply of electricity to continue operations and this need is reflected in the WTP. Contrast this with households, who certainly value having electricity, but should electricity become prohibitively expensive, probably would decide to cut back on usage as the drawbacks of not having electricity aren't as severe compared to the factory above."
   ]
  },
  {
   "cell_type": "markdown",
   "metadata": {},
   "source": [
    "## Producer Surplus"
   ]
  },
  {
   "cell_type": "markdown",
   "metadata": {},
   "source": [
    "Producers experience a similar characteristic. A producer has a minimum price at which it is willing to produce a good based on its costs. Any market price less than this price would dissuade a producer from supplying its good. Again, in the electricity example, we have several power plants that produce electricity, but each inherently does so at different costs. Imagine and contrast the operating costs of a solar farm with a coal plant, or a newer, more efficient natural gas plant versus an older one.\n",
    "\n",
    "Putting all of these concepts together we arrive at the idea of economic welfare. Suppose electricity costs 10 cents per kWh. On the demand side, imagine a factory who's WTP is 30 cents/kWh. This factory enjoys a consumer surplus of 20 cents/kWh, in other words, it's paying 20 cents less per kWh than what it would be willing to pay. A household might have a WTP of 15 cents/kWh. Here the household's surplus is only 5 cents/kWh. We can also imagine a consumer whose WTP is less than the market price and thus doesn't participate in the market. Imagine for some reason that cryptocurrency prices have dropped to the point that they aren't worth the electricity it takes to mine them. In this case, we might have an idle or non-existent crypto-farm (a place with a lot of computing power) due to electricity being too expensive. On the producer side, maybe we have a solar plant which is operating at the market price, but a natural gas plant that is idling because the price of supplying electricity isn't sufficient to make up for operating costs."
   ]
  },
  {
   "cell_type": "markdown",
   "metadata": {},
   "source": [
    "Combining the surpluses of all individual consumers and producers yields the market consumer surplus and producer surplus. As the market price fluctuates, certain comsumers and producers enter and exit the market, and the total surplus varies. Note from the above examples that a consumer is not always an individual, it can be a firm buying from another firm. We now explore further."
   ]
  },
  {
   "cell_type": "markdown",
   "metadata": {},
   "source": [
    "## Example"
   ]
  },
  {
   "cell_type": "markdown",
   "metadata": {},
   "source": [
    "We create a consumer class with a WTP characteristic, and a list of consumers with WTP from 10 to 1. The binary function `demand` indicates whether the consumer participates in the market at a given price or not."
   ]
  },
  {
   "cell_type": "code",
   "execution_count": 2,
   "metadata": {
    "scrolled": false,
    "tags": [
     "q_1_1",
     "auto"
    ]
   },
   "outputs": [
    {
     "name": "stdout",
     "output_type": "stream",
     "text": [
      "[1, 1, 1, 1, 1, 0, 0, 0, 0, 0]\n"
     ]
    }
   ],
   "source": [
    "class Consumer:\n",
    "    def __init__(self, WTP):\n",
    "        self.WTP = WTP\n",
    "    def demand(self, price):\n",
    "        if price <= self.WTP:\n",
    "            return 1\n",
    "        else:\n",
    "            return 0\n",
    "    def surplus(self, price):\n",
    "        if price <= self.WTP:\n",
    "            return self.WTP - price\n",
    "        else:\n",
    "            return 0\n",
    "        \n",
    "consumers = [Consumer(x) for x in range(10,0,-1)]\n",
    "\n",
    "print([x.demand(6) for x in consumers])"
   ]
  },
  {
   "cell_type": "markdown",
   "metadata": {},
   "source": [
    "For a market price of 6, we have 5 consumers who participate and 5 who don't. Now let's make a matrix of the lists of participants for each market price between 1 and 10."
   ]
  },
  {
   "cell_type": "code",
   "execution_count": 3,
   "metadata": {
    "scrolled": false
   },
   "outputs": [
    {
     "name": "stdout",
     "output_type": "stream",
     "text": [
      "[1, 0, 0, 0, 0, 0, 0, 0, 0, 0]\n",
      "[1, 1, 0, 0, 0, 0, 0, 0, 0, 0]\n",
      "[1, 1, 1, 0, 0, 0, 0, 0, 0, 0]\n",
      "[1, 1, 1, 1, 0, 0, 0, 0, 0, 0]\n",
      "[1, 1, 1, 1, 1, 0, 0, 0, 0, 0]\n",
      "[1, 1, 1, 1, 1, 1, 0, 0, 0, 0]\n",
      "[1, 1, 1, 1, 1, 1, 1, 0, 0, 0]\n",
      "[1, 1, 1, 1, 1, 1, 1, 1, 0, 0]\n",
      "[1, 1, 1, 1, 1, 1, 1, 1, 1, 0]\n",
      "[1, 1, 1, 1, 1, 1, 1, 1, 1, 1]\n"
     ]
    }
   ],
   "source": [
    "for price in range(10,0,-1):\n",
    "    print([x.demand(price) for x in consumers])"
   ]
  },
  {
   "cell_type": "markdown",
   "metadata": {},
   "source": [
    "Notice the vague resemblance to a downward-sloping demand curve. The left-most consumer, with a WTP of 10, always participates for these prices. The right-most consumer only participates at a market price of 1. Now lets try and find participation for each price point, starting at 10."
   ]
  },
  {
   "cell_type": "code",
   "execution_count": 4,
   "metadata": {
    "scrolled": false
   },
   "outputs": [
    {
     "name": "stdout",
     "output_type": "stream",
     "text": [
      "Market Price: Market Participants\n",
      "\n",
      "10: 1\n",
      "9:  2\n",
      "8:  3\n",
      "7:  4\n",
      "6:  5\n",
      "5:  6\n",
      "4:  7\n",
      "3:  8\n",
      "2:  9\n",
      "1:  10\n"
     ]
    }
   ],
   "source": [
    "print(\"Market Price:\", \"Market Participants\")\n",
    "print(\"\")\n",
    "for price in range(10,0,-1):\n",
    "    if price == 10:\n",
    "        print(str(price) + \":\", sum([x.demand(price) for x in consumers]))\n",
    "    else:\n",
    "        print(str(price) + \": \", sum([x.demand(price) for x in consumers]))"
   ]
  },
  {
   "cell_type": "markdown",
   "metadata": {},
   "source": [
    "Here, each number represents the total number of market participants as the market price *decreases* starting from 10. Notice as the price decreases, participation increases in this demand case. Now lets find actual surplus."
   ]
  },
  {
   "cell_type": "code",
   "execution_count": 5,
   "metadata": {
    "scrolled": false
   },
   "outputs": [
    {
     "name": "stdout",
     "output_type": "stream",
     "text": [
      "[0, 0, 0, 0, 0, 0, 0, 0, 0, 0]\n",
      "[1, 0, 0, 0, 0, 0, 0, 0, 0, 0]\n",
      "[2, 1, 0, 0, 0, 0, 0, 0, 0, 0]\n",
      "[3, 2, 1, 0, 0, 0, 0, 0, 0, 0]\n",
      "[4, 3, 2, 1, 0, 0, 0, 0, 0, 0]\n",
      "[5, 4, 3, 2, 1, 0, 0, 0, 0, 0]\n",
      "[6, 5, 4, 3, 2, 1, 0, 0, 0, 0]\n",
      "[7, 6, 5, 4, 3, 2, 1, 0, 0, 0]\n",
      "[8, 7, 6, 5, 4, 3, 2, 1, 0, 0]\n",
      "[9, 8, 7, 6, 5, 4, 3, 2, 1, 0]\n"
     ]
    }
   ],
   "source": [
    "for price in range(10,0,-1):\n",
    "    print([x.surplus(price) for x in consumers])"
   ]
  },
  {
   "cell_type": "markdown",
   "metadata": {},
   "source": [
    "Instead of printing a binary 1 or 0 indicating market participation, we've displayed each participant's actual surplus value. Similarly, let's find total surplus per price point."
   ]
  },
  {
   "cell_type": "code",
   "execution_count": 6,
   "metadata": {
    "scrolled": false
   },
   "outputs": [
    {
     "name": "stdout",
     "output_type": "stream",
     "text": [
      "Market Price: Consumer Surplus\n",
      "\n",
      "10: 0\n",
      "9:  1\n",
      "8:  3\n",
      "7:  6\n",
      "6:  10\n",
      "5:  15\n",
      "4:  21\n",
      "3:  28\n",
      "2:  36\n",
      "1:  45\n"
     ]
    }
   ],
   "source": [
    "print(\"Market Price:\", \"Consumer Surplus\")\n",
    "print(\"\")\n",
    "for price in range(10,0,-1):\n",
    "    if price == 10:\n",
    "        print(str(price) + \":\", sum([x.surplus(price) for x in consumers]))\n",
    "    else:\n",
    "        print(str(price) + \": \", sum([x.surplus(price) for x in consumers]))"
   ]
  },
  {
   "cell_type": "markdown",
   "metadata": {},
   "source": [
    "Clearly there must be an opposite \"force\" at play here, otherwise all prices would converge to 0 as consumers maximize their surplus (more on maximization later). Naturally, we must also consider the producers who sell their product to the consumers. We essentially repeat the exercise above, but now instead of a consumer class with individual willingness to pay, we have a producer class with some minimal market price at which production can occur."
   ]
  },
  {
   "cell_type": "code",
   "execution_count": 7,
   "metadata": {
    "scrolled": false
   },
   "outputs": [
    {
     "name": "stdout",
     "output_type": "stream",
     "text": [
      "[9, 8, 7, 6, 5, 4, 3, 2, 1, 0]\n",
      "[8, 7, 6, 5, 4, 3, 2, 1, 0, 0]\n",
      "[7, 6, 5, 4, 3, 2, 1, 0, 0, 0]\n",
      "[6, 5, 4, 3, 2, 1, 0, 0, 0, 0]\n",
      "[5, 4, 3, 2, 1, 0, 0, 0, 0, 0]\n",
      "[4, 3, 2, 1, 0, 0, 0, 0, 0, 0]\n",
      "[3, 2, 1, 0, 0, 0, 0, 0, 0, 0]\n",
      "[2, 1, 0, 0, 0, 0, 0, 0, 0, 0]\n",
      "[1, 0, 0, 0, 0, 0, 0, 0, 0, 0]\n",
      "[0, 0, 0, 0, 0, 0, 0, 0, 0, 0]\n"
     ]
    }
   ],
   "source": [
    "class Producer:\n",
    "    def __init__(self, WTA):\n",
    "        self.WTA = WTA\n",
    "    def supply(self, price):\n",
    "        if price >= self.WTA:\n",
    "            return 1\n",
    "        else:\n",
    "            return 0\n",
    "    def surplus(self, price):\n",
    "        if price >= self.WTA:\n",
    "            return price - self.WTA\n",
    "        else:\n",
    "            return 0\n",
    "        \n",
    "producers = [Producer(x) for x in range(1,11)]\n",
    "\n",
    "for price in range(10,0,-1):\n",
    "    print([x.surplus(price) for x in producers])"
   ]
  },
  {
   "cell_type": "markdown",
   "metadata": {},
   "source": [
    "Looks familiar, but with an opposite slope! Here we've captured the idea of producer surplus. At a market price of 10, the leftmost producer is very happy with a surplus of 9, as in this case that producer is actually able to produce and sell at a price of 1 but is able to operate at a price of 10."
   ]
  },
  {
   "cell_type": "markdown",
   "metadata": {},
   "source": [
    "## Some Thoughts"
   ]
  },
  {
   "cell_type": "markdown",
   "metadata": {},
   "source": [
    "Before we continue, let's take a moment to think about the meaning and significance of our findings. Firms that can produce at lower market prices than their peers seem to be better off in the sense that they enjoy higher surplus. This minimum production price is based on the costs of operation the firm experiences, so naturally it seems that firms that can operate at lower costs do better. Certainly, if market prices decrease, more inefficent firms would be the first to shut down while these low operating cost firms continue to do business. This idea is very important in economics: Firms that can reduce their costs are rewarded with higher surplus. This is pretty much how society advances, at least in an economics context. Production methods continually to improve, and less efficient firms must either follow suit or shut down as prices decrease, to the benefit of consumers.\n",
    "\n",
    "However, what would the equivalent be for the consumer side of things? We've discussed the idea of willingness to pay, and initially it might seem that in our perfectly-competitive market environment, only the consumers who most need a good or service will be the first to get it, as their WTP is the highest. We might think that resources are efficiently allocated in this way. Most of the time this is likely the case, but we've made an assumption while reaching this conclusion; an assumption that doesn't necessarily hold. We have assumed that a person with high willingness to pay also has at least an equally high *ability* to pay. In reality, this might not be the case. A hungry person might have high WTP for a serving of food, but if this person lacks the means to pay for this food, his willingness to pay won't do him much good. In this scenario, our earlier exercise reflects willingness to pay with a simultaneous ability to pay as well. While this week isn't about the ethics of certain types of markets and whether they achieve their goals, it's important to keep in mind that in these ideal exercises, an efficient economy with rational pricing should reflect consumers' willingness to pay, whereas in reality this might not actually be the case."
   ]
  },
  {
   "cell_type": "markdown",
   "metadata": {},
   "source": [
    "## Note on the Demand and Supply Curves"
   ]
  },
  {
   "cell_type": "markdown",
   "metadata": {},
   "source": [
    "As pointed out above, the matrix we saw with rows of surpluses and columns of prices resembles the demand curve in the sense that we can see a diagonal line separating participants from non-participants. This is no coincidence. This idea is essentially what the demand and supply curves depict, except that due to there usually being many participants in a market, we simplify the concept to a continuous curve as opposed to a set of discrete values. This is helpful not only for visualization, but as we will soon see we can use these curves to find rates of change, which will prove to be useful as well."
   ]
  },
  {
   "cell_type": "markdown",
   "metadata": {},
   "source": [
    "Earlier we had a matrix of each individual's surplus at each price point, and the overall surplus at each price point. Notice how as the price decreased, surplus increased. Let's see this exact same concept illustrated on a familiar demand curve. Take a few moments to adjust the slider controlling the market price to see how consumer surplus behaves."
   ]
  },
  {
   "cell_type": "code",
   "execution_count": 8,
   "metadata": {
    "scrolled": false,
    "tags": [
     "remove_input"
    ]
   },
   "outputs": [
    {
     "data": {
      "image/png": "[encoded data removed]",
      "text/plain": [
       "<Figure size 648x432 with 1 Axes>"
      ]
     },
     "metadata": {
      "needs_background": "light"
     },
     "output_type": "display_data"
    },
    {
     "name": "stdout",
     "output_type": "stream",
     "text": [
      "Consumer surplus is equal to: 15\n"
     ]
    }
   ],
   "source": [
    "def demand(price):\n",
    "    p = sympy.Symbol(\"p\")\n",
    "    consumers = [Consumer(x) for x in range(0,11)]\n",
    "    demand_equation = 10 - p\n",
    "    prices = [x for x in range(0,11)]\n",
    "    demand_Q = [demand_equation.subs(p,x) for x in prices]\n",
    "    \n",
    "    plt.figure(figsize = [9,6])\n",
    "    plt.plot(prices, demand_Q)\n",
    "    plt.plot(demand_equation.subs(p,price), price, 'ro')\n",
    "    \n",
    "    triangle1 = patches.Polygon([[demand_equation.subs(p,price),price], [0,price], [0,10]], True, color='g')\n",
    "    current_axis = plt.gca()\n",
    "    current_axis.add_patch(triangle1)\n",
    "    \n",
    "    plt.xlabel(\"Demand Quantity\")\n",
    "    plt.ylabel(\"Price\")\n",
    "    plt.title(\"Demand Curve with Consumer Surplus Shaded\")\n",
    "    plt.show()\n",
    "    print(\"Consumer surplus is equal to: \"+str(sum([person.surplus(price) for person in consumers])))\n",
    "\n",
    "#slider1 = widgets.IntSlider(min=1, max=10, step=1, value=5)\n",
    "#display(widgets.interactive(demand, price=slider1))\n",
    "demand(5)"
   ]
  },
  {
   "cell_type": "markdown",
   "metadata": {},
   "source": [
    "Producer surplus with the supply curve works exactly the same way but mirrored to reflect the fact that producers gain surplus from higher prices instead of lower."
   ]
  },
  {
   "cell_type": "code",
   "execution_count": 9,
   "metadata": {
    "scrolled": false,
    "tags": [
     "remove_input"
    ]
   },
   "outputs": [
    {
     "data": {
      "image/png": "[encoded data removed]",
      "text/plain": [
       "<Figure size 648x432 with 1 Axes>"
      ]
     },
     "metadata": {
      "needs_background": "light"
     },
     "output_type": "display_data"
    },
    {
     "name": "stdout",
     "output_type": "stream",
     "text": [
      "Producer surplus is equal to: 10\n"
     ]
    }
   ],
   "source": [
    "def supply(price):\n",
    "    p = sympy.Symbol(\"p\")\n",
    "    producers = [Producer(x) for x in range(1,11)]\n",
    "    supply_equation = p\n",
    "    prices = [x for x in range(0,11)]\n",
    "    supply_Q = [supply_equation.subs(p,x) for x in prices]\n",
    "    \n",
    "    plt.figure(figsize = [9,6])\n",
    "    plt.plot(prices, supply_Q, 'r')\n",
    "    plt.plot(supply_equation.subs(p,price), price, 'ro')\n",
    "    \n",
    "    triangle1 = patches.Polygon([[supply_equation.subs(p,price),price], [0,price], [0,0]], True, color='g')\n",
    "    current_axis = plt.gca()\n",
    "    current_axis.add_patch(triangle1)\n",
    "    \n",
    "    plt.xlabel(\"Supply Quantity\")\n",
    "    plt.ylabel(\"Price\")\n",
    "    plt.title(\"Supply Curve with Producer Surplus Shaded\")\n",
    "    plt.show()\n",
    "    print(\"Producer surplus is equal to: \"+str(sum([person.surplus(price) for person in producers])))\n",
    "\n",
    "#slider1 = widgets.IntSlider(min=1, max=10, step=1, value=5)\n",
    "#display(widgets.interactive(supply, price=slider1))\n",
    "supply(5)"
   ]
  },
  {
   "cell_type": "markdown",
   "metadata": {},
   "source": [
    "Here we used a demand curve of $10-P$ and a supply curve of $P$. Now explore how the surplus changes with shifts in the curves below. `demandParam` adjusts the intercept of the demand curve, `supplyParam` adjusts the slope of the supply curve."
   ]
  },
  {
   "cell_type": "code",
   "execution_count": 10,
   "metadata": {
    "scrolled": false,
    "tags": [
     "remove_input"
    ]
   },
   "outputs": [
    {
     "data": {
      "image/png": "[encoded data removed]",
      "text/plain": [
       "<Figure size 648x432 with 1 Axes>"
      ]
     },
     "metadata": {
      "needs_background": "light"
     },
     "output_type": "display_data"
    },
    {
     "name": "stdout",
     "output_type": "stream",
     "text": [
      "The equilibrium price is 5.0 and equilibrium quantity is 5.0.\n",
      "The consumer surplus at this equilibrium 12.5000000000000\n",
      "The producer surplus at this equilibrium 12.5000000000000\n"
     ]
    }
   ],
   "source": [
    "def equilibrium(demandParam, supplyParam):\n",
    "    p = sympy.Symbol(\"p\")\n",
    "    demand_equation = demandParam - p\n",
    "    supply_equation = p * (supplyParam / 10)\n",
    "    price_end = sympy.solve(demand_equation)[0]\n",
    "    prices = []\n",
    "    demand_Q = []\n",
    "    supply_Q = []\n",
    "    for price in range(0, price_end + 1):\n",
    "        prices += [price]\n",
    "        demand_Q += [demand_equation.subs(p,price)]\n",
    "        supply_Q += [supply_equation.subs(p,price)]\n",
    "    \n",
    "    equilibrium_P = sympy.solve(demand_equation-supply_equation)[0]\n",
    "    equilibrium_Q = demand_equation.subs(p,equilibrium_P)\n",
    "    \n",
    "    plt.figure(figsize = [9,6])\n",
    "    plt.plot(demand_Q,prices, label=\"Demand\")\n",
    "    plt.plot(supply_Q,prices, 'r', label=\"Supply\")\n",
    "    plt.legend()\n",
    "    plt.plot(equilibrium_Q,equilibrium_P, 'ro')\n",
    "    \n",
    "    triangle1 = patches.Polygon([[equilibrium_Q,equilibrium_P], [0,equilibrium_P], [0,price_end]], True, color=\"green\")\n",
    "    triangle2 = patches.Polygon([[equilibrium_Q,equilibrium_P], [0,equilibrium_P], [0,0]], True, color=\"lightgreen\")\n",
    "    current_axis = plt.gca()\n",
    "    current_axis.add_patch(triangle1)\n",
    "    current_axis.add_patch(triangle2)\n",
    "    \n",
    "    plt.xlabel(\"Supply and Demand Quantity\")\n",
    "    plt.ylabel(\"Price\")\n",
    "    plt.title(\"Supply and Demand Curves with Surplus Shaded\")\n",
    "    plt.ylim(0, 15)\n",
    "    plt.xlim(0, 10)\n",
    "    plt.show()\n",
    "    print(\"The equilibrium price is \"+str(round(equilibrium_P,2))+\" and equilibrium quantity is \"+str(round(equilibrium_Q,2))+\".\")\n",
    "    print(\"The consumer surplus at this equilibrium \"+str((price_end-equilibrium_P)*(equilibrium_Q)*.5))\n",
    "    print(\"The producer surplus at this equilibrium \"+str((equilibrium_P)*(equilibrium_Q)*.5))\n",
    "\n",
    "#slider1 = widgets.IntSlider(min=5, max=15,step=1,value=10)\n",
    "#slider2 = widgets.IntSlider(min=5, max=15,step=1,value=10)\n",
    "#display(widgets.interactive(equilibrium, demandParam=slider1, supplyParam=slider2))\n",
    "equilibrium(10, 10)"
   ]
  },
  {
   "cell_type": "markdown",
   "metadata": {},
   "source": [
    " "
   ]
  }
 ],
 "metadata": {
  "celltoolbar": "Tags",
  "kernelspec": {
   "display_name": "Python 3",
   "language": "python",
   "name": "python3"
  },
  "language_info": {
   "codemirror_mode": {
    "name": "ipython",
    "version": 3
   },
   "file_extension": ".py",
   "mimetype": "text/x-python",
   "name": "python",
   "nbconvert_exporter": "python",
   "pygments_lexer": "ipython3",
   "version": "3.6.5"
  },
  "varInspector": {
   "cols": {
    "lenName": 16,
    "lenType": 16,
    "lenVar": 40
   },
   "kernels_config": {
    "python": {
     "delete_cmd_postfix": "",
     "delete_cmd_prefix": "del ",
     "library": "var_list.py",
     "varRefreshCmd": "print(var_dic_list())"
    },
    "r": {
     "delete_cmd_postfix": ") ",
     "delete_cmd_prefix": "rm(",
     "library": "var_list.r",
     "varRefreshCmd": "cat(var_dic_list()) "
    }
   },
   "types_to_exclude": [
    "module",
    "function",
    "builtin_function_or_method",
    "instance",
    "_Feature"
   ],
   "window_display": false
  }
 },
 "nbformat": 4,
 "nbformat_minor": 2
}
